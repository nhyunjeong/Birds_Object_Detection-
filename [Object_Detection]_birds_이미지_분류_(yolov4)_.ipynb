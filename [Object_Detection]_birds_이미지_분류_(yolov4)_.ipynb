{
  "nbformat": 4,
  "nbformat_minor": 0,
  "metadata": {
    "colab": {
      "provenance": [],
      "collapsed_sections": [],
      "include_colab_link": true
    },
    "kernelspec": {
      "name": "python3",
      "display_name": "Python 3"
    },
    "language_info": {
      "name": "python"
    },
    "accelerator": "GPU",
    "gpuClass": "standard"
  },
  "cells": [
    {
      "cell_type": "markdown",
      "metadata": {
        "id": "view-in-github",
        "colab_type": "text"
      },
      "source": [
        "<a href=\"https://colab.research.google.com/github/nhyunjeong/bird-classification-/blob/main/%5BObject_Detection%5D_birds_%EC%9D%B4%EB%AF%B8%EC%A7%80_%EB%B6%84%EB%A5%98_(yolov4)_.ipynb\" target=\"_parent\"><img src=\"https://colab.research.google.com/assets/colab-badge.svg\" alt=\"Open In Colab\"/></a>"
      ]
    },
    {
      "cell_type": "code",
      "execution_count": null,
      "metadata": {
        "colab": {
          "base_uri": "https://localhost:8080/"
        },
        "id": "VYALo7yZh4zj",
        "outputId": "831871bb-f256-498d-a609-6cc8b82aff34"
      },
      "outputs": [
        {
          "output_type": "stream",
          "name": "stdout",
          "text": [
            "GPU 0: Tesla T4 (UUID: GPU-12ce6e50-bf9d-b6cd-1e68-340dd12dcef4)\n"
          ]
        }
      ],
      "source": [
        "# 구글 드라이브 GPU 버전 확인하기 \n",
        "!nvidia-smi -L"
      ]
    },
    {
      "cell_type": "markdown",
      "source": [
        "사전 확인사항 \n",
        "1. 라벨링한 이미지 .zip 파일 업로드하기 (코랩에)\n",
        "2.  구글 드라이브 마운트"
      ],
      "metadata": {
        "id": "5Hcs8Po3jWXT"
      }
    },
    {
      "cell_type": "code",
      "source": [
        "from google.colab import drive\n",
        "drive.mount('/content/drive')"
      ],
      "metadata": {
        "colab": {
          "base_uri": "https://localhost:8080/"
        },
        "id": "cftIc2ChiE_E",
        "outputId": "e6e081dc-f0eb-4619-b7d2-29d78ca55fd0"
      },
      "execution_count": null,
      "outputs": [
        {
          "output_type": "stream",
          "name": "stdout",
          "text": [
            "Mounted at /content/drive\n"
          ]
        }
      ]
    },
    {
      "cell_type": "markdown",
      "source": [
        "\n",
        "3.yolo_custom_model_Training3 폴더 생성하기 (mkdir) \n",
        "\n",
        "- yolo_custom_model_Training3 폴더 안에 라벨링한 이미지 .zip 위치 이동하기 (드라이브에서 직접 넣는게 편함) "
      ],
      "metadata": {
        "id": "2zal6wQIwC6p"
      }
    },
    {
      "cell_type": "code",
      "source": [
        "%cd /content/drive/MyDrive\n",
        "!mkdir yolo_custom_model_Training3"
      ],
      "metadata": {
        "id": "CiNlAAzFkYq2",
        "colab": {
          "base_uri": "https://localhost:8080/"
        },
        "outputId": "a5a8e65b-8635-4b50-dfca-6a011d789404"
      },
      "execution_count": null,
      "outputs": [
        {
          "output_type": "stream",
          "name": "stdout",
          "text": [
            "/content/drive/MyDrive\n",
            "mkdir: cannot create directory ‘yolo_custom_model_Training3’: File exists\n"
          ]
        }
      ]
    },
    {
      "cell_type": "markdown",
      "source": [
        "4. 만든 폴더 위치로 이동하기\n",
        "- 가져다 놓은 zip 파일 있는지 ls 로 확인하기 "
      ],
      "metadata": {
        "id": "uVJ0aPKrxRiZ"
      }
    },
    {
      "cell_type": "code",
      "source": [
        "#'/content/drive/MyDrive/yolo_custom_model_Training3' 밑에 어떤 것들이 있는지 확인하기(처음엘 라벨링된 zip 파일만 존재 )\n",
        "!ls '/content/drive/MyDrive/yolo_custom_model_Training3'\n"
      ],
      "metadata": {
        "id": "5dnqGlZ9xUd7",
        "colab": {
          "base_uri": "https://localhost:8080/"
        },
        "outputId": "6d614453-c2d8-4cf8-c826-449b33a54958"
      },
      "execution_count": null,
      "outputs": [
        {
          "output_type": "stream",
          "name": "stdout",
          "text": [
            "all2_birds.zip\tyolov4.conv.137\n"
          ]
        }
      ]
    },
    {
      "cell_type": "markdown",
      "source": [
        "5. /content/drive/MyDrive/yolo_custom_model_Training3' 로 이동하여 custom_data 라는 폴더 생성"
      ],
      "metadata": {
        "id": "U_f5vy2cULOY"
      }
    },
    {
      "cell_type": "code",
      "source": [
        "%cd '/content/drive/MyDrive/yolo_custom_model_Training3' \n",
        "!mkdir custom_data "
      ],
      "metadata": {
        "colab": {
          "base_uri": "https://localhost:8080/"
        },
        "id": "Q50D5drBTCrX",
        "outputId": "981a29ff-c777-4f37-d6c5-a518129ca6da"
      },
      "execution_count": null,
      "outputs": [
        {
          "output_type": "stream",
          "name": "stdout",
          "text": [
            "/content/drive/MyDrive/yolo_custom_model_Training3\n"
          ]
        }
      ]
    },
    {
      "cell_type": "markdown",
      "source": [
        "6. 라벨링된zip파일의 압축을 custom_data 폴더 밑에 압축해제하기"
      ],
      "metadata": {
        "id": "vvxaDUmGztog"
      }
    },
    {
      "cell_type": "code",
      "source": [
        "!unzip '/content/drive/MyDrive/yolo_custom_model_Training3/all2_birds.zip' -d '/content/drive/MyDrive/yolo_custom_model_Training3/custom_data'"
      ],
      "metadata": {
        "colab": {
          "base_uri": "https://localhost:8080/"
        },
        "id": "qdUbUYna0EBT",
        "outputId": "faea7f05-e278-4bba-c058-63fb0a511a7a"
      },
      "execution_count": null,
      "outputs": [
        {
          "output_type": "stream",
          "name": "stdout",
          "text": [
            "Archive:  /content/drive/MyDrive/yolo_custom_model_Training3/all2_birds.zip\n",
            "  inflating: /content/drive/MyDrive/yolo_custom_model_Training3/custom_data/1.jpg  \n",
            "  inflating: /content/drive/MyDrive/yolo_custom_model_Training3/custom_data/1.txt  \n",
            "  inflating: /content/drive/MyDrive/yolo_custom_model_Training3/custom_data/10.jpg  \n",
            "  inflating: /content/drive/MyDrive/yolo_custom_model_Training3/custom_data/10.txt  \n",
            "  inflating: /content/drive/MyDrive/yolo_custom_model_Training3/custom_data/100.jpg  \n",
            "  inflating: /content/drive/MyDrive/yolo_custom_model_Training3/custom_data/100.txt  \n",
            "  inflating: /content/drive/MyDrive/yolo_custom_model_Training3/custom_data/101.jpg  \n",
            "  inflating: /content/drive/MyDrive/yolo_custom_model_Training3/custom_data/101.txt  \n",
            "  inflating: /content/drive/MyDrive/yolo_custom_model_Training3/custom_data/102.jpg  \n",
            "  inflating: /content/drive/MyDrive/yolo_custom_model_Training3/custom_data/102.txt  \n",
            "  inflating: /content/drive/MyDrive/yolo_custom_model_Training3/custom_data/103.jpg  \n",
            "  inflating: /content/drive/MyDrive/yolo_custom_model_Training3/custom_data/103.txt  \n",
            "  inflating: /content/drive/MyDrive/yolo_custom_model_Training3/custom_data/104.jpg  \n",
            "  inflating: /content/drive/MyDrive/yolo_custom_model_Training3/custom_data/104.txt  \n",
            "  inflating: /content/drive/MyDrive/yolo_custom_model_Training3/custom_data/105.jpg  \n",
            "  inflating: /content/drive/MyDrive/yolo_custom_model_Training3/custom_data/105.txt  \n",
            "  inflating: /content/drive/MyDrive/yolo_custom_model_Training3/custom_data/106.jpg  \n",
            "  inflating: /content/drive/MyDrive/yolo_custom_model_Training3/custom_data/106.txt  \n",
            "  inflating: /content/drive/MyDrive/yolo_custom_model_Training3/custom_data/107.jpg  \n",
            "  inflating: /content/drive/MyDrive/yolo_custom_model_Training3/custom_data/107.txt  \n",
            "  inflating: /content/drive/MyDrive/yolo_custom_model_Training3/custom_data/108.jpg  \n",
            "  inflating: /content/drive/MyDrive/yolo_custom_model_Training3/custom_data/108.txt  \n",
            "  inflating: /content/drive/MyDrive/yolo_custom_model_Training3/custom_data/109.jpg  \n",
            "  inflating: /content/drive/MyDrive/yolo_custom_model_Training3/custom_data/109.txt  \n",
            "  inflating: /content/drive/MyDrive/yolo_custom_model_Training3/custom_data/11.jpg  \n",
            "  inflating: /content/drive/MyDrive/yolo_custom_model_Training3/custom_data/11.txt  \n",
            "  inflating: /content/drive/MyDrive/yolo_custom_model_Training3/custom_data/110.jpg  \n",
            "  inflating: /content/drive/MyDrive/yolo_custom_model_Training3/custom_data/110.txt  \n",
            "  inflating: /content/drive/MyDrive/yolo_custom_model_Training3/custom_data/111.jpg  \n",
            "  inflating: /content/drive/MyDrive/yolo_custom_model_Training3/custom_data/111.txt  \n",
            "  inflating: /content/drive/MyDrive/yolo_custom_model_Training3/custom_data/112.jpg  \n",
            "  inflating: /content/drive/MyDrive/yolo_custom_model_Training3/custom_data/112.txt  \n",
            "  inflating: /content/drive/MyDrive/yolo_custom_model_Training3/custom_data/113.jpg  \n",
            "  inflating: /content/drive/MyDrive/yolo_custom_model_Training3/custom_data/113.txt  \n",
            "  inflating: /content/drive/MyDrive/yolo_custom_model_Training3/custom_data/114.jpg  \n",
            "  inflating: /content/drive/MyDrive/yolo_custom_model_Training3/custom_data/114.txt  \n",
            "  inflating: /content/drive/MyDrive/yolo_custom_model_Training3/custom_data/115.jpg  \n",
            "  inflating: /content/drive/MyDrive/yolo_custom_model_Training3/custom_data/115.txt  \n",
            "  inflating: /content/drive/MyDrive/yolo_custom_model_Training3/custom_data/116.jpg  \n",
            "  inflating: /content/drive/MyDrive/yolo_custom_model_Training3/custom_data/116.txt  \n",
            "  inflating: /content/drive/MyDrive/yolo_custom_model_Training3/custom_data/117.jpg  \n",
            "  inflating: /content/drive/MyDrive/yolo_custom_model_Training3/custom_data/117.txt  \n",
            "  inflating: /content/drive/MyDrive/yolo_custom_model_Training3/custom_data/118.jpg  \n",
            "  inflating: /content/drive/MyDrive/yolo_custom_model_Training3/custom_data/118.txt  \n",
            "  inflating: /content/drive/MyDrive/yolo_custom_model_Training3/custom_data/119.jpg  \n",
            "  inflating: /content/drive/MyDrive/yolo_custom_model_Training3/custom_data/119.txt  \n",
            "  inflating: /content/drive/MyDrive/yolo_custom_model_Training3/custom_data/12.jpg  \n",
            "  inflating: /content/drive/MyDrive/yolo_custom_model_Training3/custom_data/12.txt  \n",
            "  inflating: /content/drive/MyDrive/yolo_custom_model_Training3/custom_data/120.jpg  \n",
            "  inflating: /content/drive/MyDrive/yolo_custom_model_Training3/custom_data/120.txt  \n",
            "  inflating: /content/drive/MyDrive/yolo_custom_model_Training3/custom_data/121.jpg  \n",
            "  inflating: /content/drive/MyDrive/yolo_custom_model_Training3/custom_data/121.txt  \n",
            "  inflating: /content/drive/MyDrive/yolo_custom_model_Training3/custom_data/122.jpg  \n",
            "  inflating: /content/drive/MyDrive/yolo_custom_model_Training3/custom_data/122.txt  \n",
            "  inflating: /content/drive/MyDrive/yolo_custom_model_Training3/custom_data/123.jpg  \n",
            "  inflating: /content/drive/MyDrive/yolo_custom_model_Training3/custom_data/123.txt  \n",
            "  inflating: /content/drive/MyDrive/yolo_custom_model_Training3/custom_data/124.jpg  \n",
            "  inflating: /content/drive/MyDrive/yolo_custom_model_Training3/custom_data/124.txt  \n",
            "  inflating: /content/drive/MyDrive/yolo_custom_model_Training3/custom_data/125.jpg  \n",
            "  inflating: /content/drive/MyDrive/yolo_custom_model_Training3/custom_data/125.txt  \n",
            "  inflating: /content/drive/MyDrive/yolo_custom_model_Training3/custom_data/126.jpg  \n",
            "  inflating: /content/drive/MyDrive/yolo_custom_model_Training3/custom_data/126.txt  \n",
            "  inflating: /content/drive/MyDrive/yolo_custom_model_Training3/custom_data/127.jpg  \n",
            "  inflating: /content/drive/MyDrive/yolo_custom_model_Training3/custom_data/127.txt  \n",
            "  inflating: /content/drive/MyDrive/yolo_custom_model_Training3/custom_data/128.jpg  \n",
            "  inflating: /content/drive/MyDrive/yolo_custom_model_Training3/custom_data/128.txt  \n",
            "  inflating: /content/drive/MyDrive/yolo_custom_model_Training3/custom_data/129.jpg  \n",
            "  inflating: /content/drive/MyDrive/yolo_custom_model_Training3/custom_data/129.txt  \n",
            "  inflating: /content/drive/MyDrive/yolo_custom_model_Training3/custom_data/13.jpg  \n",
            "  inflating: /content/drive/MyDrive/yolo_custom_model_Training3/custom_data/13.txt  \n",
            "  inflating: /content/drive/MyDrive/yolo_custom_model_Training3/custom_data/130.jpg  \n",
            "  inflating: /content/drive/MyDrive/yolo_custom_model_Training3/custom_data/130.txt  \n",
            "  inflating: /content/drive/MyDrive/yolo_custom_model_Training3/custom_data/131.jpg  \n",
            "  inflating: /content/drive/MyDrive/yolo_custom_model_Training3/custom_data/131.txt  \n",
            "  inflating: /content/drive/MyDrive/yolo_custom_model_Training3/custom_data/132.jpg  \n",
            "  inflating: /content/drive/MyDrive/yolo_custom_model_Training3/custom_data/132.txt  \n",
            "  inflating: /content/drive/MyDrive/yolo_custom_model_Training3/custom_data/133.jpg  \n",
            "  inflating: /content/drive/MyDrive/yolo_custom_model_Training3/custom_data/133.txt  \n",
            "  inflating: /content/drive/MyDrive/yolo_custom_model_Training3/custom_data/134.jpg  \n",
            "  inflating: /content/drive/MyDrive/yolo_custom_model_Training3/custom_data/134.txt  \n",
            "  inflating: /content/drive/MyDrive/yolo_custom_model_Training3/custom_data/135.jpg  \n",
            "  inflating: /content/drive/MyDrive/yolo_custom_model_Training3/custom_data/135.txt  \n",
            "  inflating: /content/drive/MyDrive/yolo_custom_model_Training3/custom_data/136.jpg  \n",
            "  inflating: /content/drive/MyDrive/yolo_custom_model_Training3/custom_data/136.txt  \n",
            "  inflating: /content/drive/MyDrive/yolo_custom_model_Training3/custom_data/137.jpg  \n",
            "  inflating: /content/drive/MyDrive/yolo_custom_model_Training3/custom_data/137.txt  \n",
            "  inflating: /content/drive/MyDrive/yolo_custom_model_Training3/custom_data/138.jpg  \n",
            "  inflating: /content/drive/MyDrive/yolo_custom_model_Training3/custom_data/138.txt  \n",
            "  inflating: /content/drive/MyDrive/yolo_custom_model_Training3/custom_data/139.jpg  \n",
            "  inflating: /content/drive/MyDrive/yolo_custom_model_Training3/custom_data/139.txt  \n",
            "  inflating: /content/drive/MyDrive/yolo_custom_model_Training3/custom_data/14.jpg  \n",
            "  inflating: /content/drive/MyDrive/yolo_custom_model_Training3/custom_data/14.txt  \n",
            "  inflating: /content/drive/MyDrive/yolo_custom_model_Training3/custom_data/140.jpg  \n",
            "  inflating: /content/drive/MyDrive/yolo_custom_model_Training3/custom_data/140.txt  \n",
            "  inflating: /content/drive/MyDrive/yolo_custom_model_Training3/custom_data/141.jpg  \n",
            "  inflating: /content/drive/MyDrive/yolo_custom_model_Training3/custom_data/141.txt  \n",
            "  inflating: /content/drive/MyDrive/yolo_custom_model_Training3/custom_data/142.jpg  \n",
            "  inflating: /content/drive/MyDrive/yolo_custom_model_Training3/custom_data/142.txt  \n",
            "  inflating: /content/drive/MyDrive/yolo_custom_model_Training3/custom_data/143.jpg  \n",
            "  inflating: /content/drive/MyDrive/yolo_custom_model_Training3/custom_data/143.txt  \n",
            "  inflating: /content/drive/MyDrive/yolo_custom_model_Training3/custom_data/144.jpg  \n",
            "  inflating: /content/drive/MyDrive/yolo_custom_model_Training3/custom_data/144.txt  \n",
            "  inflating: /content/drive/MyDrive/yolo_custom_model_Training3/custom_data/145.jpg  \n",
            "  inflating: /content/drive/MyDrive/yolo_custom_model_Training3/custom_data/145.txt  \n",
            "  inflating: /content/drive/MyDrive/yolo_custom_model_Training3/custom_data/146.jpg  \n",
            "  inflating: /content/drive/MyDrive/yolo_custom_model_Training3/custom_data/146.txt  \n",
            "  inflating: /content/drive/MyDrive/yolo_custom_model_Training3/custom_data/147.jpg  \n",
            "  inflating: /content/drive/MyDrive/yolo_custom_model_Training3/custom_data/147.txt  \n",
            "  inflating: /content/drive/MyDrive/yolo_custom_model_Training3/custom_data/148.jpg  \n",
            "  inflating: /content/drive/MyDrive/yolo_custom_model_Training3/custom_data/148.txt  \n",
            "  inflating: /content/drive/MyDrive/yolo_custom_model_Training3/custom_data/149.jpg  \n",
            "  inflating: /content/drive/MyDrive/yolo_custom_model_Training3/custom_data/149.txt  \n",
            "  inflating: /content/drive/MyDrive/yolo_custom_model_Training3/custom_data/15.jpg  \n",
            "  inflating: /content/drive/MyDrive/yolo_custom_model_Training3/custom_data/15.txt  \n",
            "  inflating: /content/drive/MyDrive/yolo_custom_model_Training3/custom_data/150.jpg  \n",
            "  inflating: /content/drive/MyDrive/yolo_custom_model_Training3/custom_data/150.txt  \n",
            "  inflating: /content/drive/MyDrive/yolo_custom_model_Training3/custom_data/151.jpg  \n",
            "  inflating: /content/drive/MyDrive/yolo_custom_model_Training3/custom_data/151.txt  \n",
            "  inflating: /content/drive/MyDrive/yolo_custom_model_Training3/custom_data/152.jpg  \n",
            "  inflating: /content/drive/MyDrive/yolo_custom_model_Training3/custom_data/152.txt  \n",
            "  inflating: /content/drive/MyDrive/yolo_custom_model_Training3/custom_data/153.jpg  \n",
            "  inflating: /content/drive/MyDrive/yolo_custom_model_Training3/custom_data/153.txt  \n",
            "  inflating: /content/drive/MyDrive/yolo_custom_model_Training3/custom_data/154.jpg  \n",
            "  inflating: /content/drive/MyDrive/yolo_custom_model_Training3/custom_data/154.txt  \n",
            "  inflating: /content/drive/MyDrive/yolo_custom_model_Training3/custom_data/155.jpg  \n",
            "  inflating: /content/drive/MyDrive/yolo_custom_model_Training3/custom_data/155.txt  \n",
            "  inflating: /content/drive/MyDrive/yolo_custom_model_Training3/custom_data/156.jpg  \n",
            "  inflating: /content/drive/MyDrive/yolo_custom_model_Training3/custom_data/156.txt  \n",
            "  inflating: /content/drive/MyDrive/yolo_custom_model_Training3/custom_data/157.jpg  \n",
            "  inflating: /content/drive/MyDrive/yolo_custom_model_Training3/custom_data/157.txt  \n",
            "  inflating: /content/drive/MyDrive/yolo_custom_model_Training3/custom_data/158.jpg  \n",
            "  inflating: /content/drive/MyDrive/yolo_custom_model_Training3/custom_data/158.txt  \n",
            "  inflating: /content/drive/MyDrive/yolo_custom_model_Training3/custom_data/159.jpg  \n",
            "  inflating: /content/drive/MyDrive/yolo_custom_model_Training3/custom_data/159.txt  \n",
            "  inflating: /content/drive/MyDrive/yolo_custom_model_Training3/custom_data/16.jpg  \n",
            "  inflating: /content/drive/MyDrive/yolo_custom_model_Training3/custom_data/16.txt  \n",
            "  inflating: /content/drive/MyDrive/yolo_custom_model_Training3/custom_data/160.jpg  \n",
            "  inflating: /content/drive/MyDrive/yolo_custom_model_Training3/custom_data/160.txt  \n",
            "  inflating: /content/drive/MyDrive/yolo_custom_model_Training3/custom_data/161.jpg  \n",
            "  inflating: /content/drive/MyDrive/yolo_custom_model_Training3/custom_data/161.txt  \n",
            "  inflating: /content/drive/MyDrive/yolo_custom_model_Training3/custom_data/162.jpg  \n",
            "  inflating: /content/drive/MyDrive/yolo_custom_model_Training3/custom_data/162.txt  \n",
            "  inflating: /content/drive/MyDrive/yolo_custom_model_Training3/custom_data/163.jpg  \n",
            "  inflating: /content/drive/MyDrive/yolo_custom_model_Training3/custom_data/163.txt  \n",
            "  inflating: /content/drive/MyDrive/yolo_custom_model_Training3/custom_data/164.jpg  \n",
            "  inflating: /content/drive/MyDrive/yolo_custom_model_Training3/custom_data/164.txt  \n",
            "  inflating: /content/drive/MyDrive/yolo_custom_model_Training3/custom_data/165.jpg  \n",
            "  inflating: /content/drive/MyDrive/yolo_custom_model_Training3/custom_data/165.txt  \n",
            "  inflating: /content/drive/MyDrive/yolo_custom_model_Training3/custom_data/166.jpg  \n",
            "  inflating: /content/drive/MyDrive/yolo_custom_model_Training3/custom_data/166.txt  \n",
            "  inflating: /content/drive/MyDrive/yolo_custom_model_Training3/custom_data/167.jpg  \n",
            "  inflating: /content/drive/MyDrive/yolo_custom_model_Training3/custom_data/167.txt  \n",
            "  inflating: /content/drive/MyDrive/yolo_custom_model_Training3/custom_data/168.jpg  \n",
            "  inflating: /content/drive/MyDrive/yolo_custom_model_Training3/custom_data/168.txt  \n",
            "  inflating: /content/drive/MyDrive/yolo_custom_model_Training3/custom_data/169.jpg  \n",
            "  inflating: /content/drive/MyDrive/yolo_custom_model_Training3/custom_data/169.txt  \n",
            "  inflating: /content/drive/MyDrive/yolo_custom_model_Training3/custom_data/17.jpg  \n",
            "  inflating: /content/drive/MyDrive/yolo_custom_model_Training3/custom_data/17.txt  \n",
            "  inflating: /content/drive/MyDrive/yolo_custom_model_Training3/custom_data/170.jpg  \n",
            "  inflating: /content/drive/MyDrive/yolo_custom_model_Training3/custom_data/170.txt  \n",
            "  inflating: /content/drive/MyDrive/yolo_custom_model_Training3/custom_data/171.jpg  \n",
            "  inflating: /content/drive/MyDrive/yolo_custom_model_Training3/custom_data/171.txt  \n",
            "  inflating: /content/drive/MyDrive/yolo_custom_model_Training3/custom_data/172.jpg  \n",
            "  inflating: /content/drive/MyDrive/yolo_custom_model_Training3/custom_data/172.txt  \n",
            "  inflating: /content/drive/MyDrive/yolo_custom_model_Training3/custom_data/173.jpg  \n",
            "  inflating: /content/drive/MyDrive/yolo_custom_model_Training3/custom_data/173.txt  \n",
            "  inflating: /content/drive/MyDrive/yolo_custom_model_Training3/custom_data/174.jpg  \n",
            "  inflating: /content/drive/MyDrive/yolo_custom_model_Training3/custom_data/174.txt  \n",
            "  inflating: /content/drive/MyDrive/yolo_custom_model_Training3/custom_data/175.jpg  \n",
            "  inflating: /content/drive/MyDrive/yolo_custom_model_Training3/custom_data/175.txt  \n",
            "  inflating: /content/drive/MyDrive/yolo_custom_model_Training3/custom_data/176.jpg  \n",
            "  inflating: /content/drive/MyDrive/yolo_custom_model_Training3/custom_data/176.txt  \n",
            "  inflating: /content/drive/MyDrive/yolo_custom_model_Training3/custom_data/177.jpg  \n",
            "  inflating: /content/drive/MyDrive/yolo_custom_model_Training3/custom_data/177.txt  \n",
            "  inflating: /content/drive/MyDrive/yolo_custom_model_Training3/custom_data/178.jpg  \n",
            "  inflating: /content/drive/MyDrive/yolo_custom_model_Training3/custom_data/178.txt  \n",
            "  inflating: /content/drive/MyDrive/yolo_custom_model_Training3/custom_data/179.jpg  \n",
            "  inflating: /content/drive/MyDrive/yolo_custom_model_Training3/custom_data/179.txt  \n",
            "  inflating: /content/drive/MyDrive/yolo_custom_model_Training3/custom_data/18.jpg  \n",
            "  inflating: /content/drive/MyDrive/yolo_custom_model_Training3/custom_data/18.txt  \n",
            "  inflating: /content/drive/MyDrive/yolo_custom_model_Training3/custom_data/180.jpg  \n",
            "  inflating: /content/drive/MyDrive/yolo_custom_model_Training3/custom_data/180.txt  \n",
            "  inflating: /content/drive/MyDrive/yolo_custom_model_Training3/custom_data/181.jpg  \n",
            "  inflating: /content/drive/MyDrive/yolo_custom_model_Training3/custom_data/181.txt  \n",
            "  inflating: /content/drive/MyDrive/yolo_custom_model_Training3/custom_data/182.jpg  \n",
            "  inflating: /content/drive/MyDrive/yolo_custom_model_Training3/custom_data/182.txt  \n",
            "  inflating: /content/drive/MyDrive/yolo_custom_model_Training3/custom_data/183.jpg  \n",
            "  inflating: /content/drive/MyDrive/yolo_custom_model_Training3/custom_data/183.txt  \n",
            "  inflating: /content/drive/MyDrive/yolo_custom_model_Training3/custom_data/184.jpg  \n",
            "  inflating: /content/drive/MyDrive/yolo_custom_model_Training3/custom_data/184.txt  \n",
            "  inflating: /content/drive/MyDrive/yolo_custom_model_Training3/custom_data/185.jpg  \n",
            "  inflating: /content/drive/MyDrive/yolo_custom_model_Training3/custom_data/185.txt  \n",
            "  inflating: /content/drive/MyDrive/yolo_custom_model_Training3/custom_data/186.jpg  \n",
            "  inflating: /content/drive/MyDrive/yolo_custom_model_Training3/custom_data/186.txt  \n",
            "  inflating: /content/drive/MyDrive/yolo_custom_model_Training3/custom_data/187.jpg  \n",
            "  inflating: /content/drive/MyDrive/yolo_custom_model_Training3/custom_data/187.txt  \n",
            "  inflating: /content/drive/MyDrive/yolo_custom_model_Training3/custom_data/188.jpg  \n",
            "  inflating: /content/drive/MyDrive/yolo_custom_model_Training3/custom_data/188.txt  \n",
            "  inflating: /content/drive/MyDrive/yolo_custom_model_Training3/custom_data/189.jpg  \n",
            "  inflating: /content/drive/MyDrive/yolo_custom_model_Training3/custom_data/189.txt  \n",
            "  inflating: /content/drive/MyDrive/yolo_custom_model_Training3/custom_data/19.jpg  \n",
            "  inflating: /content/drive/MyDrive/yolo_custom_model_Training3/custom_data/19.txt  \n",
            "  inflating: /content/drive/MyDrive/yolo_custom_model_Training3/custom_data/190.jpg  \n",
            "  inflating: /content/drive/MyDrive/yolo_custom_model_Training3/custom_data/190.txt  \n",
            "  inflating: /content/drive/MyDrive/yolo_custom_model_Training3/custom_data/191.jpg  \n",
            "  inflating: /content/drive/MyDrive/yolo_custom_model_Training3/custom_data/191.txt  \n",
            "  inflating: /content/drive/MyDrive/yolo_custom_model_Training3/custom_data/192.jpg  \n",
            "  inflating: /content/drive/MyDrive/yolo_custom_model_Training3/custom_data/192.txt  \n",
            "  inflating: /content/drive/MyDrive/yolo_custom_model_Training3/custom_data/193.jpg  \n",
            "  inflating: /content/drive/MyDrive/yolo_custom_model_Training3/custom_data/193.txt  \n",
            "  inflating: /content/drive/MyDrive/yolo_custom_model_Training3/custom_data/194.jpg  \n",
            "  inflating: /content/drive/MyDrive/yolo_custom_model_Training3/custom_data/194.txt  \n",
            "  inflating: /content/drive/MyDrive/yolo_custom_model_Training3/custom_data/195.jpg  \n",
            "  inflating: /content/drive/MyDrive/yolo_custom_model_Training3/custom_data/195.txt  \n",
            "  inflating: /content/drive/MyDrive/yolo_custom_model_Training3/custom_data/196.jpg  \n",
            "  inflating: /content/drive/MyDrive/yolo_custom_model_Training3/custom_data/196.txt  \n",
            "  inflating: /content/drive/MyDrive/yolo_custom_model_Training3/custom_data/197.jpg  \n",
            "  inflating: /content/drive/MyDrive/yolo_custom_model_Training3/custom_data/197.txt  \n",
            "  inflating: /content/drive/MyDrive/yolo_custom_model_Training3/custom_data/198.jpg  \n",
            "  inflating: /content/drive/MyDrive/yolo_custom_model_Training3/custom_data/198.txt  \n",
            "  inflating: /content/drive/MyDrive/yolo_custom_model_Training3/custom_data/199.jpg  \n",
            "  inflating: /content/drive/MyDrive/yolo_custom_model_Training3/custom_data/199.txt  \n",
            "  inflating: /content/drive/MyDrive/yolo_custom_model_Training3/custom_data/2.jpg  \n",
            "  inflating: /content/drive/MyDrive/yolo_custom_model_Training3/custom_data/2.txt  \n",
            "  inflating: /content/drive/MyDrive/yolo_custom_model_Training3/custom_data/20.jpg  \n",
            "  inflating: /content/drive/MyDrive/yolo_custom_model_Training3/custom_data/20.txt  \n",
            "  inflating: /content/drive/MyDrive/yolo_custom_model_Training3/custom_data/200.jpg  \n",
            "  inflating: /content/drive/MyDrive/yolo_custom_model_Training3/custom_data/200.txt  \n",
            "  inflating: /content/drive/MyDrive/yolo_custom_model_Training3/custom_data/201.jpg  \n",
            "  inflating: /content/drive/MyDrive/yolo_custom_model_Training3/custom_data/201.txt  \n",
            "  inflating: /content/drive/MyDrive/yolo_custom_model_Training3/custom_data/202.jpg  \n",
            "  inflating: /content/drive/MyDrive/yolo_custom_model_Training3/custom_data/202.txt  \n",
            "  inflating: /content/drive/MyDrive/yolo_custom_model_Training3/custom_data/203.jpg  \n",
            "  inflating: /content/drive/MyDrive/yolo_custom_model_Training3/custom_data/203.txt  \n",
            "  inflating: /content/drive/MyDrive/yolo_custom_model_Training3/custom_data/204.jpg  \n",
            "  inflating: /content/drive/MyDrive/yolo_custom_model_Training3/custom_data/204.txt  \n",
            "  inflating: /content/drive/MyDrive/yolo_custom_model_Training3/custom_data/205.jpg  \n",
            "  inflating: /content/drive/MyDrive/yolo_custom_model_Training3/custom_data/205.txt  \n",
            "  inflating: /content/drive/MyDrive/yolo_custom_model_Training3/custom_data/206.jpg  \n",
            "  inflating: /content/drive/MyDrive/yolo_custom_model_Training3/custom_data/206.txt  \n",
            "  inflating: /content/drive/MyDrive/yolo_custom_model_Training3/custom_data/207.jpg  \n",
            "  inflating: /content/drive/MyDrive/yolo_custom_model_Training3/custom_data/207.txt  \n",
            "  inflating: /content/drive/MyDrive/yolo_custom_model_Training3/custom_data/208.jpg  \n",
            "  inflating: /content/drive/MyDrive/yolo_custom_model_Training3/custom_data/208.txt  \n",
            "  inflating: /content/drive/MyDrive/yolo_custom_model_Training3/custom_data/209.jpg  \n",
            "  inflating: /content/drive/MyDrive/yolo_custom_model_Training3/custom_data/209.txt  \n",
            "  inflating: /content/drive/MyDrive/yolo_custom_model_Training3/custom_data/21.jpg  \n",
            "  inflating: /content/drive/MyDrive/yolo_custom_model_Training3/custom_data/21.txt  \n",
            "  inflating: /content/drive/MyDrive/yolo_custom_model_Training3/custom_data/210.jpg  \n",
            "  inflating: /content/drive/MyDrive/yolo_custom_model_Training3/custom_data/210.txt  \n",
            "  inflating: /content/drive/MyDrive/yolo_custom_model_Training3/custom_data/211.jpg  \n",
            "  inflating: /content/drive/MyDrive/yolo_custom_model_Training3/custom_data/211.txt  \n",
            "  inflating: /content/drive/MyDrive/yolo_custom_model_Training3/custom_data/212.jpg  \n",
            "  inflating: /content/drive/MyDrive/yolo_custom_model_Training3/custom_data/212.txt  \n",
            "  inflating: /content/drive/MyDrive/yolo_custom_model_Training3/custom_data/213.jpg  \n",
            "  inflating: /content/drive/MyDrive/yolo_custom_model_Training3/custom_data/213.txt  \n",
            "  inflating: /content/drive/MyDrive/yolo_custom_model_Training3/custom_data/214.jpg  \n",
            "  inflating: /content/drive/MyDrive/yolo_custom_model_Training3/custom_data/214.txt  \n",
            "  inflating: /content/drive/MyDrive/yolo_custom_model_Training3/custom_data/215.jpg  \n",
            "  inflating: /content/drive/MyDrive/yolo_custom_model_Training3/custom_data/215.txt  \n",
            "  inflating: /content/drive/MyDrive/yolo_custom_model_Training3/custom_data/216.jpg  \n",
            "  inflating: /content/drive/MyDrive/yolo_custom_model_Training3/custom_data/216.txt  \n",
            "  inflating: /content/drive/MyDrive/yolo_custom_model_Training3/custom_data/217.jpg  \n",
            "  inflating: /content/drive/MyDrive/yolo_custom_model_Training3/custom_data/217.txt  \n",
            "  inflating: /content/drive/MyDrive/yolo_custom_model_Training3/custom_data/218.jpg  \n",
            "  inflating: /content/drive/MyDrive/yolo_custom_model_Training3/custom_data/218.txt  \n",
            "  inflating: /content/drive/MyDrive/yolo_custom_model_Training3/custom_data/219.jpg  \n",
            "  inflating: /content/drive/MyDrive/yolo_custom_model_Training3/custom_data/219.txt  \n",
            "  inflating: /content/drive/MyDrive/yolo_custom_model_Training3/custom_data/22.jpg  \n",
            "  inflating: /content/drive/MyDrive/yolo_custom_model_Training3/custom_data/22.txt  \n",
            "  inflating: /content/drive/MyDrive/yolo_custom_model_Training3/custom_data/220.jpg  \n",
            "  inflating: /content/drive/MyDrive/yolo_custom_model_Training3/custom_data/220.txt  \n",
            "  inflating: /content/drive/MyDrive/yolo_custom_model_Training3/custom_data/221.jpg  \n",
            "  inflating: /content/drive/MyDrive/yolo_custom_model_Training3/custom_data/221.txt  \n",
            "  inflating: /content/drive/MyDrive/yolo_custom_model_Training3/custom_data/222.jpg  \n",
            "  inflating: /content/drive/MyDrive/yolo_custom_model_Training3/custom_data/222.txt  \n",
            "  inflating: /content/drive/MyDrive/yolo_custom_model_Training3/custom_data/223.jpg  \n",
            "  inflating: /content/drive/MyDrive/yolo_custom_model_Training3/custom_data/223.txt  \n",
            "  inflating: /content/drive/MyDrive/yolo_custom_model_Training3/custom_data/224.jpg  \n",
            "  inflating: /content/drive/MyDrive/yolo_custom_model_Training3/custom_data/224.txt  \n",
            "  inflating: /content/drive/MyDrive/yolo_custom_model_Training3/custom_data/225.jpg  \n",
            "  inflating: /content/drive/MyDrive/yolo_custom_model_Training3/custom_data/225.txt  \n",
            "  inflating: /content/drive/MyDrive/yolo_custom_model_Training3/custom_data/226.jpg  \n",
            "  inflating: /content/drive/MyDrive/yolo_custom_model_Training3/custom_data/226.txt  \n",
            "  inflating: /content/drive/MyDrive/yolo_custom_model_Training3/custom_data/227.jpg  \n",
            "  inflating: /content/drive/MyDrive/yolo_custom_model_Training3/custom_data/227.txt  \n",
            "  inflating: /content/drive/MyDrive/yolo_custom_model_Training3/custom_data/228.jpg  \n",
            "  inflating: /content/drive/MyDrive/yolo_custom_model_Training3/custom_data/228.txt  \n",
            "  inflating: /content/drive/MyDrive/yolo_custom_model_Training3/custom_data/229.jpg  \n",
            "  inflating: /content/drive/MyDrive/yolo_custom_model_Training3/custom_data/229.txt  \n",
            "  inflating: /content/drive/MyDrive/yolo_custom_model_Training3/custom_data/23.jpg  \n",
            "  inflating: /content/drive/MyDrive/yolo_custom_model_Training3/custom_data/23.txt  \n",
            "  inflating: /content/drive/MyDrive/yolo_custom_model_Training3/custom_data/230.jpg  \n",
            "  inflating: /content/drive/MyDrive/yolo_custom_model_Training3/custom_data/230.txt  \n",
            "  inflating: /content/drive/MyDrive/yolo_custom_model_Training3/custom_data/231.jpg  \n",
            "  inflating: /content/drive/MyDrive/yolo_custom_model_Training3/custom_data/231.txt  \n",
            "  inflating: /content/drive/MyDrive/yolo_custom_model_Training3/custom_data/232.jpg  \n",
            "  inflating: /content/drive/MyDrive/yolo_custom_model_Training3/custom_data/232.txt  \n",
            "  inflating: /content/drive/MyDrive/yolo_custom_model_Training3/custom_data/233.jpg  \n",
            "  inflating: /content/drive/MyDrive/yolo_custom_model_Training3/custom_data/233.txt  \n",
            "  inflating: /content/drive/MyDrive/yolo_custom_model_Training3/custom_data/234.jpg  \n",
            "  inflating: /content/drive/MyDrive/yolo_custom_model_Training3/custom_data/234.txt  \n",
            "  inflating: /content/drive/MyDrive/yolo_custom_model_Training3/custom_data/235.jpg  \n",
            "  inflating: /content/drive/MyDrive/yolo_custom_model_Training3/custom_data/235.txt  \n",
            "  inflating: /content/drive/MyDrive/yolo_custom_model_Training3/custom_data/236.jpg  \n",
            "  inflating: /content/drive/MyDrive/yolo_custom_model_Training3/custom_data/236.txt  \n",
            "  inflating: /content/drive/MyDrive/yolo_custom_model_Training3/custom_data/237.jpg  \n",
            "  inflating: /content/drive/MyDrive/yolo_custom_model_Training3/custom_data/237.txt  \n",
            "  inflating: /content/drive/MyDrive/yolo_custom_model_Training3/custom_data/238.jpg  \n",
            "  inflating: /content/drive/MyDrive/yolo_custom_model_Training3/custom_data/238.txt  \n",
            "  inflating: /content/drive/MyDrive/yolo_custom_model_Training3/custom_data/239.jpg  \n",
            "  inflating: /content/drive/MyDrive/yolo_custom_model_Training3/custom_data/239.txt  \n",
            "  inflating: /content/drive/MyDrive/yolo_custom_model_Training3/custom_data/24.jpg  \n",
            "  inflating: /content/drive/MyDrive/yolo_custom_model_Training3/custom_data/24.txt  \n",
            "  inflating: /content/drive/MyDrive/yolo_custom_model_Training3/custom_data/240.jpg  \n",
            "  inflating: /content/drive/MyDrive/yolo_custom_model_Training3/custom_data/240.txt  \n",
            "  inflating: /content/drive/MyDrive/yolo_custom_model_Training3/custom_data/241.jpg  \n",
            "  inflating: /content/drive/MyDrive/yolo_custom_model_Training3/custom_data/241.txt  \n",
            "  inflating: /content/drive/MyDrive/yolo_custom_model_Training3/custom_data/242.jpg  \n",
            "  inflating: /content/drive/MyDrive/yolo_custom_model_Training3/custom_data/242.txt  \n",
            "  inflating: /content/drive/MyDrive/yolo_custom_model_Training3/custom_data/243.jpg  \n",
            "  inflating: /content/drive/MyDrive/yolo_custom_model_Training3/custom_data/243.txt  \n",
            "  inflating: /content/drive/MyDrive/yolo_custom_model_Training3/custom_data/244.jpg  \n",
            "  inflating: /content/drive/MyDrive/yolo_custom_model_Training3/custom_data/244.txt  \n",
            "  inflating: /content/drive/MyDrive/yolo_custom_model_Training3/custom_data/245.jpg  \n",
            "  inflating: /content/drive/MyDrive/yolo_custom_model_Training3/custom_data/245.txt  \n",
            "  inflating: /content/drive/MyDrive/yolo_custom_model_Training3/custom_data/246.jpg  \n",
            "  inflating: /content/drive/MyDrive/yolo_custom_model_Training3/custom_data/246.txt  \n",
            "  inflating: /content/drive/MyDrive/yolo_custom_model_Training3/custom_data/247.jpg  \n",
            "  inflating: /content/drive/MyDrive/yolo_custom_model_Training3/custom_data/247.txt  \n",
            "  inflating: /content/drive/MyDrive/yolo_custom_model_Training3/custom_data/248.jpg  \n",
            "  inflating: /content/drive/MyDrive/yolo_custom_model_Training3/custom_data/248.txt  \n",
            "  inflating: /content/drive/MyDrive/yolo_custom_model_Training3/custom_data/249.jpg  \n",
            "  inflating: /content/drive/MyDrive/yolo_custom_model_Training3/custom_data/249.txt  \n",
            "  inflating: /content/drive/MyDrive/yolo_custom_model_Training3/custom_data/25.jpg  \n",
            "  inflating: /content/drive/MyDrive/yolo_custom_model_Training3/custom_data/25.txt  \n",
            "  inflating: /content/drive/MyDrive/yolo_custom_model_Training3/custom_data/250.jpg  \n",
            "  inflating: /content/drive/MyDrive/yolo_custom_model_Training3/custom_data/250.txt  \n",
            "  inflating: /content/drive/MyDrive/yolo_custom_model_Training3/custom_data/251.jpg  \n",
            "  inflating: /content/drive/MyDrive/yolo_custom_model_Training3/custom_data/251.txt  \n",
            "  inflating: /content/drive/MyDrive/yolo_custom_model_Training3/custom_data/252.jpg  \n",
            "  inflating: /content/drive/MyDrive/yolo_custom_model_Training3/custom_data/252.txt  \n",
            "  inflating: /content/drive/MyDrive/yolo_custom_model_Training3/custom_data/253.jpg  \n",
            "  inflating: /content/drive/MyDrive/yolo_custom_model_Training3/custom_data/253.txt  \n",
            "  inflating: /content/drive/MyDrive/yolo_custom_model_Training3/custom_data/254.jpg  \n",
            "  inflating: /content/drive/MyDrive/yolo_custom_model_Training3/custom_data/254.txt  \n",
            "  inflating: /content/drive/MyDrive/yolo_custom_model_Training3/custom_data/255.jpg  \n",
            "  inflating: /content/drive/MyDrive/yolo_custom_model_Training3/custom_data/255.txt  \n",
            "  inflating: /content/drive/MyDrive/yolo_custom_model_Training3/custom_data/256.jpg  \n",
            "  inflating: /content/drive/MyDrive/yolo_custom_model_Training3/custom_data/256.txt  \n",
            "  inflating: /content/drive/MyDrive/yolo_custom_model_Training3/custom_data/257.jpg  \n",
            "  inflating: /content/drive/MyDrive/yolo_custom_model_Training3/custom_data/257.txt  \n",
            "  inflating: /content/drive/MyDrive/yolo_custom_model_Training3/custom_data/258.jpg  \n",
            "  inflating: /content/drive/MyDrive/yolo_custom_model_Training3/custom_data/258.txt  \n",
            "  inflating: /content/drive/MyDrive/yolo_custom_model_Training3/custom_data/259.jpg  \n",
            "  inflating: /content/drive/MyDrive/yolo_custom_model_Training3/custom_data/259.txt  \n",
            "  inflating: /content/drive/MyDrive/yolo_custom_model_Training3/custom_data/26.jpg  \n",
            "  inflating: /content/drive/MyDrive/yolo_custom_model_Training3/custom_data/26.txt  \n",
            "  inflating: /content/drive/MyDrive/yolo_custom_model_Training3/custom_data/260.jpg  \n",
            "  inflating: /content/drive/MyDrive/yolo_custom_model_Training3/custom_data/260.txt  \n",
            "  inflating: /content/drive/MyDrive/yolo_custom_model_Training3/custom_data/261.jpg  \n",
            "  inflating: /content/drive/MyDrive/yolo_custom_model_Training3/custom_data/261.txt  \n",
            "  inflating: /content/drive/MyDrive/yolo_custom_model_Training3/custom_data/262.jpg  \n",
            "  inflating: /content/drive/MyDrive/yolo_custom_model_Training3/custom_data/262.txt  \n",
            "  inflating: /content/drive/MyDrive/yolo_custom_model_Training3/custom_data/263.jpg  \n",
            "  inflating: /content/drive/MyDrive/yolo_custom_model_Training3/custom_data/263.txt  \n",
            "  inflating: /content/drive/MyDrive/yolo_custom_model_Training3/custom_data/264.jpg  \n",
            "  inflating: /content/drive/MyDrive/yolo_custom_model_Training3/custom_data/264.txt  \n",
            "  inflating: /content/drive/MyDrive/yolo_custom_model_Training3/custom_data/265.jpg  \n",
            "  inflating: /content/drive/MyDrive/yolo_custom_model_Training3/custom_data/265.txt  \n",
            "  inflating: /content/drive/MyDrive/yolo_custom_model_Training3/custom_data/266.jpg  \n",
            "  inflating: /content/drive/MyDrive/yolo_custom_model_Training3/custom_data/266.txt  \n",
            "  inflating: /content/drive/MyDrive/yolo_custom_model_Training3/custom_data/267.jpg  \n",
            "  inflating: /content/drive/MyDrive/yolo_custom_model_Training3/custom_data/267.txt  \n",
            "  inflating: /content/drive/MyDrive/yolo_custom_model_Training3/custom_data/268.jpg  \n",
            "  inflating: /content/drive/MyDrive/yolo_custom_model_Training3/custom_data/268.txt  \n",
            "  inflating: /content/drive/MyDrive/yolo_custom_model_Training3/custom_data/269.jpg  \n",
            "  inflating: /content/drive/MyDrive/yolo_custom_model_Training3/custom_data/269.txt  \n",
            "  inflating: /content/drive/MyDrive/yolo_custom_model_Training3/custom_data/27.jpg  \n",
            "  inflating: /content/drive/MyDrive/yolo_custom_model_Training3/custom_data/27.txt  \n",
            "  inflating: /content/drive/MyDrive/yolo_custom_model_Training3/custom_data/270.jpg  \n",
            "  inflating: /content/drive/MyDrive/yolo_custom_model_Training3/custom_data/270.txt  \n",
            "  inflating: /content/drive/MyDrive/yolo_custom_model_Training3/custom_data/271.jpg  \n",
            "  inflating: /content/drive/MyDrive/yolo_custom_model_Training3/custom_data/271.txt  \n",
            "  inflating: /content/drive/MyDrive/yolo_custom_model_Training3/custom_data/272.jpg  \n",
            "  inflating: /content/drive/MyDrive/yolo_custom_model_Training3/custom_data/272.txt  \n",
            "  inflating: /content/drive/MyDrive/yolo_custom_model_Training3/custom_data/273.jpg  \n",
            "  inflating: /content/drive/MyDrive/yolo_custom_model_Training3/custom_data/273.txt  \n",
            "  inflating: /content/drive/MyDrive/yolo_custom_model_Training3/custom_data/274.jpg  \n",
            "  inflating: /content/drive/MyDrive/yolo_custom_model_Training3/custom_data/274.txt  \n",
            "  inflating: /content/drive/MyDrive/yolo_custom_model_Training3/custom_data/275.jpg  \n",
            "  inflating: /content/drive/MyDrive/yolo_custom_model_Training3/custom_data/275.txt  \n",
            "  inflating: /content/drive/MyDrive/yolo_custom_model_Training3/custom_data/276.jpg  \n",
            "  inflating: /content/drive/MyDrive/yolo_custom_model_Training3/custom_data/276.txt  \n",
            "  inflating: /content/drive/MyDrive/yolo_custom_model_Training3/custom_data/277.jpg  \n",
            "  inflating: /content/drive/MyDrive/yolo_custom_model_Training3/custom_data/277.txt  \n",
            "  inflating: /content/drive/MyDrive/yolo_custom_model_Training3/custom_data/278.jpg  \n",
            "  inflating: /content/drive/MyDrive/yolo_custom_model_Training3/custom_data/278.txt  \n",
            "  inflating: /content/drive/MyDrive/yolo_custom_model_Training3/custom_data/279.jpg  \n",
            "  inflating: /content/drive/MyDrive/yolo_custom_model_Training3/custom_data/279.txt  \n",
            "  inflating: /content/drive/MyDrive/yolo_custom_model_Training3/custom_data/28.jpg  \n",
            "  inflating: /content/drive/MyDrive/yolo_custom_model_Training3/custom_data/28.txt  \n",
            "  inflating: /content/drive/MyDrive/yolo_custom_model_Training3/custom_data/280.jpg  \n",
            "  inflating: /content/drive/MyDrive/yolo_custom_model_Training3/custom_data/280.txt  \n",
            "  inflating: /content/drive/MyDrive/yolo_custom_model_Training3/custom_data/281.jpg  \n",
            "  inflating: /content/drive/MyDrive/yolo_custom_model_Training3/custom_data/281.txt  \n",
            "  inflating: /content/drive/MyDrive/yolo_custom_model_Training3/custom_data/282.jpg  \n",
            "  inflating: /content/drive/MyDrive/yolo_custom_model_Training3/custom_data/282.txt  \n",
            "  inflating: /content/drive/MyDrive/yolo_custom_model_Training3/custom_data/283.jpg  \n",
            "  inflating: /content/drive/MyDrive/yolo_custom_model_Training3/custom_data/283.txt  \n",
            "  inflating: /content/drive/MyDrive/yolo_custom_model_Training3/custom_data/284.jpg  \n",
            "  inflating: /content/drive/MyDrive/yolo_custom_model_Training3/custom_data/284.txt  \n",
            "  inflating: /content/drive/MyDrive/yolo_custom_model_Training3/custom_data/285.jpg  \n",
            "  inflating: /content/drive/MyDrive/yolo_custom_model_Training3/custom_data/285.txt  \n",
            "  inflating: /content/drive/MyDrive/yolo_custom_model_Training3/custom_data/286.jpg  \n",
            "  inflating: /content/drive/MyDrive/yolo_custom_model_Training3/custom_data/286.txt  \n",
            "  inflating: /content/drive/MyDrive/yolo_custom_model_Training3/custom_data/287.jpg  \n",
            "  inflating: /content/drive/MyDrive/yolo_custom_model_Training3/custom_data/287.txt  \n",
            "  inflating: /content/drive/MyDrive/yolo_custom_model_Training3/custom_data/288.jpg  \n",
            "  inflating: /content/drive/MyDrive/yolo_custom_model_Training3/custom_data/288.txt  \n",
            "  inflating: /content/drive/MyDrive/yolo_custom_model_Training3/custom_data/289.jpg  \n",
            "  inflating: /content/drive/MyDrive/yolo_custom_model_Training3/custom_data/289.txt  \n",
            "  inflating: /content/drive/MyDrive/yolo_custom_model_Training3/custom_data/29.jpg  \n",
            "  inflating: /content/drive/MyDrive/yolo_custom_model_Training3/custom_data/29.txt  \n",
            "  inflating: /content/drive/MyDrive/yolo_custom_model_Training3/custom_data/290.jpg  \n",
            "  inflating: /content/drive/MyDrive/yolo_custom_model_Training3/custom_data/290.txt  \n",
            "  inflating: /content/drive/MyDrive/yolo_custom_model_Training3/custom_data/291.jpg  \n",
            "  inflating: /content/drive/MyDrive/yolo_custom_model_Training3/custom_data/291.txt  \n",
            "  inflating: /content/drive/MyDrive/yolo_custom_model_Training3/custom_data/292.jpg  \n",
            "  inflating: /content/drive/MyDrive/yolo_custom_model_Training3/custom_data/292.txt  \n",
            "  inflating: /content/drive/MyDrive/yolo_custom_model_Training3/custom_data/293.jpg  \n",
            "  inflating: /content/drive/MyDrive/yolo_custom_model_Training3/custom_data/293.txt  \n",
            "  inflating: /content/drive/MyDrive/yolo_custom_model_Training3/custom_data/294.jpg  \n",
            "  inflating: /content/drive/MyDrive/yolo_custom_model_Training3/custom_data/294.txt  \n",
            "  inflating: /content/drive/MyDrive/yolo_custom_model_Training3/custom_data/295.jpg  \n",
            "  inflating: /content/drive/MyDrive/yolo_custom_model_Training3/custom_data/295.txt  \n",
            "  inflating: /content/drive/MyDrive/yolo_custom_model_Training3/custom_data/296.jpg  \n",
            "  inflating: /content/drive/MyDrive/yolo_custom_model_Training3/custom_data/296.txt  \n",
            "  inflating: /content/drive/MyDrive/yolo_custom_model_Training3/custom_data/297.jpg  \n",
            "  inflating: /content/drive/MyDrive/yolo_custom_model_Training3/custom_data/297.txt  \n",
            "  inflating: /content/drive/MyDrive/yolo_custom_model_Training3/custom_data/298.jpg  \n",
            "  inflating: /content/drive/MyDrive/yolo_custom_model_Training3/custom_data/298.txt  \n",
            "  inflating: /content/drive/MyDrive/yolo_custom_model_Training3/custom_data/299.jpg  \n",
            "  inflating: /content/drive/MyDrive/yolo_custom_model_Training3/custom_data/299.txt  \n",
            "  inflating: /content/drive/MyDrive/yolo_custom_model_Training3/custom_data/3.jpg  \n",
            "  inflating: /content/drive/MyDrive/yolo_custom_model_Training3/custom_data/3.txt  \n",
            "  inflating: /content/drive/MyDrive/yolo_custom_model_Training3/custom_data/30.jpg  \n",
            "  inflating: /content/drive/MyDrive/yolo_custom_model_Training3/custom_data/30.txt  \n",
            "  inflating: /content/drive/MyDrive/yolo_custom_model_Training3/custom_data/300.jpg  \n",
            "  inflating: /content/drive/MyDrive/yolo_custom_model_Training3/custom_data/300.txt  \n",
            "  inflating: /content/drive/MyDrive/yolo_custom_model_Training3/custom_data/301.jpg  \n",
            "  inflating: /content/drive/MyDrive/yolo_custom_model_Training3/custom_data/301.txt  \n",
            "  inflating: /content/drive/MyDrive/yolo_custom_model_Training3/custom_data/302.jpg  \n",
            "  inflating: /content/drive/MyDrive/yolo_custom_model_Training3/custom_data/302.txt  \n",
            "  inflating: /content/drive/MyDrive/yolo_custom_model_Training3/custom_data/303.jpg  \n",
            "  inflating: /content/drive/MyDrive/yolo_custom_model_Training3/custom_data/303.txt  \n",
            "  inflating: /content/drive/MyDrive/yolo_custom_model_Training3/custom_data/304.jpg  \n",
            "  inflating: /content/drive/MyDrive/yolo_custom_model_Training3/custom_data/304.txt  \n",
            "  inflating: /content/drive/MyDrive/yolo_custom_model_Training3/custom_data/305.jpg  \n",
            "  inflating: /content/drive/MyDrive/yolo_custom_model_Training3/custom_data/305.txt  \n",
            "  inflating: /content/drive/MyDrive/yolo_custom_model_Training3/custom_data/306.jpg  \n",
            "  inflating: /content/drive/MyDrive/yolo_custom_model_Training3/custom_data/306.txt  \n",
            "  inflating: /content/drive/MyDrive/yolo_custom_model_Training3/custom_data/307.jpg  \n",
            "  inflating: /content/drive/MyDrive/yolo_custom_model_Training3/custom_data/307.txt  \n",
            "  inflating: /content/drive/MyDrive/yolo_custom_model_Training3/custom_data/308.jpg  \n",
            "  inflating: /content/drive/MyDrive/yolo_custom_model_Training3/custom_data/308.txt  \n",
            "  inflating: /content/drive/MyDrive/yolo_custom_model_Training3/custom_data/309.jpg  \n",
            "  inflating: /content/drive/MyDrive/yolo_custom_model_Training3/custom_data/309.txt  \n",
            "  inflating: /content/drive/MyDrive/yolo_custom_model_Training3/custom_data/31.jpg  \n",
            "  inflating: /content/drive/MyDrive/yolo_custom_model_Training3/custom_data/31.txt  \n",
            "  inflating: /content/drive/MyDrive/yolo_custom_model_Training3/custom_data/310.jpg  \n",
            "  inflating: /content/drive/MyDrive/yolo_custom_model_Training3/custom_data/310.txt  \n",
            "  inflating: /content/drive/MyDrive/yolo_custom_model_Training3/custom_data/311.jpg  \n",
            "  inflating: /content/drive/MyDrive/yolo_custom_model_Training3/custom_data/311.txt  \n",
            "  inflating: /content/drive/MyDrive/yolo_custom_model_Training3/custom_data/312.jpg  \n",
            "  inflating: /content/drive/MyDrive/yolo_custom_model_Training3/custom_data/312.txt  \n",
            "  inflating: /content/drive/MyDrive/yolo_custom_model_Training3/custom_data/313.jpg  \n",
            "  inflating: /content/drive/MyDrive/yolo_custom_model_Training3/custom_data/313.txt  \n",
            "  inflating: /content/drive/MyDrive/yolo_custom_model_Training3/custom_data/314.jpg  \n",
            "  inflating: /content/drive/MyDrive/yolo_custom_model_Training3/custom_data/314.txt  \n",
            "  inflating: /content/drive/MyDrive/yolo_custom_model_Training3/custom_data/315.jpg  \n",
            "  inflating: /content/drive/MyDrive/yolo_custom_model_Training3/custom_data/315.txt  \n",
            "  inflating: /content/drive/MyDrive/yolo_custom_model_Training3/custom_data/316.jpg  \n",
            "  inflating: /content/drive/MyDrive/yolo_custom_model_Training3/custom_data/316.txt  \n",
            "  inflating: /content/drive/MyDrive/yolo_custom_model_Training3/custom_data/317.jpg  \n",
            "  inflating: /content/drive/MyDrive/yolo_custom_model_Training3/custom_data/317.txt  \n",
            "  inflating: /content/drive/MyDrive/yolo_custom_model_Training3/custom_data/318.jpg  \n",
            "  inflating: /content/drive/MyDrive/yolo_custom_model_Training3/custom_data/318.txt  \n",
            "  inflating: /content/drive/MyDrive/yolo_custom_model_Training3/custom_data/319.jpg  \n",
            "  inflating: /content/drive/MyDrive/yolo_custom_model_Training3/custom_data/319.txt  \n",
            "  inflating: /content/drive/MyDrive/yolo_custom_model_Training3/custom_data/32.jpg  \n",
            "  inflating: /content/drive/MyDrive/yolo_custom_model_Training3/custom_data/32.txt  \n",
            "  inflating: /content/drive/MyDrive/yolo_custom_model_Training3/custom_data/320.jpg  \n",
            "  inflating: /content/drive/MyDrive/yolo_custom_model_Training3/custom_data/320.txt  \n",
            "  inflating: /content/drive/MyDrive/yolo_custom_model_Training3/custom_data/321.jpg  \n",
            "  inflating: /content/drive/MyDrive/yolo_custom_model_Training3/custom_data/321.txt  \n",
            "  inflating: /content/drive/MyDrive/yolo_custom_model_Training3/custom_data/322.jpg  \n",
            "  inflating: /content/drive/MyDrive/yolo_custom_model_Training3/custom_data/322.txt  \n",
            "  inflating: /content/drive/MyDrive/yolo_custom_model_Training3/custom_data/323.jpg  \n",
            "  inflating: /content/drive/MyDrive/yolo_custom_model_Training3/custom_data/323.txt  \n",
            "  inflating: /content/drive/MyDrive/yolo_custom_model_Training3/custom_data/324.jpg  \n",
            "  inflating: /content/drive/MyDrive/yolo_custom_model_Training3/custom_data/324.txt  \n",
            "  inflating: /content/drive/MyDrive/yolo_custom_model_Training3/custom_data/325.jpg  \n",
            "  inflating: /content/drive/MyDrive/yolo_custom_model_Training3/custom_data/325.txt  \n",
            "  inflating: /content/drive/MyDrive/yolo_custom_model_Training3/custom_data/326.jpg  \n",
            "  inflating: /content/drive/MyDrive/yolo_custom_model_Training3/custom_data/326.txt  \n",
            "  inflating: /content/drive/MyDrive/yolo_custom_model_Training3/custom_data/327.jpg  \n",
            "  inflating: /content/drive/MyDrive/yolo_custom_model_Training3/custom_data/327.txt  \n",
            "  inflating: /content/drive/MyDrive/yolo_custom_model_Training3/custom_data/328.jpg  \n",
            "  inflating: /content/drive/MyDrive/yolo_custom_model_Training3/custom_data/328.txt  \n",
            "  inflating: /content/drive/MyDrive/yolo_custom_model_Training3/custom_data/329.jpg  \n",
            "  inflating: /content/drive/MyDrive/yolo_custom_model_Training3/custom_data/329.txt  \n",
            "  inflating: /content/drive/MyDrive/yolo_custom_model_Training3/custom_data/33.jpg  \n",
            "  inflating: /content/drive/MyDrive/yolo_custom_model_Training3/custom_data/33.txt  \n",
            "  inflating: /content/drive/MyDrive/yolo_custom_model_Training3/custom_data/330.jpg  \n",
            "  inflating: /content/drive/MyDrive/yolo_custom_model_Training3/custom_data/330.txt  \n",
            "  inflating: /content/drive/MyDrive/yolo_custom_model_Training3/custom_data/331.jpg  \n",
            "  inflating: /content/drive/MyDrive/yolo_custom_model_Training3/custom_data/331.txt  \n",
            "  inflating: /content/drive/MyDrive/yolo_custom_model_Training3/custom_data/332.jpg  \n",
            "  inflating: /content/drive/MyDrive/yolo_custom_model_Training3/custom_data/332.txt  \n",
            "  inflating: /content/drive/MyDrive/yolo_custom_model_Training3/custom_data/333.jpg  \n",
            "  inflating: /content/drive/MyDrive/yolo_custom_model_Training3/custom_data/333.txt  \n",
            "  inflating: /content/drive/MyDrive/yolo_custom_model_Training3/custom_data/334.jpg  \n",
            "  inflating: /content/drive/MyDrive/yolo_custom_model_Training3/custom_data/334.txt  \n",
            "  inflating: /content/drive/MyDrive/yolo_custom_model_Training3/custom_data/335.jpg  \n",
            "  inflating: /content/drive/MyDrive/yolo_custom_model_Training3/custom_data/335.txt  \n",
            "  inflating: /content/drive/MyDrive/yolo_custom_model_Training3/custom_data/336.jpg  \n",
            "  inflating: /content/drive/MyDrive/yolo_custom_model_Training3/custom_data/336.txt  \n",
            "  inflating: /content/drive/MyDrive/yolo_custom_model_Training3/custom_data/337.jpg  \n",
            "  inflating: /content/drive/MyDrive/yolo_custom_model_Training3/custom_data/337.txt  \n",
            "  inflating: /content/drive/MyDrive/yolo_custom_model_Training3/custom_data/338.jpg  \n",
            "  inflating: /content/drive/MyDrive/yolo_custom_model_Training3/custom_data/338.txt  \n",
            "  inflating: /content/drive/MyDrive/yolo_custom_model_Training3/custom_data/339.jpg  \n",
            "  inflating: /content/drive/MyDrive/yolo_custom_model_Training3/custom_data/339.txt  \n",
            "  inflating: /content/drive/MyDrive/yolo_custom_model_Training3/custom_data/34.jpg  \n",
            "  inflating: /content/drive/MyDrive/yolo_custom_model_Training3/custom_data/34.txt  \n",
            "  inflating: /content/drive/MyDrive/yolo_custom_model_Training3/custom_data/340.jpg  \n",
            "  inflating: /content/drive/MyDrive/yolo_custom_model_Training3/custom_data/340.txt  \n",
            "  inflating: /content/drive/MyDrive/yolo_custom_model_Training3/custom_data/341.jpg  \n",
            "  inflating: /content/drive/MyDrive/yolo_custom_model_Training3/custom_data/341.txt  \n",
            "  inflating: /content/drive/MyDrive/yolo_custom_model_Training3/custom_data/342.jpg  \n",
            "  inflating: /content/drive/MyDrive/yolo_custom_model_Training3/custom_data/342.txt  \n",
            "  inflating: /content/drive/MyDrive/yolo_custom_model_Training3/custom_data/343.jpg  \n",
            "  inflating: /content/drive/MyDrive/yolo_custom_model_Training3/custom_data/343.txt  \n",
            "  inflating: /content/drive/MyDrive/yolo_custom_model_Training3/custom_data/344.jpg  \n",
            "  inflating: /content/drive/MyDrive/yolo_custom_model_Training3/custom_data/344.txt  \n",
            "  inflating: /content/drive/MyDrive/yolo_custom_model_Training3/custom_data/345.jpg  \n",
            "  inflating: /content/drive/MyDrive/yolo_custom_model_Training3/custom_data/345.txt  \n",
            "  inflating: /content/drive/MyDrive/yolo_custom_model_Training3/custom_data/346.jpg  \n",
            "  inflating: /content/drive/MyDrive/yolo_custom_model_Training3/custom_data/346.txt  \n",
            "  inflating: /content/drive/MyDrive/yolo_custom_model_Training3/custom_data/347.jpg  \n",
            "  inflating: /content/drive/MyDrive/yolo_custom_model_Training3/custom_data/347.txt  \n",
            "  inflating: /content/drive/MyDrive/yolo_custom_model_Training3/custom_data/348.jpg  \n",
            "  inflating: /content/drive/MyDrive/yolo_custom_model_Training3/custom_data/348.txt  \n",
            "  inflating: /content/drive/MyDrive/yolo_custom_model_Training3/custom_data/349.jpg  \n",
            "  inflating: /content/drive/MyDrive/yolo_custom_model_Training3/custom_data/349.txt  \n",
            "  inflating: /content/drive/MyDrive/yolo_custom_model_Training3/custom_data/35.jpg  \n",
            "  inflating: /content/drive/MyDrive/yolo_custom_model_Training3/custom_data/35.txt  \n",
            "  inflating: /content/drive/MyDrive/yolo_custom_model_Training3/custom_data/350.jpg  \n",
            "  inflating: /content/drive/MyDrive/yolo_custom_model_Training3/custom_data/350.txt  \n",
            "  inflating: /content/drive/MyDrive/yolo_custom_model_Training3/custom_data/351.jpg  \n",
            "  inflating: /content/drive/MyDrive/yolo_custom_model_Training3/custom_data/351.txt  \n",
            "  inflating: /content/drive/MyDrive/yolo_custom_model_Training3/custom_data/352.jpg  \n",
            "  inflating: /content/drive/MyDrive/yolo_custom_model_Training3/custom_data/352.txt  \n",
            "  inflating: /content/drive/MyDrive/yolo_custom_model_Training3/custom_data/353.jpg  \n",
            "  inflating: /content/drive/MyDrive/yolo_custom_model_Training3/custom_data/353.txt  \n",
            "  inflating: /content/drive/MyDrive/yolo_custom_model_Training3/custom_data/354.jpg  \n",
            "  inflating: /content/drive/MyDrive/yolo_custom_model_Training3/custom_data/354.txt  \n",
            "  inflating: /content/drive/MyDrive/yolo_custom_model_Training3/custom_data/355.jpg  \n",
            "  inflating: /content/drive/MyDrive/yolo_custom_model_Training3/custom_data/355.txt  \n",
            "  inflating: /content/drive/MyDrive/yolo_custom_model_Training3/custom_data/356.jpg  \n",
            "  inflating: /content/drive/MyDrive/yolo_custom_model_Training3/custom_data/356.txt  \n",
            "  inflating: /content/drive/MyDrive/yolo_custom_model_Training3/custom_data/357.jpg  \n",
            "  inflating: /content/drive/MyDrive/yolo_custom_model_Training3/custom_data/357.txt  \n",
            "  inflating: /content/drive/MyDrive/yolo_custom_model_Training3/custom_data/358.jpg  \n",
            "  inflating: /content/drive/MyDrive/yolo_custom_model_Training3/custom_data/358.txt  \n",
            "  inflating: /content/drive/MyDrive/yolo_custom_model_Training3/custom_data/359.jpg  \n",
            "  inflating: /content/drive/MyDrive/yolo_custom_model_Training3/custom_data/359.txt  \n",
            "  inflating: /content/drive/MyDrive/yolo_custom_model_Training3/custom_data/36.jpg  \n",
            "  inflating: /content/drive/MyDrive/yolo_custom_model_Training3/custom_data/36.txt  \n",
            "  inflating: /content/drive/MyDrive/yolo_custom_model_Training3/custom_data/360.jpg  \n",
            "  inflating: /content/drive/MyDrive/yolo_custom_model_Training3/custom_data/360.txt  \n",
            "  inflating: /content/drive/MyDrive/yolo_custom_model_Training3/custom_data/361.jpg  \n",
            "  inflating: /content/drive/MyDrive/yolo_custom_model_Training3/custom_data/361.txt  \n",
            "  inflating: /content/drive/MyDrive/yolo_custom_model_Training3/custom_data/362.jpg  \n",
            "  inflating: /content/drive/MyDrive/yolo_custom_model_Training3/custom_data/362.txt  \n",
            "  inflating: /content/drive/MyDrive/yolo_custom_model_Training3/custom_data/363.jpg  \n",
            "  inflating: /content/drive/MyDrive/yolo_custom_model_Training3/custom_data/363.txt  \n",
            "  inflating: /content/drive/MyDrive/yolo_custom_model_Training3/custom_data/364.jpg  \n",
            "  inflating: /content/drive/MyDrive/yolo_custom_model_Training3/custom_data/364.txt  \n",
            "  inflating: /content/drive/MyDrive/yolo_custom_model_Training3/custom_data/365.jpg  \n",
            "  inflating: /content/drive/MyDrive/yolo_custom_model_Training3/custom_data/365.txt  \n",
            "  inflating: /content/drive/MyDrive/yolo_custom_model_Training3/custom_data/366.jpg  \n",
            "  inflating: /content/drive/MyDrive/yolo_custom_model_Training3/custom_data/366.txt  \n",
            "  inflating: /content/drive/MyDrive/yolo_custom_model_Training3/custom_data/367.jpg  \n",
            "  inflating: /content/drive/MyDrive/yolo_custom_model_Training3/custom_data/367.txt  \n",
            "  inflating: /content/drive/MyDrive/yolo_custom_model_Training3/custom_data/368.jpg  \n",
            "  inflating: /content/drive/MyDrive/yolo_custom_model_Training3/custom_data/368.txt  \n",
            "  inflating: /content/drive/MyDrive/yolo_custom_model_Training3/custom_data/369.jpg  \n",
            "  inflating: /content/drive/MyDrive/yolo_custom_model_Training3/custom_data/369.txt  \n",
            "  inflating: /content/drive/MyDrive/yolo_custom_model_Training3/custom_data/37.jpg  \n",
            "  inflating: /content/drive/MyDrive/yolo_custom_model_Training3/custom_data/37.txt  \n",
            "  inflating: /content/drive/MyDrive/yolo_custom_model_Training3/custom_data/370.jpg  \n",
            "  inflating: /content/drive/MyDrive/yolo_custom_model_Training3/custom_data/370.txt  \n",
            "  inflating: /content/drive/MyDrive/yolo_custom_model_Training3/custom_data/371.jpg  \n",
            "  inflating: /content/drive/MyDrive/yolo_custom_model_Training3/custom_data/371.txt  \n",
            "  inflating: /content/drive/MyDrive/yolo_custom_model_Training3/custom_data/372.jpg  \n",
            "  inflating: /content/drive/MyDrive/yolo_custom_model_Training3/custom_data/372.txt  \n",
            "  inflating: /content/drive/MyDrive/yolo_custom_model_Training3/custom_data/373.jpg  \n",
            "  inflating: /content/drive/MyDrive/yolo_custom_model_Training3/custom_data/373.txt  \n",
            "  inflating: /content/drive/MyDrive/yolo_custom_model_Training3/custom_data/374.jpg  \n",
            "  inflating: /content/drive/MyDrive/yolo_custom_model_Training3/custom_data/374.txt  \n",
            "  inflating: /content/drive/MyDrive/yolo_custom_model_Training3/custom_data/375.jpg  \n",
            "  inflating: /content/drive/MyDrive/yolo_custom_model_Training3/custom_data/375.txt  \n",
            "  inflating: /content/drive/MyDrive/yolo_custom_model_Training3/custom_data/376.jpg  \n",
            "  inflating: /content/drive/MyDrive/yolo_custom_model_Training3/custom_data/376.txt  \n",
            "  inflating: /content/drive/MyDrive/yolo_custom_model_Training3/custom_data/377.jpg  \n",
            "  inflating: /content/drive/MyDrive/yolo_custom_model_Training3/custom_data/377.txt  \n",
            "  inflating: /content/drive/MyDrive/yolo_custom_model_Training3/custom_data/378.jpg  \n",
            "  inflating: /content/drive/MyDrive/yolo_custom_model_Training3/custom_data/378.txt  \n",
            "  inflating: /content/drive/MyDrive/yolo_custom_model_Training3/custom_data/379.jpg  \n",
            "  inflating: /content/drive/MyDrive/yolo_custom_model_Training3/custom_data/379.txt  \n",
            "  inflating: /content/drive/MyDrive/yolo_custom_model_Training3/custom_data/38.jpg  \n",
            "  inflating: /content/drive/MyDrive/yolo_custom_model_Training3/custom_data/38.txt  \n",
            "  inflating: /content/drive/MyDrive/yolo_custom_model_Training3/custom_data/380.jpg  \n",
            "  inflating: /content/drive/MyDrive/yolo_custom_model_Training3/custom_data/380.txt  \n",
            "  inflating: /content/drive/MyDrive/yolo_custom_model_Training3/custom_data/381.jpg  \n",
            "  inflating: /content/drive/MyDrive/yolo_custom_model_Training3/custom_data/381.txt  \n",
            "  inflating: /content/drive/MyDrive/yolo_custom_model_Training3/custom_data/382.jpg  \n",
            "  inflating: /content/drive/MyDrive/yolo_custom_model_Training3/custom_data/382.txt  \n",
            "  inflating: /content/drive/MyDrive/yolo_custom_model_Training3/custom_data/383.jpg  \n",
            "  inflating: /content/drive/MyDrive/yolo_custom_model_Training3/custom_data/383.txt  \n",
            "  inflating: /content/drive/MyDrive/yolo_custom_model_Training3/custom_data/384.jpg  \n",
            "  inflating: /content/drive/MyDrive/yolo_custom_model_Training3/custom_data/384.txt  \n",
            "  inflating: /content/drive/MyDrive/yolo_custom_model_Training3/custom_data/385.jpg  \n",
            "  inflating: /content/drive/MyDrive/yolo_custom_model_Training3/custom_data/385.txt  \n",
            "  inflating: /content/drive/MyDrive/yolo_custom_model_Training3/custom_data/386.jpg  \n",
            "  inflating: /content/drive/MyDrive/yolo_custom_model_Training3/custom_data/386.txt  \n",
            "  inflating: /content/drive/MyDrive/yolo_custom_model_Training3/custom_data/387.jpg  \n",
            "  inflating: /content/drive/MyDrive/yolo_custom_model_Training3/custom_data/387.txt  \n",
            "  inflating: /content/drive/MyDrive/yolo_custom_model_Training3/custom_data/388.jpg  \n",
            "  inflating: /content/drive/MyDrive/yolo_custom_model_Training3/custom_data/388.txt  \n",
            "  inflating: /content/drive/MyDrive/yolo_custom_model_Training3/custom_data/389.jpg  \n",
            "  inflating: /content/drive/MyDrive/yolo_custom_model_Training3/custom_data/389.txt  \n",
            "  inflating: /content/drive/MyDrive/yolo_custom_model_Training3/custom_data/39.jpg  \n",
            "  inflating: /content/drive/MyDrive/yolo_custom_model_Training3/custom_data/39.txt  \n",
            "  inflating: /content/drive/MyDrive/yolo_custom_model_Training3/custom_data/390.jpg  \n",
            "  inflating: /content/drive/MyDrive/yolo_custom_model_Training3/custom_data/390.txt  \n",
            "  inflating: /content/drive/MyDrive/yolo_custom_model_Training3/custom_data/391.jpg  \n",
            "  inflating: /content/drive/MyDrive/yolo_custom_model_Training3/custom_data/391.txt  \n",
            "  inflating: /content/drive/MyDrive/yolo_custom_model_Training3/custom_data/392.jpg  \n",
            "  inflating: /content/drive/MyDrive/yolo_custom_model_Training3/custom_data/392.txt  \n",
            "  inflating: /content/drive/MyDrive/yolo_custom_model_Training3/custom_data/393.jpg  \n",
            "  inflating: /content/drive/MyDrive/yolo_custom_model_Training3/custom_data/393.txt  \n",
            "  inflating: /content/drive/MyDrive/yolo_custom_model_Training3/custom_data/394.jpg  \n",
            "  inflating: /content/drive/MyDrive/yolo_custom_model_Training3/custom_data/394.txt  \n",
            "  inflating: /content/drive/MyDrive/yolo_custom_model_Training3/custom_data/395.jpg  \n",
            "  inflating: /content/drive/MyDrive/yolo_custom_model_Training3/custom_data/395.txt  \n",
            "  inflating: /content/drive/MyDrive/yolo_custom_model_Training3/custom_data/396.jpg  \n",
            "  inflating: /content/drive/MyDrive/yolo_custom_model_Training3/custom_data/396.txt  \n",
            "  inflating: /content/drive/MyDrive/yolo_custom_model_Training3/custom_data/397.jpg  \n",
            "  inflating: /content/drive/MyDrive/yolo_custom_model_Training3/custom_data/397.txt  \n",
            "  inflating: /content/drive/MyDrive/yolo_custom_model_Training3/custom_data/398.jpg  \n",
            "  inflating: /content/drive/MyDrive/yolo_custom_model_Training3/custom_data/398.txt  \n",
            "  inflating: /content/drive/MyDrive/yolo_custom_model_Training3/custom_data/399.jpg  \n",
            "  inflating: /content/drive/MyDrive/yolo_custom_model_Training3/custom_data/399.txt  \n",
            "  inflating: /content/drive/MyDrive/yolo_custom_model_Training3/custom_data/4.jpg  \n",
            "  inflating: /content/drive/MyDrive/yolo_custom_model_Training3/custom_data/4.txt  \n",
            "  inflating: /content/drive/MyDrive/yolo_custom_model_Training3/custom_data/40.jpg  \n",
            "  inflating: /content/drive/MyDrive/yolo_custom_model_Training3/custom_data/40.txt  \n",
            "  inflating: /content/drive/MyDrive/yolo_custom_model_Training3/custom_data/400.jpg  \n",
            "  inflating: /content/drive/MyDrive/yolo_custom_model_Training3/custom_data/400.txt  \n",
            "  inflating: /content/drive/MyDrive/yolo_custom_model_Training3/custom_data/401.jpg  \n",
            "  inflating: /content/drive/MyDrive/yolo_custom_model_Training3/custom_data/401.txt  \n",
            "  inflating: /content/drive/MyDrive/yolo_custom_model_Training3/custom_data/402.jpg  \n",
            "  inflating: /content/drive/MyDrive/yolo_custom_model_Training3/custom_data/402.txt  \n",
            "  inflating: /content/drive/MyDrive/yolo_custom_model_Training3/custom_data/403.jpg  \n",
            "  inflating: /content/drive/MyDrive/yolo_custom_model_Training3/custom_data/403.txt  \n",
            "  inflating: /content/drive/MyDrive/yolo_custom_model_Training3/custom_data/404.jpg  \n",
            "  inflating: /content/drive/MyDrive/yolo_custom_model_Training3/custom_data/404.txt  \n",
            "  inflating: /content/drive/MyDrive/yolo_custom_model_Training3/custom_data/405.jpg  \n",
            "  inflating: /content/drive/MyDrive/yolo_custom_model_Training3/custom_data/405.txt  \n",
            "  inflating: /content/drive/MyDrive/yolo_custom_model_Training3/custom_data/406.jpg  \n",
            "  inflating: /content/drive/MyDrive/yolo_custom_model_Training3/custom_data/406.txt  \n",
            "  inflating: /content/drive/MyDrive/yolo_custom_model_Training3/custom_data/407.jpg  \n",
            "  inflating: /content/drive/MyDrive/yolo_custom_model_Training3/custom_data/407.txt  \n",
            "  inflating: /content/drive/MyDrive/yolo_custom_model_Training3/custom_data/408.jpg  \n",
            "  inflating: /content/drive/MyDrive/yolo_custom_model_Training3/custom_data/408.txt  \n",
            "  inflating: /content/drive/MyDrive/yolo_custom_model_Training3/custom_data/409.jpg  \n",
            "  inflating: /content/drive/MyDrive/yolo_custom_model_Training3/custom_data/409.txt  \n",
            "  inflating: /content/drive/MyDrive/yolo_custom_model_Training3/custom_data/41.jpg  \n",
            "  inflating: /content/drive/MyDrive/yolo_custom_model_Training3/custom_data/41.txt  \n",
            "  inflating: /content/drive/MyDrive/yolo_custom_model_Training3/custom_data/410.jpg  \n",
            "  inflating: /content/drive/MyDrive/yolo_custom_model_Training3/custom_data/410.txt  \n",
            "  inflating: /content/drive/MyDrive/yolo_custom_model_Training3/custom_data/411.jpg  \n",
            "  inflating: /content/drive/MyDrive/yolo_custom_model_Training3/custom_data/411.txt  \n",
            "  inflating: /content/drive/MyDrive/yolo_custom_model_Training3/custom_data/412.jpg  \n",
            "  inflating: /content/drive/MyDrive/yolo_custom_model_Training3/custom_data/412.txt  \n",
            "  inflating: /content/drive/MyDrive/yolo_custom_model_Training3/custom_data/413.jpg  \n",
            "  inflating: /content/drive/MyDrive/yolo_custom_model_Training3/custom_data/413.txt  \n",
            "  inflating: /content/drive/MyDrive/yolo_custom_model_Training3/custom_data/414.jpg  \n",
            "  inflating: /content/drive/MyDrive/yolo_custom_model_Training3/custom_data/414.txt  \n",
            "  inflating: /content/drive/MyDrive/yolo_custom_model_Training3/custom_data/415.jpg  \n",
            "  inflating: /content/drive/MyDrive/yolo_custom_model_Training3/custom_data/415.txt  \n",
            "  inflating: /content/drive/MyDrive/yolo_custom_model_Training3/custom_data/416.jpg  \n",
            "  inflating: /content/drive/MyDrive/yolo_custom_model_Training3/custom_data/416.txt  \n",
            "  inflating: /content/drive/MyDrive/yolo_custom_model_Training3/custom_data/417.jpg  \n",
            "  inflating: /content/drive/MyDrive/yolo_custom_model_Training3/custom_data/417.txt  \n",
            "  inflating: /content/drive/MyDrive/yolo_custom_model_Training3/custom_data/418.jpg  \n",
            "  inflating: /content/drive/MyDrive/yolo_custom_model_Training3/custom_data/418.txt  \n",
            "  inflating: /content/drive/MyDrive/yolo_custom_model_Training3/custom_data/419.jpg  \n",
            "  inflating: /content/drive/MyDrive/yolo_custom_model_Training3/custom_data/419.txt  \n",
            "  inflating: /content/drive/MyDrive/yolo_custom_model_Training3/custom_data/42.jpg  \n",
            "  inflating: /content/drive/MyDrive/yolo_custom_model_Training3/custom_data/42.txt  \n",
            "  inflating: /content/drive/MyDrive/yolo_custom_model_Training3/custom_data/420.jpg  \n",
            "  inflating: /content/drive/MyDrive/yolo_custom_model_Training3/custom_data/420.txt  \n",
            "  inflating: /content/drive/MyDrive/yolo_custom_model_Training3/custom_data/421.jpg  \n",
            "  inflating: /content/drive/MyDrive/yolo_custom_model_Training3/custom_data/421.txt  \n",
            "  inflating: /content/drive/MyDrive/yolo_custom_model_Training3/custom_data/422.jpg  \n",
            "  inflating: /content/drive/MyDrive/yolo_custom_model_Training3/custom_data/422.txt  \n",
            "  inflating: /content/drive/MyDrive/yolo_custom_model_Training3/custom_data/423.jpg  \n",
            "  inflating: /content/drive/MyDrive/yolo_custom_model_Training3/custom_data/423.txt  \n",
            "  inflating: /content/drive/MyDrive/yolo_custom_model_Training3/custom_data/424.jpg  \n",
            "  inflating: /content/drive/MyDrive/yolo_custom_model_Training3/custom_data/424.txt  \n",
            "  inflating: /content/drive/MyDrive/yolo_custom_model_Training3/custom_data/425.jpg  \n",
            "  inflating: /content/drive/MyDrive/yolo_custom_model_Training3/custom_data/425.txt  \n",
            "  inflating: /content/drive/MyDrive/yolo_custom_model_Training3/custom_data/426.jpg  \n",
            "  inflating: /content/drive/MyDrive/yolo_custom_model_Training3/custom_data/426.txt  \n",
            "  inflating: /content/drive/MyDrive/yolo_custom_model_Training3/custom_data/427.jpg  \n",
            "  inflating: /content/drive/MyDrive/yolo_custom_model_Training3/custom_data/427.txt  \n",
            "  inflating: /content/drive/MyDrive/yolo_custom_model_Training3/custom_data/428.jpg  \n",
            "  inflating: /content/drive/MyDrive/yolo_custom_model_Training3/custom_data/428.txt  \n",
            "  inflating: /content/drive/MyDrive/yolo_custom_model_Training3/custom_data/429.jpg  \n",
            "  inflating: /content/drive/MyDrive/yolo_custom_model_Training3/custom_data/429.txt  \n",
            "  inflating: /content/drive/MyDrive/yolo_custom_model_Training3/custom_data/43.jpg  \n",
            "  inflating: /content/drive/MyDrive/yolo_custom_model_Training3/custom_data/43.txt  \n",
            "  inflating: /content/drive/MyDrive/yolo_custom_model_Training3/custom_data/430.jpg  \n",
            "  inflating: /content/drive/MyDrive/yolo_custom_model_Training3/custom_data/430.txt  \n",
            "  inflating: /content/drive/MyDrive/yolo_custom_model_Training3/custom_data/431.jpg  \n",
            "  inflating: /content/drive/MyDrive/yolo_custom_model_Training3/custom_data/431.txt  \n",
            "  inflating: /content/drive/MyDrive/yolo_custom_model_Training3/custom_data/432.jpg  \n",
            "  inflating: /content/drive/MyDrive/yolo_custom_model_Training3/custom_data/432.txt  \n",
            "  inflating: /content/drive/MyDrive/yolo_custom_model_Training3/custom_data/433.jpg  \n",
            "  inflating: /content/drive/MyDrive/yolo_custom_model_Training3/custom_data/433.txt  \n",
            "  inflating: /content/drive/MyDrive/yolo_custom_model_Training3/custom_data/434.jpg  \n",
            "  inflating: /content/drive/MyDrive/yolo_custom_model_Training3/custom_data/434.txt  \n",
            "  inflating: /content/drive/MyDrive/yolo_custom_model_Training3/custom_data/435.jpg  \n",
            "  inflating: /content/drive/MyDrive/yolo_custom_model_Training3/custom_data/435.txt  \n",
            "  inflating: /content/drive/MyDrive/yolo_custom_model_Training3/custom_data/436.jpg  \n",
            "  inflating: /content/drive/MyDrive/yolo_custom_model_Training3/custom_data/436.txt  \n",
            "  inflating: /content/drive/MyDrive/yolo_custom_model_Training3/custom_data/437.jpg  \n",
            "  inflating: /content/drive/MyDrive/yolo_custom_model_Training3/custom_data/437.txt  \n",
            "  inflating: /content/drive/MyDrive/yolo_custom_model_Training3/custom_data/438.jpg  \n",
            "  inflating: /content/drive/MyDrive/yolo_custom_model_Training3/custom_data/438.txt  \n",
            "  inflating: /content/drive/MyDrive/yolo_custom_model_Training3/custom_data/439.jpg  \n",
            "  inflating: /content/drive/MyDrive/yolo_custom_model_Training3/custom_data/439.txt  \n",
            "  inflating: /content/drive/MyDrive/yolo_custom_model_Training3/custom_data/44.jpg  \n",
            "  inflating: /content/drive/MyDrive/yolo_custom_model_Training3/custom_data/44.txt  \n",
            "  inflating: /content/drive/MyDrive/yolo_custom_model_Training3/custom_data/440.jpg  \n",
            "  inflating: /content/drive/MyDrive/yolo_custom_model_Training3/custom_data/440.txt  \n",
            "  inflating: /content/drive/MyDrive/yolo_custom_model_Training3/custom_data/441.jpg  \n",
            "  inflating: /content/drive/MyDrive/yolo_custom_model_Training3/custom_data/441.txt  \n",
            "  inflating: /content/drive/MyDrive/yolo_custom_model_Training3/custom_data/442.jpg  \n",
            "  inflating: /content/drive/MyDrive/yolo_custom_model_Training3/custom_data/442.txt  \n",
            "  inflating: /content/drive/MyDrive/yolo_custom_model_Training3/custom_data/443.jpg  \n",
            "  inflating: /content/drive/MyDrive/yolo_custom_model_Training3/custom_data/443.txt  \n",
            "  inflating: /content/drive/MyDrive/yolo_custom_model_Training3/custom_data/444.jpg  \n",
            "  inflating: /content/drive/MyDrive/yolo_custom_model_Training3/custom_data/444.txt  \n",
            "  inflating: /content/drive/MyDrive/yolo_custom_model_Training3/custom_data/445.jpg  \n",
            "  inflating: /content/drive/MyDrive/yolo_custom_model_Training3/custom_data/445.txt  \n",
            "  inflating: /content/drive/MyDrive/yolo_custom_model_Training3/custom_data/446.jpg  \n",
            "  inflating: /content/drive/MyDrive/yolo_custom_model_Training3/custom_data/446.txt  \n",
            "  inflating: /content/drive/MyDrive/yolo_custom_model_Training3/custom_data/447.jpg  \n",
            "  inflating: /content/drive/MyDrive/yolo_custom_model_Training3/custom_data/447.txt  \n",
            "  inflating: /content/drive/MyDrive/yolo_custom_model_Training3/custom_data/448.jpg  \n",
            "  inflating: /content/drive/MyDrive/yolo_custom_model_Training3/custom_data/448.txt  \n",
            "  inflating: /content/drive/MyDrive/yolo_custom_model_Training3/custom_data/449.jpg  \n",
            "  inflating: /content/drive/MyDrive/yolo_custom_model_Training3/custom_data/449.txt  \n",
            "  inflating: /content/drive/MyDrive/yolo_custom_model_Training3/custom_data/45.jpg  \n",
            "  inflating: /content/drive/MyDrive/yolo_custom_model_Training3/custom_data/45.txt  \n",
            "  inflating: /content/drive/MyDrive/yolo_custom_model_Training3/custom_data/450.jpg  \n",
            "  inflating: /content/drive/MyDrive/yolo_custom_model_Training3/custom_data/450.txt  \n",
            "  inflating: /content/drive/MyDrive/yolo_custom_model_Training3/custom_data/451.jpg  \n",
            "  inflating: /content/drive/MyDrive/yolo_custom_model_Training3/custom_data/451.txt  \n",
            "  inflating: /content/drive/MyDrive/yolo_custom_model_Training3/custom_data/452.jpg  \n",
            "  inflating: /content/drive/MyDrive/yolo_custom_model_Training3/custom_data/452.txt  \n",
            "  inflating: /content/drive/MyDrive/yolo_custom_model_Training3/custom_data/453.jpg  \n",
            "  inflating: /content/drive/MyDrive/yolo_custom_model_Training3/custom_data/453.txt  \n",
            "  inflating: /content/drive/MyDrive/yolo_custom_model_Training3/custom_data/454.jpg  \n",
            "  inflating: /content/drive/MyDrive/yolo_custom_model_Training3/custom_data/454.txt  \n",
            "  inflating: /content/drive/MyDrive/yolo_custom_model_Training3/custom_data/455.jpg  \n",
            "  inflating: /content/drive/MyDrive/yolo_custom_model_Training3/custom_data/455.txt  \n",
            "  inflating: /content/drive/MyDrive/yolo_custom_model_Training3/custom_data/456.jpg  \n",
            "  inflating: /content/drive/MyDrive/yolo_custom_model_Training3/custom_data/456.txt  \n",
            "  inflating: /content/drive/MyDrive/yolo_custom_model_Training3/custom_data/457.jpg  \n",
            "  inflating: /content/drive/MyDrive/yolo_custom_model_Training3/custom_data/457.txt  \n",
            "  inflating: /content/drive/MyDrive/yolo_custom_model_Training3/custom_data/458.jpg  \n",
            "  inflating: /content/drive/MyDrive/yolo_custom_model_Training3/custom_data/458.txt  \n",
            "  inflating: /content/drive/MyDrive/yolo_custom_model_Training3/custom_data/459.jpg  \n",
            "  inflating: /content/drive/MyDrive/yolo_custom_model_Training3/custom_data/459.txt  \n",
            "  inflating: /content/drive/MyDrive/yolo_custom_model_Training3/custom_data/46.jpg  \n",
            "  inflating: /content/drive/MyDrive/yolo_custom_model_Training3/custom_data/46.txt  \n",
            "  inflating: /content/drive/MyDrive/yolo_custom_model_Training3/custom_data/460.jpg  \n",
            "  inflating: /content/drive/MyDrive/yolo_custom_model_Training3/custom_data/460.txt  \n",
            "  inflating: /content/drive/MyDrive/yolo_custom_model_Training3/custom_data/461.jpg  \n",
            "  inflating: /content/drive/MyDrive/yolo_custom_model_Training3/custom_data/461.txt  \n",
            "  inflating: /content/drive/MyDrive/yolo_custom_model_Training3/custom_data/462.jpg  \n",
            "  inflating: /content/drive/MyDrive/yolo_custom_model_Training3/custom_data/462.txt  \n",
            "  inflating: /content/drive/MyDrive/yolo_custom_model_Training3/custom_data/463.jpg  \n",
            "  inflating: /content/drive/MyDrive/yolo_custom_model_Training3/custom_data/463.txt  \n",
            "  inflating: /content/drive/MyDrive/yolo_custom_model_Training3/custom_data/464.jpg  \n",
            "  inflating: /content/drive/MyDrive/yolo_custom_model_Training3/custom_data/464.txt  \n",
            "  inflating: /content/drive/MyDrive/yolo_custom_model_Training3/custom_data/465.jpg  \n",
            "  inflating: /content/drive/MyDrive/yolo_custom_model_Training3/custom_data/465.txt  \n",
            "  inflating: /content/drive/MyDrive/yolo_custom_model_Training3/custom_data/466.jpg  \n",
            "  inflating: /content/drive/MyDrive/yolo_custom_model_Training3/custom_data/466.txt  \n",
            "  inflating: /content/drive/MyDrive/yolo_custom_model_Training3/custom_data/467.jpg  \n",
            "  inflating: /content/drive/MyDrive/yolo_custom_model_Training3/custom_data/467.txt  \n",
            "  inflating: /content/drive/MyDrive/yolo_custom_model_Training3/custom_data/468.jpg  \n",
            "  inflating: /content/drive/MyDrive/yolo_custom_model_Training3/custom_data/468.txt  \n",
            "  inflating: /content/drive/MyDrive/yolo_custom_model_Training3/custom_data/469.jpg  \n",
            "  inflating: /content/drive/MyDrive/yolo_custom_model_Training3/custom_data/469.txt  \n",
            "  inflating: /content/drive/MyDrive/yolo_custom_model_Training3/custom_data/47.jpg  \n",
            "  inflating: /content/drive/MyDrive/yolo_custom_model_Training3/custom_data/47.txt  \n",
            "  inflating: /content/drive/MyDrive/yolo_custom_model_Training3/custom_data/470.jpg  \n",
            "  inflating: /content/drive/MyDrive/yolo_custom_model_Training3/custom_data/470.txt  \n",
            "  inflating: /content/drive/MyDrive/yolo_custom_model_Training3/custom_data/471.jpg  \n",
            "  inflating: /content/drive/MyDrive/yolo_custom_model_Training3/custom_data/471.txt  \n",
            "  inflating: /content/drive/MyDrive/yolo_custom_model_Training3/custom_data/472.jpg  \n",
            "  inflating: /content/drive/MyDrive/yolo_custom_model_Training3/custom_data/472.txt  \n",
            "  inflating: /content/drive/MyDrive/yolo_custom_model_Training3/custom_data/473.jpg  \n",
            "  inflating: /content/drive/MyDrive/yolo_custom_model_Training3/custom_data/473.txt  \n",
            "  inflating: /content/drive/MyDrive/yolo_custom_model_Training3/custom_data/474.jpg  \n",
            "  inflating: /content/drive/MyDrive/yolo_custom_model_Training3/custom_data/474.txt  \n",
            "  inflating: /content/drive/MyDrive/yolo_custom_model_Training3/custom_data/475.jpg  \n",
            "  inflating: /content/drive/MyDrive/yolo_custom_model_Training3/custom_data/475.txt  \n",
            "  inflating: /content/drive/MyDrive/yolo_custom_model_Training3/custom_data/476.jpg  \n",
            "  inflating: /content/drive/MyDrive/yolo_custom_model_Training3/custom_data/476.txt  \n",
            "  inflating: /content/drive/MyDrive/yolo_custom_model_Training3/custom_data/477.jpg  \n",
            "  inflating: /content/drive/MyDrive/yolo_custom_model_Training3/custom_data/477.txt  \n",
            "  inflating: /content/drive/MyDrive/yolo_custom_model_Training3/custom_data/478.jpg  \n",
            "  inflating: /content/drive/MyDrive/yolo_custom_model_Training3/custom_data/478.txt  \n",
            "  inflating: /content/drive/MyDrive/yolo_custom_model_Training3/custom_data/479.jpg  \n",
            "  inflating: /content/drive/MyDrive/yolo_custom_model_Training3/custom_data/479.txt  \n",
            "  inflating: /content/drive/MyDrive/yolo_custom_model_Training3/custom_data/48.jpg  \n",
            "  inflating: /content/drive/MyDrive/yolo_custom_model_Training3/custom_data/48.txt  \n",
            "  inflating: /content/drive/MyDrive/yolo_custom_model_Training3/custom_data/480.jpg  \n",
            "  inflating: /content/drive/MyDrive/yolo_custom_model_Training3/custom_data/480.txt  \n",
            "  inflating: /content/drive/MyDrive/yolo_custom_model_Training3/custom_data/481.jpg  \n",
            "  inflating: /content/drive/MyDrive/yolo_custom_model_Training3/custom_data/481.txt  \n",
            "  inflating: /content/drive/MyDrive/yolo_custom_model_Training3/custom_data/482.jpg  \n",
            "  inflating: /content/drive/MyDrive/yolo_custom_model_Training3/custom_data/482.txt  \n",
            "  inflating: /content/drive/MyDrive/yolo_custom_model_Training3/custom_data/483.jpg  \n",
            "  inflating: /content/drive/MyDrive/yolo_custom_model_Training3/custom_data/483.txt  \n",
            "  inflating: /content/drive/MyDrive/yolo_custom_model_Training3/custom_data/484.jpg  \n",
            "  inflating: /content/drive/MyDrive/yolo_custom_model_Training3/custom_data/484.txt  \n",
            "  inflating: /content/drive/MyDrive/yolo_custom_model_Training3/custom_data/485.jpg  \n",
            "  inflating: /content/drive/MyDrive/yolo_custom_model_Training3/custom_data/485.txt  \n",
            "  inflating: /content/drive/MyDrive/yolo_custom_model_Training3/custom_data/486.jpg  \n",
            "  inflating: /content/drive/MyDrive/yolo_custom_model_Training3/custom_data/486.txt  \n",
            "  inflating: /content/drive/MyDrive/yolo_custom_model_Training3/custom_data/487.jpg  \n",
            "  inflating: /content/drive/MyDrive/yolo_custom_model_Training3/custom_data/487.txt  \n",
            "  inflating: /content/drive/MyDrive/yolo_custom_model_Training3/custom_data/488.jpg  \n",
            "  inflating: /content/drive/MyDrive/yolo_custom_model_Training3/custom_data/488.txt  \n",
            "  inflating: /content/drive/MyDrive/yolo_custom_model_Training3/custom_data/489.jpg  \n",
            "  inflating: /content/drive/MyDrive/yolo_custom_model_Training3/custom_data/489.txt  \n",
            "  inflating: /content/drive/MyDrive/yolo_custom_model_Training3/custom_data/49.jpg  \n",
            "  inflating: /content/drive/MyDrive/yolo_custom_model_Training3/custom_data/49.txt  \n",
            "  inflating: /content/drive/MyDrive/yolo_custom_model_Training3/custom_data/490.jpg  \n",
            "  inflating: /content/drive/MyDrive/yolo_custom_model_Training3/custom_data/490.txt  \n",
            "  inflating: /content/drive/MyDrive/yolo_custom_model_Training3/custom_data/491.jpg  \n",
            "  inflating: /content/drive/MyDrive/yolo_custom_model_Training3/custom_data/491.txt  \n",
            "  inflating: /content/drive/MyDrive/yolo_custom_model_Training3/custom_data/492.jpg  \n",
            "  inflating: /content/drive/MyDrive/yolo_custom_model_Training3/custom_data/492.txt  \n",
            "  inflating: /content/drive/MyDrive/yolo_custom_model_Training3/custom_data/493.jpg  \n",
            "  inflating: /content/drive/MyDrive/yolo_custom_model_Training3/custom_data/493.txt  \n",
            "  inflating: /content/drive/MyDrive/yolo_custom_model_Training3/custom_data/494.jpg  \n",
            "  inflating: /content/drive/MyDrive/yolo_custom_model_Training3/custom_data/494.txt  \n",
            "  inflating: /content/drive/MyDrive/yolo_custom_model_Training3/custom_data/495.jpg  \n",
            "  inflating: /content/drive/MyDrive/yolo_custom_model_Training3/custom_data/495.txt  \n",
            "  inflating: /content/drive/MyDrive/yolo_custom_model_Training3/custom_data/496.jpg  \n",
            "  inflating: /content/drive/MyDrive/yolo_custom_model_Training3/custom_data/496.txt  \n",
            "  inflating: /content/drive/MyDrive/yolo_custom_model_Training3/custom_data/497.jpg  \n",
            "  inflating: /content/drive/MyDrive/yolo_custom_model_Training3/custom_data/497.txt  \n",
            "  inflating: /content/drive/MyDrive/yolo_custom_model_Training3/custom_data/498.jpg  \n",
            "  inflating: /content/drive/MyDrive/yolo_custom_model_Training3/custom_data/498.txt  \n",
            "  inflating: /content/drive/MyDrive/yolo_custom_model_Training3/custom_data/499.jpg  \n",
            "  inflating: /content/drive/MyDrive/yolo_custom_model_Training3/custom_data/499.txt  \n",
            "  inflating: /content/drive/MyDrive/yolo_custom_model_Training3/custom_data/5.jpg  \n",
            "  inflating: /content/drive/MyDrive/yolo_custom_model_Training3/custom_data/5.txt  \n",
            "  inflating: /content/drive/MyDrive/yolo_custom_model_Training3/custom_data/50.jpg  \n",
            "  inflating: /content/drive/MyDrive/yolo_custom_model_Training3/custom_data/50.txt  \n",
            "  inflating: /content/drive/MyDrive/yolo_custom_model_Training3/custom_data/500.jpg  \n",
            "  inflating: /content/drive/MyDrive/yolo_custom_model_Training3/custom_data/500.txt  \n",
            "  inflating: /content/drive/MyDrive/yolo_custom_model_Training3/custom_data/501.jpg  \n",
            "  inflating: /content/drive/MyDrive/yolo_custom_model_Training3/custom_data/501.txt  \n",
            "  inflating: /content/drive/MyDrive/yolo_custom_model_Training3/custom_data/502.jpg  \n",
            "  inflating: /content/drive/MyDrive/yolo_custom_model_Training3/custom_data/502.txt  \n",
            "  inflating: /content/drive/MyDrive/yolo_custom_model_Training3/custom_data/503.jpg  \n",
            "  inflating: /content/drive/MyDrive/yolo_custom_model_Training3/custom_data/503.txt  \n",
            "  inflating: /content/drive/MyDrive/yolo_custom_model_Training3/custom_data/504.jpg  \n",
            "  inflating: /content/drive/MyDrive/yolo_custom_model_Training3/custom_data/504.txt  \n",
            "  inflating: /content/drive/MyDrive/yolo_custom_model_Training3/custom_data/505.jpg  \n",
            "  inflating: /content/drive/MyDrive/yolo_custom_model_Training3/custom_data/505.txt  \n",
            "  inflating: /content/drive/MyDrive/yolo_custom_model_Training3/custom_data/506.jpg  \n",
            "  inflating: /content/drive/MyDrive/yolo_custom_model_Training3/custom_data/506.txt  \n",
            "  inflating: /content/drive/MyDrive/yolo_custom_model_Training3/custom_data/507.jpg  \n",
            "  inflating: /content/drive/MyDrive/yolo_custom_model_Training3/custom_data/507.txt  \n",
            "  inflating: /content/drive/MyDrive/yolo_custom_model_Training3/custom_data/508.jpg  \n",
            "  inflating: /content/drive/MyDrive/yolo_custom_model_Training3/custom_data/508.txt  \n",
            "  inflating: /content/drive/MyDrive/yolo_custom_model_Training3/custom_data/509.jpg  \n",
            "  inflating: /content/drive/MyDrive/yolo_custom_model_Training3/custom_data/509.txt  \n",
            "  inflating: /content/drive/MyDrive/yolo_custom_model_Training3/custom_data/51.jpg  \n",
            "  inflating: /content/drive/MyDrive/yolo_custom_model_Training3/custom_data/51.txt  \n",
            "  inflating: /content/drive/MyDrive/yolo_custom_model_Training3/custom_data/510.jpg  \n",
            "  inflating: /content/drive/MyDrive/yolo_custom_model_Training3/custom_data/510.txt  \n",
            "  inflating: /content/drive/MyDrive/yolo_custom_model_Training3/custom_data/511.jpg  \n",
            "  inflating: /content/drive/MyDrive/yolo_custom_model_Training3/custom_data/511.txt  \n",
            "  inflating: /content/drive/MyDrive/yolo_custom_model_Training3/custom_data/512.jpg  \n",
            "  inflating: /content/drive/MyDrive/yolo_custom_model_Training3/custom_data/512.txt  \n",
            "  inflating: /content/drive/MyDrive/yolo_custom_model_Training3/custom_data/513.jpg  \n",
            "  inflating: /content/drive/MyDrive/yolo_custom_model_Training3/custom_data/513.txt  \n",
            "  inflating: /content/drive/MyDrive/yolo_custom_model_Training3/custom_data/514.jpg  \n",
            "  inflating: /content/drive/MyDrive/yolo_custom_model_Training3/custom_data/514.txt  \n",
            "  inflating: /content/drive/MyDrive/yolo_custom_model_Training3/custom_data/515.jpg  \n",
            "  inflating: /content/drive/MyDrive/yolo_custom_model_Training3/custom_data/515.txt  \n",
            "  inflating: /content/drive/MyDrive/yolo_custom_model_Training3/custom_data/516.jpg  \n",
            "  inflating: /content/drive/MyDrive/yolo_custom_model_Training3/custom_data/516.txt  \n",
            "  inflating: /content/drive/MyDrive/yolo_custom_model_Training3/custom_data/517.jpg  \n",
            "  inflating: /content/drive/MyDrive/yolo_custom_model_Training3/custom_data/517.txt  \n",
            "  inflating: /content/drive/MyDrive/yolo_custom_model_Training3/custom_data/518.jpg  \n",
            "  inflating: /content/drive/MyDrive/yolo_custom_model_Training3/custom_data/518.txt  \n",
            "  inflating: /content/drive/MyDrive/yolo_custom_model_Training3/custom_data/519.jpg  \n",
            "  inflating: /content/drive/MyDrive/yolo_custom_model_Training3/custom_data/519.txt  \n",
            "  inflating: /content/drive/MyDrive/yolo_custom_model_Training3/custom_data/52.jpg  \n",
            "  inflating: /content/drive/MyDrive/yolo_custom_model_Training3/custom_data/52.txt  \n",
            "  inflating: /content/drive/MyDrive/yolo_custom_model_Training3/custom_data/520.jpg  \n",
            "  inflating: /content/drive/MyDrive/yolo_custom_model_Training3/custom_data/520.txt  \n",
            "  inflating: /content/drive/MyDrive/yolo_custom_model_Training3/custom_data/521.jpg  \n",
            "  inflating: /content/drive/MyDrive/yolo_custom_model_Training3/custom_data/521.txt  \n",
            "  inflating: /content/drive/MyDrive/yolo_custom_model_Training3/custom_data/522.jpg  \n",
            "  inflating: /content/drive/MyDrive/yolo_custom_model_Training3/custom_data/522.txt  \n",
            "  inflating: /content/drive/MyDrive/yolo_custom_model_Training3/custom_data/523.jpg  \n",
            "  inflating: /content/drive/MyDrive/yolo_custom_model_Training3/custom_data/523.txt  \n",
            "  inflating: /content/drive/MyDrive/yolo_custom_model_Training3/custom_data/524.jpg  \n",
            "  inflating: /content/drive/MyDrive/yolo_custom_model_Training3/custom_data/524.txt  \n",
            "  inflating: /content/drive/MyDrive/yolo_custom_model_Training3/custom_data/525.jpg  \n",
            "  inflating: /content/drive/MyDrive/yolo_custom_model_Training3/custom_data/525.txt  \n",
            "  inflating: /content/drive/MyDrive/yolo_custom_model_Training3/custom_data/526.jpg  \n",
            "  inflating: /content/drive/MyDrive/yolo_custom_model_Training3/custom_data/526.txt  \n",
            "  inflating: /content/drive/MyDrive/yolo_custom_model_Training3/custom_data/527.jpg  \n",
            "  inflating: /content/drive/MyDrive/yolo_custom_model_Training3/custom_data/527.txt  \n",
            "  inflating: /content/drive/MyDrive/yolo_custom_model_Training3/custom_data/528.jpg  \n",
            "  inflating: /content/drive/MyDrive/yolo_custom_model_Training3/custom_data/528.txt  \n",
            "  inflating: /content/drive/MyDrive/yolo_custom_model_Training3/custom_data/529.jpg  \n",
            "  inflating: /content/drive/MyDrive/yolo_custom_model_Training3/custom_data/529.txt  \n",
            "  inflating: /content/drive/MyDrive/yolo_custom_model_Training3/custom_data/53.jpg  \n",
            "  inflating: /content/drive/MyDrive/yolo_custom_model_Training3/custom_data/53.txt  \n",
            "  inflating: /content/drive/MyDrive/yolo_custom_model_Training3/custom_data/530.jpg  \n",
            "  inflating: /content/drive/MyDrive/yolo_custom_model_Training3/custom_data/530.txt  \n",
            "  inflating: /content/drive/MyDrive/yolo_custom_model_Training3/custom_data/531.jpg  \n",
            "  inflating: /content/drive/MyDrive/yolo_custom_model_Training3/custom_data/531.txt  \n",
            "  inflating: /content/drive/MyDrive/yolo_custom_model_Training3/custom_data/532.jpg  \n",
            "  inflating: /content/drive/MyDrive/yolo_custom_model_Training3/custom_data/532.txt  \n",
            "  inflating: /content/drive/MyDrive/yolo_custom_model_Training3/custom_data/533.jpg  \n",
            "  inflating: /content/drive/MyDrive/yolo_custom_model_Training3/custom_data/533.txt  \n",
            "  inflating: /content/drive/MyDrive/yolo_custom_model_Training3/custom_data/534.jpg  \n",
            "  inflating: /content/drive/MyDrive/yolo_custom_model_Training3/custom_data/534.txt  \n",
            "  inflating: /content/drive/MyDrive/yolo_custom_model_Training3/custom_data/535.jpg  \n",
            "  inflating: /content/drive/MyDrive/yolo_custom_model_Training3/custom_data/535.txt  \n",
            "  inflating: /content/drive/MyDrive/yolo_custom_model_Training3/custom_data/536.jpg  \n",
            "  inflating: /content/drive/MyDrive/yolo_custom_model_Training3/custom_data/536.txt  \n",
            "  inflating: /content/drive/MyDrive/yolo_custom_model_Training3/custom_data/537.jpg  \n",
            "  inflating: /content/drive/MyDrive/yolo_custom_model_Training3/custom_data/537.txt  \n",
            "  inflating: /content/drive/MyDrive/yolo_custom_model_Training3/custom_data/538.jpg  \n",
            "  inflating: /content/drive/MyDrive/yolo_custom_model_Training3/custom_data/538.txt  \n",
            "  inflating: /content/drive/MyDrive/yolo_custom_model_Training3/custom_data/539.jpg  \n",
            "  inflating: /content/drive/MyDrive/yolo_custom_model_Training3/custom_data/539.txt  \n",
            "  inflating: /content/drive/MyDrive/yolo_custom_model_Training3/custom_data/54.jpg  \n",
            "  inflating: /content/drive/MyDrive/yolo_custom_model_Training3/custom_data/54.txt  \n",
            "  inflating: /content/drive/MyDrive/yolo_custom_model_Training3/custom_data/540.jpg  \n",
            "  inflating: /content/drive/MyDrive/yolo_custom_model_Training3/custom_data/540.txt  \n",
            "  inflating: /content/drive/MyDrive/yolo_custom_model_Training3/custom_data/541.jpg  \n",
            "  inflating: /content/drive/MyDrive/yolo_custom_model_Training3/custom_data/541.txt  \n",
            "  inflating: /content/drive/MyDrive/yolo_custom_model_Training3/custom_data/542.jpg  \n",
            "  inflating: /content/drive/MyDrive/yolo_custom_model_Training3/custom_data/542.txt  \n",
            "  inflating: /content/drive/MyDrive/yolo_custom_model_Training3/custom_data/543.jpg  \n",
            "  inflating: /content/drive/MyDrive/yolo_custom_model_Training3/custom_data/543.txt  \n",
            "  inflating: /content/drive/MyDrive/yolo_custom_model_Training3/custom_data/544.jpg  \n",
            "  inflating: /content/drive/MyDrive/yolo_custom_model_Training3/custom_data/544.txt  \n",
            "  inflating: /content/drive/MyDrive/yolo_custom_model_Training3/custom_data/545.jpg  \n",
            "  inflating: /content/drive/MyDrive/yolo_custom_model_Training3/custom_data/545.txt  \n",
            "  inflating: /content/drive/MyDrive/yolo_custom_model_Training3/custom_data/546.jpg  \n",
            "  inflating: /content/drive/MyDrive/yolo_custom_model_Training3/custom_data/546.txt  \n",
            "  inflating: /content/drive/MyDrive/yolo_custom_model_Training3/custom_data/547.jpg  \n",
            "  inflating: /content/drive/MyDrive/yolo_custom_model_Training3/custom_data/547.txt  \n",
            "  inflating: /content/drive/MyDrive/yolo_custom_model_Training3/custom_data/548.jpg  \n",
            "  inflating: /content/drive/MyDrive/yolo_custom_model_Training3/custom_data/548.txt  \n",
            "  inflating: /content/drive/MyDrive/yolo_custom_model_Training3/custom_data/549.jpg  \n",
            "  inflating: /content/drive/MyDrive/yolo_custom_model_Training3/custom_data/549.txt  \n",
            "  inflating: /content/drive/MyDrive/yolo_custom_model_Training3/custom_data/55.jpg  \n",
            "  inflating: /content/drive/MyDrive/yolo_custom_model_Training3/custom_data/55.txt  \n",
            "  inflating: /content/drive/MyDrive/yolo_custom_model_Training3/custom_data/550.jpg  \n",
            "  inflating: /content/drive/MyDrive/yolo_custom_model_Training3/custom_data/550.txt  \n",
            "  inflating: /content/drive/MyDrive/yolo_custom_model_Training3/custom_data/551.jpg  \n",
            "  inflating: /content/drive/MyDrive/yolo_custom_model_Training3/custom_data/551.txt  \n",
            "  inflating: /content/drive/MyDrive/yolo_custom_model_Training3/custom_data/552.jpg  \n",
            "  inflating: /content/drive/MyDrive/yolo_custom_model_Training3/custom_data/552.txt  \n",
            "  inflating: /content/drive/MyDrive/yolo_custom_model_Training3/custom_data/553.jpg  \n",
            "  inflating: /content/drive/MyDrive/yolo_custom_model_Training3/custom_data/553.txt  \n",
            "  inflating: /content/drive/MyDrive/yolo_custom_model_Training3/custom_data/554.jpg  \n",
            "  inflating: /content/drive/MyDrive/yolo_custom_model_Training3/custom_data/554.txt  \n",
            "  inflating: /content/drive/MyDrive/yolo_custom_model_Training3/custom_data/555.jpg  \n",
            "  inflating: /content/drive/MyDrive/yolo_custom_model_Training3/custom_data/555.txt  \n",
            "  inflating: /content/drive/MyDrive/yolo_custom_model_Training3/custom_data/556.jpg  \n",
            "  inflating: /content/drive/MyDrive/yolo_custom_model_Training3/custom_data/556.txt  \n",
            "  inflating: /content/drive/MyDrive/yolo_custom_model_Training3/custom_data/557.jpg  \n",
            "  inflating: /content/drive/MyDrive/yolo_custom_model_Training3/custom_data/557.txt  \n",
            "  inflating: /content/drive/MyDrive/yolo_custom_model_Training3/custom_data/558.jpg  \n",
            "  inflating: /content/drive/MyDrive/yolo_custom_model_Training3/custom_data/558.txt  \n",
            "  inflating: /content/drive/MyDrive/yolo_custom_model_Training3/custom_data/559.jpg  \n",
            "  inflating: /content/drive/MyDrive/yolo_custom_model_Training3/custom_data/559.txt  \n",
            "  inflating: /content/drive/MyDrive/yolo_custom_model_Training3/custom_data/56.jpg  \n",
            "  inflating: /content/drive/MyDrive/yolo_custom_model_Training3/custom_data/56.txt  \n",
            "  inflating: /content/drive/MyDrive/yolo_custom_model_Training3/custom_data/560.jpg  \n",
            "  inflating: /content/drive/MyDrive/yolo_custom_model_Training3/custom_data/560.txt  \n",
            "  inflating: /content/drive/MyDrive/yolo_custom_model_Training3/custom_data/561.jpg  \n",
            "  inflating: /content/drive/MyDrive/yolo_custom_model_Training3/custom_data/561.txt  \n",
            "  inflating: /content/drive/MyDrive/yolo_custom_model_Training3/custom_data/562.jpg  \n",
            "  inflating: /content/drive/MyDrive/yolo_custom_model_Training3/custom_data/562.txt  \n",
            "  inflating: /content/drive/MyDrive/yolo_custom_model_Training3/custom_data/563.jpg  \n",
            "  inflating: /content/drive/MyDrive/yolo_custom_model_Training3/custom_data/563.txt  \n",
            "  inflating: /content/drive/MyDrive/yolo_custom_model_Training3/custom_data/564.jpg  \n",
            "  inflating: /content/drive/MyDrive/yolo_custom_model_Training3/custom_data/564.txt  \n",
            "  inflating: /content/drive/MyDrive/yolo_custom_model_Training3/custom_data/565.jpg  \n",
            "  inflating: /content/drive/MyDrive/yolo_custom_model_Training3/custom_data/565.txt  \n",
            "  inflating: /content/drive/MyDrive/yolo_custom_model_Training3/custom_data/566.jpg  \n",
            "  inflating: /content/drive/MyDrive/yolo_custom_model_Training3/custom_data/566.txt  \n",
            "  inflating: /content/drive/MyDrive/yolo_custom_model_Training3/custom_data/567.jpg  \n",
            "  inflating: /content/drive/MyDrive/yolo_custom_model_Training3/custom_data/567.txt  \n",
            "  inflating: /content/drive/MyDrive/yolo_custom_model_Training3/custom_data/568.jpg  \n",
            "  inflating: /content/drive/MyDrive/yolo_custom_model_Training3/custom_data/568.txt  \n",
            "  inflating: /content/drive/MyDrive/yolo_custom_model_Training3/custom_data/569.jpg  \n",
            "  inflating: /content/drive/MyDrive/yolo_custom_model_Training3/custom_data/569.txt  \n",
            "  inflating: /content/drive/MyDrive/yolo_custom_model_Training3/custom_data/57.jpg  \n",
            "  inflating: /content/drive/MyDrive/yolo_custom_model_Training3/custom_data/57.txt  \n",
            "  inflating: /content/drive/MyDrive/yolo_custom_model_Training3/custom_data/570.jpg  \n",
            "  inflating: /content/drive/MyDrive/yolo_custom_model_Training3/custom_data/570.txt  \n",
            "  inflating: /content/drive/MyDrive/yolo_custom_model_Training3/custom_data/571.jpg  \n",
            "  inflating: /content/drive/MyDrive/yolo_custom_model_Training3/custom_data/571.txt  \n",
            "  inflating: /content/drive/MyDrive/yolo_custom_model_Training3/custom_data/572.jpg  \n",
            "  inflating: /content/drive/MyDrive/yolo_custom_model_Training3/custom_data/572.txt  \n",
            "  inflating: /content/drive/MyDrive/yolo_custom_model_Training3/custom_data/573.jpg  \n",
            "  inflating: /content/drive/MyDrive/yolo_custom_model_Training3/custom_data/573.txt  \n",
            "  inflating: /content/drive/MyDrive/yolo_custom_model_Training3/custom_data/574.jpg  \n",
            "  inflating: /content/drive/MyDrive/yolo_custom_model_Training3/custom_data/574.txt  \n",
            "  inflating: /content/drive/MyDrive/yolo_custom_model_Training3/custom_data/575.jpg  \n",
            "  inflating: /content/drive/MyDrive/yolo_custom_model_Training3/custom_data/575.txt  \n",
            "  inflating: /content/drive/MyDrive/yolo_custom_model_Training3/custom_data/576.jpg  \n",
            "  inflating: /content/drive/MyDrive/yolo_custom_model_Training3/custom_data/576.txt  \n",
            "  inflating: /content/drive/MyDrive/yolo_custom_model_Training3/custom_data/577.jpg  \n",
            "  inflating: /content/drive/MyDrive/yolo_custom_model_Training3/custom_data/577.txt  \n",
            "  inflating: /content/drive/MyDrive/yolo_custom_model_Training3/custom_data/578.jpg  \n",
            "  inflating: /content/drive/MyDrive/yolo_custom_model_Training3/custom_data/578.txt  \n",
            "  inflating: /content/drive/MyDrive/yolo_custom_model_Training3/custom_data/579.jpg  \n",
            "  inflating: /content/drive/MyDrive/yolo_custom_model_Training3/custom_data/579.txt  \n",
            "  inflating: /content/drive/MyDrive/yolo_custom_model_Training3/custom_data/58.jpg  \n",
            "  inflating: /content/drive/MyDrive/yolo_custom_model_Training3/custom_data/58.txt  \n",
            "  inflating: /content/drive/MyDrive/yolo_custom_model_Training3/custom_data/580.jpg  \n",
            "  inflating: /content/drive/MyDrive/yolo_custom_model_Training3/custom_data/580.txt  \n",
            "  inflating: /content/drive/MyDrive/yolo_custom_model_Training3/custom_data/581.jpg  \n",
            "  inflating: /content/drive/MyDrive/yolo_custom_model_Training3/custom_data/581.txt  \n",
            "  inflating: /content/drive/MyDrive/yolo_custom_model_Training3/custom_data/582.jpg  \n",
            "  inflating: /content/drive/MyDrive/yolo_custom_model_Training3/custom_data/582.txt  \n",
            "  inflating: /content/drive/MyDrive/yolo_custom_model_Training3/custom_data/583.jpg  \n",
            "  inflating: /content/drive/MyDrive/yolo_custom_model_Training3/custom_data/583.txt  \n",
            "  inflating: /content/drive/MyDrive/yolo_custom_model_Training3/custom_data/584.jpg  \n",
            "  inflating: /content/drive/MyDrive/yolo_custom_model_Training3/custom_data/584.txt  \n",
            "  inflating: /content/drive/MyDrive/yolo_custom_model_Training3/custom_data/585.jpg  \n",
            "  inflating: /content/drive/MyDrive/yolo_custom_model_Training3/custom_data/585.txt  \n",
            "  inflating: /content/drive/MyDrive/yolo_custom_model_Training3/custom_data/586.jpg  \n",
            "  inflating: /content/drive/MyDrive/yolo_custom_model_Training3/custom_data/586.txt  \n",
            "  inflating: /content/drive/MyDrive/yolo_custom_model_Training3/custom_data/587.jpg  \n",
            "  inflating: /content/drive/MyDrive/yolo_custom_model_Training3/custom_data/587.txt  \n",
            "  inflating: /content/drive/MyDrive/yolo_custom_model_Training3/custom_data/588.jpg  \n",
            "  inflating: /content/drive/MyDrive/yolo_custom_model_Training3/custom_data/588.txt  \n",
            "  inflating: /content/drive/MyDrive/yolo_custom_model_Training3/custom_data/589.jpg  \n",
            "  inflating: /content/drive/MyDrive/yolo_custom_model_Training3/custom_data/589.txt  \n",
            "  inflating: /content/drive/MyDrive/yolo_custom_model_Training3/custom_data/59.jpg  \n",
            "  inflating: /content/drive/MyDrive/yolo_custom_model_Training3/custom_data/59.txt  \n",
            "  inflating: /content/drive/MyDrive/yolo_custom_model_Training3/custom_data/590.jpg  \n",
            "  inflating: /content/drive/MyDrive/yolo_custom_model_Training3/custom_data/590.txt  \n",
            "  inflating: /content/drive/MyDrive/yolo_custom_model_Training3/custom_data/591.jpg  \n",
            "  inflating: /content/drive/MyDrive/yolo_custom_model_Training3/custom_data/591.txt  \n",
            "  inflating: /content/drive/MyDrive/yolo_custom_model_Training3/custom_data/592.jpg  \n",
            "  inflating: /content/drive/MyDrive/yolo_custom_model_Training3/custom_data/592.txt  \n",
            "  inflating: /content/drive/MyDrive/yolo_custom_model_Training3/custom_data/593.jpg  \n",
            "  inflating: /content/drive/MyDrive/yolo_custom_model_Training3/custom_data/593.txt  \n",
            "  inflating: /content/drive/MyDrive/yolo_custom_model_Training3/custom_data/594.jpg  \n",
            "  inflating: /content/drive/MyDrive/yolo_custom_model_Training3/custom_data/594.txt  \n",
            "  inflating: /content/drive/MyDrive/yolo_custom_model_Training3/custom_data/595.jpg  \n",
            "  inflating: /content/drive/MyDrive/yolo_custom_model_Training3/custom_data/595.txt  \n",
            "  inflating: /content/drive/MyDrive/yolo_custom_model_Training3/custom_data/596.jpg  \n",
            "  inflating: /content/drive/MyDrive/yolo_custom_model_Training3/custom_data/596.txt  \n",
            "  inflating: /content/drive/MyDrive/yolo_custom_model_Training3/custom_data/597.jpg  \n",
            "  inflating: /content/drive/MyDrive/yolo_custom_model_Training3/custom_data/597.txt  \n",
            "  inflating: /content/drive/MyDrive/yolo_custom_model_Training3/custom_data/598.jpg  \n",
            "  inflating: /content/drive/MyDrive/yolo_custom_model_Training3/custom_data/598.txt  \n",
            "  inflating: /content/drive/MyDrive/yolo_custom_model_Training3/custom_data/599.jpg  \n",
            "  inflating: /content/drive/MyDrive/yolo_custom_model_Training3/custom_data/599.txt  \n",
            "  inflating: /content/drive/MyDrive/yolo_custom_model_Training3/custom_data/6.jpg  \n",
            "  inflating: /content/drive/MyDrive/yolo_custom_model_Training3/custom_data/6.txt  \n",
            "  inflating: /content/drive/MyDrive/yolo_custom_model_Training3/custom_data/60.jpg  \n",
            "  inflating: /content/drive/MyDrive/yolo_custom_model_Training3/custom_data/60.txt  \n",
            "  inflating: /content/drive/MyDrive/yolo_custom_model_Training3/custom_data/600.jpg  \n",
            "  inflating: /content/drive/MyDrive/yolo_custom_model_Training3/custom_data/600.txt  \n",
            "  inflating: /content/drive/MyDrive/yolo_custom_model_Training3/custom_data/61.jpg  \n",
            "  inflating: /content/drive/MyDrive/yolo_custom_model_Training3/custom_data/61.txt  \n",
            "  inflating: /content/drive/MyDrive/yolo_custom_model_Training3/custom_data/62.jpg  \n",
            "  inflating: /content/drive/MyDrive/yolo_custom_model_Training3/custom_data/62.txt  \n",
            "  inflating: /content/drive/MyDrive/yolo_custom_model_Training3/custom_data/63.jpg  \n",
            "  inflating: /content/drive/MyDrive/yolo_custom_model_Training3/custom_data/63.txt  \n",
            "  inflating: /content/drive/MyDrive/yolo_custom_model_Training3/custom_data/64.jpg  \n",
            "  inflating: /content/drive/MyDrive/yolo_custom_model_Training3/custom_data/64.txt  \n",
            "  inflating: /content/drive/MyDrive/yolo_custom_model_Training3/custom_data/65.jpg  \n",
            "  inflating: /content/drive/MyDrive/yolo_custom_model_Training3/custom_data/65.txt  \n",
            "  inflating: /content/drive/MyDrive/yolo_custom_model_Training3/custom_data/66.jpg  \n",
            "  inflating: /content/drive/MyDrive/yolo_custom_model_Training3/custom_data/66.txt  \n",
            "  inflating: /content/drive/MyDrive/yolo_custom_model_Training3/custom_data/67.jpg  \n",
            "  inflating: /content/drive/MyDrive/yolo_custom_model_Training3/custom_data/67.txt  \n",
            "  inflating: /content/drive/MyDrive/yolo_custom_model_Training3/custom_data/68.jpg  \n",
            "  inflating: /content/drive/MyDrive/yolo_custom_model_Training3/custom_data/68.txt  \n",
            "  inflating: /content/drive/MyDrive/yolo_custom_model_Training3/custom_data/69.jpg  \n",
            "  inflating: /content/drive/MyDrive/yolo_custom_model_Training3/custom_data/69.txt  \n",
            "  inflating: /content/drive/MyDrive/yolo_custom_model_Training3/custom_data/7.jpg  \n",
            "  inflating: /content/drive/MyDrive/yolo_custom_model_Training3/custom_data/7.txt  \n",
            "  inflating: /content/drive/MyDrive/yolo_custom_model_Training3/custom_data/70.jpg  \n",
            "  inflating: /content/drive/MyDrive/yolo_custom_model_Training3/custom_data/70.txt  \n",
            "  inflating: /content/drive/MyDrive/yolo_custom_model_Training3/custom_data/71.jpg  \n",
            "  inflating: /content/drive/MyDrive/yolo_custom_model_Training3/custom_data/71.txt  \n",
            "  inflating: /content/drive/MyDrive/yolo_custom_model_Training3/custom_data/72.jpg  \n",
            "  inflating: /content/drive/MyDrive/yolo_custom_model_Training3/custom_data/72.txt  \n",
            "  inflating: /content/drive/MyDrive/yolo_custom_model_Training3/custom_data/73.jpg  \n",
            "  inflating: /content/drive/MyDrive/yolo_custom_model_Training3/custom_data/73.txt  \n",
            "  inflating: /content/drive/MyDrive/yolo_custom_model_Training3/custom_data/74.jpg  \n",
            "  inflating: /content/drive/MyDrive/yolo_custom_model_Training3/custom_data/74.txt  \n",
            "  inflating: /content/drive/MyDrive/yolo_custom_model_Training3/custom_data/75.jpg  \n",
            "  inflating: /content/drive/MyDrive/yolo_custom_model_Training3/custom_data/75.txt  \n",
            "  inflating: /content/drive/MyDrive/yolo_custom_model_Training3/custom_data/76.jpg  \n",
            "  inflating: /content/drive/MyDrive/yolo_custom_model_Training3/custom_data/76.txt  \n",
            "  inflating: /content/drive/MyDrive/yolo_custom_model_Training3/custom_data/77.jpg  \n",
            "  inflating: /content/drive/MyDrive/yolo_custom_model_Training3/custom_data/77.txt  \n",
            "  inflating: /content/drive/MyDrive/yolo_custom_model_Training3/custom_data/78.jpg  \n",
            "  inflating: /content/drive/MyDrive/yolo_custom_model_Training3/custom_data/78.txt  \n",
            "  inflating: /content/drive/MyDrive/yolo_custom_model_Training3/custom_data/79.jpg  \n",
            "  inflating: /content/drive/MyDrive/yolo_custom_model_Training3/custom_data/79.txt  \n",
            "  inflating: /content/drive/MyDrive/yolo_custom_model_Training3/custom_data/8.jpg  \n",
            "  inflating: /content/drive/MyDrive/yolo_custom_model_Training3/custom_data/8.txt  \n",
            "  inflating: /content/drive/MyDrive/yolo_custom_model_Training3/custom_data/80.jpg  \n",
            "  inflating: /content/drive/MyDrive/yolo_custom_model_Training3/custom_data/80.txt  \n",
            "  inflating: /content/drive/MyDrive/yolo_custom_model_Training3/custom_data/81.jpg  \n",
            "  inflating: /content/drive/MyDrive/yolo_custom_model_Training3/custom_data/81.txt  \n",
            "  inflating: /content/drive/MyDrive/yolo_custom_model_Training3/custom_data/82.jpg  \n",
            "  inflating: /content/drive/MyDrive/yolo_custom_model_Training3/custom_data/82.txt  \n",
            "  inflating: /content/drive/MyDrive/yolo_custom_model_Training3/custom_data/83.jpg  \n",
            "  inflating: /content/drive/MyDrive/yolo_custom_model_Training3/custom_data/83.txt  \n",
            "  inflating: /content/drive/MyDrive/yolo_custom_model_Training3/custom_data/84.jpg  \n",
            "  inflating: /content/drive/MyDrive/yolo_custom_model_Training3/custom_data/84.txt  \n",
            "  inflating: /content/drive/MyDrive/yolo_custom_model_Training3/custom_data/85.jpg  \n",
            "  inflating: /content/drive/MyDrive/yolo_custom_model_Training3/custom_data/85.txt  \n",
            "  inflating: /content/drive/MyDrive/yolo_custom_model_Training3/custom_data/86.jpg  \n",
            "  inflating: /content/drive/MyDrive/yolo_custom_model_Training3/custom_data/86.txt  \n",
            "  inflating: /content/drive/MyDrive/yolo_custom_model_Training3/custom_data/87.jpg  \n",
            "  inflating: /content/drive/MyDrive/yolo_custom_model_Training3/custom_data/87.txt  \n",
            "  inflating: /content/drive/MyDrive/yolo_custom_model_Training3/custom_data/88.jpg  \n",
            "  inflating: /content/drive/MyDrive/yolo_custom_model_Training3/custom_data/88.txt  \n",
            "  inflating: /content/drive/MyDrive/yolo_custom_model_Training3/custom_data/89.jpg  \n",
            "  inflating: /content/drive/MyDrive/yolo_custom_model_Training3/custom_data/89.txt  \n",
            "  inflating: /content/drive/MyDrive/yolo_custom_model_Training3/custom_data/9.jpg  \n",
            "  inflating: /content/drive/MyDrive/yolo_custom_model_Training3/custom_data/9.txt  \n",
            "  inflating: /content/drive/MyDrive/yolo_custom_model_Training3/custom_data/90.jpg  \n",
            "  inflating: /content/drive/MyDrive/yolo_custom_model_Training3/custom_data/90.txt  \n",
            "  inflating: /content/drive/MyDrive/yolo_custom_model_Training3/custom_data/91.jpg  \n",
            "  inflating: /content/drive/MyDrive/yolo_custom_model_Training3/custom_data/91.txt  \n",
            "  inflating: /content/drive/MyDrive/yolo_custom_model_Training3/custom_data/92.jpg  \n",
            "  inflating: /content/drive/MyDrive/yolo_custom_model_Training3/custom_data/92.txt  \n",
            "  inflating: /content/drive/MyDrive/yolo_custom_model_Training3/custom_data/93.jpg  \n",
            "  inflating: /content/drive/MyDrive/yolo_custom_model_Training3/custom_data/93.txt  \n",
            "  inflating: /content/drive/MyDrive/yolo_custom_model_Training3/custom_data/94.jpg  \n",
            "  inflating: /content/drive/MyDrive/yolo_custom_model_Training3/custom_data/94.txt  \n",
            "  inflating: /content/drive/MyDrive/yolo_custom_model_Training3/custom_data/95.jpg  \n",
            "  inflating: /content/drive/MyDrive/yolo_custom_model_Training3/custom_data/95.txt  \n",
            "  inflating: /content/drive/MyDrive/yolo_custom_model_Training3/custom_data/96.jpg  \n",
            "  inflating: /content/drive/MyDrive/yolo_custom_model_Training3/custom_data/96.txt  \n",
            "  inflating: /content/drive/MyDrive/yolo_custom_model_Training3/custom_data/97.jpg  \n",
            "  inflating: /content/drive/MyDrive/yolo_custom_model_Training3/custom_data/97.txt  \n",
            "  inflating: /content/drive/MyDrive/yolo_custom_model_Training3/custom_data/98.jpg  \n",
            "  inflating: /content/drive/MyDrive/yolo_custom_model_Training3/custom_data/98.txt  \n",
            "  inflating: /content/drive/MyDrive/yolo_custom_model_Training3/custom_data/99.jpg  \n",
            "  inflating: /content/drive/MyDrive/yolo_custom_model_Training3/custom_data/99.txt  \n",
            "  inflating: /content/drive/MyDrive/yolo_custom_model_Training3/custom_data/classes.txt  \n"
          ]
        }
      ]
    },
    {
      "cell_type": "markdown",
      "source": [
        "7. 현재 디렉토리 확인하기 \n",
        "\n",
        "/content/drive/MyDrive/yolo_custom_model_Training3 여기여야함 "
      ],
      "metadata": {
        "id": "xDZKqoYB0P_R"
      }
    },
    {
      "cell_type": "code",
      "source": [
        "%pwd"
      ],
      "metadata": {
        "colab": {
          "base_uri": "https://localhost:8080/",
          "height": 35
        },
        "id": "ZhpQzvjX0VLP",
        "outputId": "323b3402-e9db-4946-b86b-01a3b01cf79b"
      },
      "execution_count": null,
      "outputs": [
        {
          "output_type": "execute_result",
          "data": {
            "text/plain": [
              "'/content/drive/MyDrive/yolo_custom_model_Training3'"
            ],
            "application/vnd.google.colaboratory.intrinsic+json": {
              "type": "string"
            }
          },
          "metadata": {},
          "execution_count": 6
        }
      ]
    },
    {
      "cell_type": "markdown",
      "source": [
        "8. 다크넷 신경망 다운 받기 \n",
        "\n",
        "- object detection 을 전문으로 하는 다크넷 (신경망) 다운받기 \n",
        "- got 허브 주소 입력 -> 다운받을 경로 입력 \n",
        "- 나중에 폴더 확인해보면 여러가지 폴더가 많이 생긴것 확인 가능 "
      ],
      "metadata": {
        "id": "r4wnJNh40ZS-"
      }
    },
    {
      "cell_type": "code",
      "source": [
        "# download dataset in current directory(above path)\n",
        "!git clone 'https://github.com/AlexeyAB/darknet.git' '/content/drive/MyDrive/yolo_custom_model_Training3/darknet'"
      ],
      "metadata": {
        "colab": {
          "base_uri": "https://localhost:8080/"
        },
        "id": "0aOFRMnR0cNX",
        "outputId": "7fbdd302-001c-4d08-b4c1-d36b54f35835"
      },
      "execution_count": null,
      "outputs": [
        {
          "output_type": "stream",
          "name": "stdout",
          "text": [
            "Cloning into '/content/drive/MyDrive/yolo_custom_model_Training3/darknet'...\n",
            "remote: Enumerating objects: 15460, done.\u001b[K\n",
            "remote: Counting objects: 100% (36/36), done.\u001b[K\n",
            "remote: Compressing objects: 100% (31/31), done.\u001b[K\n",
            "remote: Total 15460 (delta 6), reused 25 (delta 3), pack-reused 15424\u001b[K\n",
            "Receiving objects: 100% (15460/15460), 14.09 MiB | 8.11 MiB/s, done.\n",
            "Resolving deltas: 100% (10372/10372), done.\n",
            "Checking out files: 100% (2053/2053), done.\n"
          ]
        }
      ]
    },
    {
      "cell_type": "markdown",
      "source": [
        "9. 현재 디렉토리에서 다운 받은 다크넷 폴더로 이동하기 "
      ],
      "metadata": {
        "id": "75OD3RNN02vR"
      }
    },
    {
      "cell_type": "code",
      "source": [
        "# move current directory to darknet\n",
        "%cd /content/drive/MyDrive/yolo_custom_model_Training3/darknet"
      ],
      "metadata": {
        "colab": {
          "base_uri": "https://localhost:8080/"
        },
        "id": "7aXtczPg05M8",
        "outputId": "bf73f353-b857-4bcc-db0e-47329ec238ce"
      },
      "execution_count": null,
      "outputs": [
        {
          "output_type": "stream",
          "name": "stdout",
          "text": [
            "/content/drive/MyDrive/yolo_custom_model_Training3/darknet\n"
          ]
        }
      ]
    },
    {
      "cell_type": "markdown",
      "source": [
        "10. makefile 내용 수정하기 \n",
        "\n",
        "- darknet 파일에 들어가보면 makefile 이라는 폴더가 있는데 그 내용을 수정해 주어야합니다.\n",
        "- 클릭하여 들어가보면 GPU = 0 , CUDNN = 0 등 설정이 되어있는데 0 이라는 의미는 사용하지 않겠다는 의미입니다.\n",
        "- 이것을 사용하겠다는의미인 1로 변경해주어야합니다. \n",
        "- 리눅스 vi 편집기 명령어로 변경합니다.  "
      ],
      "metadata": {
        "id": "ZLfxSpTE07gT"
      }
    },
    {
      "cell_type": "code",
      "source": [
        "# change setting values in 'Makefile' file \n",
        "!sed -i 's/OPENCV=0/OPENCV=1/' Makefile # opencv 사용\n",
        "!sed -i 's/GPU=0/GPU=1/' Makefile       # gpu 사용 \n",
        "\n",
        "# cuda ? GPU 를 현재 피씨에서 사용할 수 있도록하는 펌웨어(하드웨어를 작동시키기 위한 소프트웨어)\n",
        "!sed -i 's/CUDNN=0/CUDNN=1/' Makefile   # cuda 를 사용가능하게하는것 \n",
        "!sed -i 's/CUDNN_HALF=0/CUDNN_HALF=1/' Makefile # cuda 를 사용가능하게 하는것 \n",
        "\n",
        "!sed -i 's/LIBSO=0/LIBSO=1/' Makefile   # Library 관련한 파라미터 "
      ],
      "metadata": {
        "id": "DvDpgeVF0-Ag"
      },
      "execution_count": null,
      "outputs": []
    },
    {
      "cell_type": "markdown",
      "source": [
        "11. 수정된 make 파일을 compile (실행) 환경설정을 하기 \n",
        "- 변경된 내용을 반영하는것 \n"
      ],
      "metadata": {
        "id": "NUyhkRKa1C-7"
      }
    },
    {
      "cell_type": "code",
      "source": [
        "# Compile model\n",
        "\"\"\"  take care do not disconnect : file directory may be interupted \n",
        "if your network down during compile, I recommend delete darknet folder and restart number 4(get AlexeyAB/darknet)\"\"\"\n",
        "\n",
        "!make"
      ],
      "metadata": {
        "colab": {
          "base_uri": "https://localhost:8080/"
        },
        "id": "4tVK58921How",
        "outputId": "e604389e-3d8c-4a15-91b0-9d5a0e6594e3"
      },
      "execution_count": null,
      "outputs": [
        {
          "output_type": "stream",
          "name": "stdout",
          "text": [
            "mkdir -p ./obj/\n",
            "mkdir -p backup\n",
            "chmod +x *.sh\n",
            "g++ -std=c++11 -std=c++11 -Iinclude/ -I3rdparty/stb/include -DOPENCV `pkg-config --cflags opencv4 2> /dev/null || pkg-config --cflags opencv` -DGPU -I/usr/local/cuda/include/ -DCUDNN -DCUDNN_HALF -Wall -Wfatal-errors -Wno-unused-result -Wno-unknown-pragmas -fPIC -Ofast -DOPENCV -DGPU -DCUDNN -I/usr/local/cudnn/include -DCUDNN_HALF -fPIC -c ./src/image_opencv.cpp -o obj/image_opencv.o\n",
            "\u001b[01m\u001b[K./src/image_opencv.cpp:\u001b[m\u001b[K In function ‘\u001b[01m\u001b[Kvoid draw_detections_cv_v3(void**, detection*, int, float, char**, image**, int, int)\u001b[m\u001b[K’:\n",
            "\u001b[01m\u001b[K./src/image_opencv.cpp:946:23:\u001b[m\u001b[K \u001b[01;35m\u001b[Kwarning: \u001b[m\u001b[Kvariable ‘\u001b[01m\u001b[Krgb\u001b[m\u001b[K’ set but not used [\u001b[01;35m\u001b[K-Wunused-but-set-variable\u001b[m\u001b[K]\n",
            "                 float \u001b[01;35m\u001b[Krgb\u001b[m\u001b[K[3];\n",
            "                       \u001b[01;35m\u001b[K^~~\u001b[m\u001b[K\n",
            "\u001b[01m\u001b[K./src/image_opencv.cpp:\u001b[m\u001b[K In function ‘\u001b[01m\u001b[Kvoid draw_train_loss(char*, void**, int, float, float, int, int, float, int, char*, float, int, int, double)\u001b[m\u001b[K’:\n",
            "\u001b[01m\u001b[K./src/image_opencv.cpp:1147:13:\u001b[m\u001b[K \u001b[01;35m\u001b[Kwarning: \u001b[m\u001b[Kthis ‘\u001b[01m\u001b[Kif\u001b[m\u001b[K’ clause does not guard... [\u001b[01;35m\u001b[K-Wmisleading-indentation\u001b[m\u001b[K]\n",
            "             \u001b[01;35m\u001b[Kif\u001b[m\u001b[K (iteration_old == 0)\n",
            "             \u001b[01;35m\u001b[K^~\u001b[m\u001b[K\n",
            "\u001b[01m\u001b[K./src/image_opencv.cpp:1150:10:\u001b[m\u001b[K \u001b[01;36m\u001b[Knote: \u001b[m\u001b[K...this statement, but the latter is misleadingly indented as if it were guarded by the ‘\u001b[01m\u001b[Kif\u001b[m\u001b[K’\n",
            "          \u001b[01;36m\u001b[Kif\u001b[m\u001b[K (iteration_old != 0){\n",
            "          \u001b[01;36m\u001b[K^~\u001b[m\u001b[K\n",
            "\u001b[01m\u001b[K./src/image_opencv.cpp:\u001b[m\u001b[K In function ‘\u001b[01m\u001b[Kvoid cv_draw_object(image, float*, int, int, int*, float*, int*, int, char**)\u001b[m\u001b[K’:\n",
            "\u001b[01m\u001b[K./src/image_opencv.cpp:1444:14:\u001b[m\u001b[K \u001b[01;35m\u001b[Kwarning: \u001b[m\u001b[Kunused variable ‘\u001b[01m\u001b[Kbuff\u001b[m\u001b[K’ [\u001b[01;35m\u001b[K-Wunused-variable\u001b[m\u001b[K]\n",
            "         char \u001b[01;35m\u001b[Kbuff\u001b[m\u001b[K[100];\n",
            "              \u001b[01;35m\u001b[K^~~~\u001b[m\u001b[K\n",
            "\u001b[01m\u001b[K./src/image_opencv.cpp:1420:9:\u001b[m\u001b[K \u001b[01;35m\u001b[Kwarning: \u001b[m\u001b[Kunused variable ‘\u001b[01m\u001b[Kit_tb_res\u001b[m\u001b[K’ [\u001b[01;35m\u001b[K-Wunused-variable\u001b[m\u001b[K]\n",
            "     int \u001b[01;35m\u001b[Kit_tb_res\u001b[m\u001b[K = cv::createTrackbar(it_trackbar_name, window_name, &it_trackbar_value, 1000);\n",
            "         \u001b[01;35m\u001b[K^~~~~~~~~\u001b[m\u001b[K\n",
            "\u001b[01m\u001b[K./src/image_opencv.cpp:1424:9:\u001b[m\u001b[K \u001b[01;35m\u001b[Kwarning: \u001b[m\u001b[Kunused variable ‘\u001b[01m\u001b[Klr_tb_res\u001b[m\u001b[K’ [\u001b[01;35m\u001b[K-Wunused-variable\u001b[m\u001b[K]\n",
            "     int \u001b[01;35m\u001b[Klr_tb_res\u001b[m\u001b[K = cv::createTrackbar(lr_trackbar_name, window_name, &lr_trackbar_value, 20);\n",
            "         \u001b[01;35m\u001b[K^~~~~~~~~\u001b[m\u001b[K\n",
            "\u001b[01m\u001b[K./src/image_opencv.cpp:1428:9:\u001b[m\u001b[K \u001b[01;35m\u001b[Kwarning: \u001b[m\u001b[Kunused variable ‘\u001b[01m\u001b[Kcl_tb_res\u001b[m\u001b[K’ [\u001b[01;35m\u001b[K-Wunused-variable\u001b[m\u001b[K]\n",
            "     int \u001b[01;35m\u001b[Kcl_tb_res\u001b[m\u001b[K = cv::createTrackbar(cl_trackbar_name, window_name, &cl_trackbar_value, classes-1);\n",
            "         \u001b[01;35m\u001b[K^~~~~~~~~\u001b[m\u001b[K\n",
            "\u001b[01m\u001b[K./src/image_opencv.cpp:1431:9:\u001b[m\u001b[K \u001b[01;35m\u001b[Kwarning: \u001b[m\u001b[Kunused variable ‘\u001b[01m\u001b[Kbo_tb_res\u001b[m\u001b[K’ [\u001b[01;35m\u001b[K-Wunused-variable\u001b[m\u001b[K]\n",
            "     int \u001b[01;35m\u001b[Kbo_tb_res\u001b[m\u001b[K = cv::createTrackbar(bo_trackbar_name, window_name, boxonly, 1);\n",
            "         \u001b[01;35m\u001b[K^~~~~~~~~\u001b[m\u001b[K\n",
            "g++ -std=c++11 -std=c++11 -Iinclude/ -I3rdparty/stb/include -DOPENCV `pkg-config --cflags opencv4 2> /dev/null || pkg-config --cflags opencv` -DGPU -I/usr/local/cuda/include/ -DCUDNN -DCUDNN_HALF -Wall -Wfatal-errors -Wno-unused-result -Wno-unknown-pragmas -fPIC -Ofast -DOPENCV -DGPU -DCUDNN -I/usr/local/cudnn/include -DCUDNN_HALF -fPIC -c ./src/http_stream.cpp -o obj/http_stream.o\n",
            "\u001b[01m\u001b[K./src/http_stream.cpp:\u001b[m\u001b[K In member function ‘\u001b[01m\u001b[Kbool JSON_sender::write(const char*)\u001b[m\u001b[K’:\n",
            "\u001b[01m\u001b[K./src/http_stream.cpp:253:21:\u001b[m\u001b[K \u001b[01;35m\u001b[Kwarning: \u001b[m\u001b[Kunused variable ‘\u001b[01m\u001b[Kn\u001b[m\u001b[K’ [\u001b[01;35m\u001b[K-Wunused-variable\u001b[m\u001b[K]\n",
            "                 int \u001b[01;35m\u001b[Kn\u001b[m\u001b[K = _write(client, outputbuf, outlen);\n",
            "                     \u001b[01;35m\u001b[K^\u001b[m\u001b[K\n",
            "\u001b[01m\u001b[K./src/http_stream.cpp:\u001b[m\u001b[K In member function ‘\u001b[01m\u001b[Kbool MJPG_sender::write(const cv::Mat&)\u001b[m\u001b[K’:\n",
            "\u001b[01m\u001b[K./src/http_stream.cpp:511:113:\u001b[m\u001b[K \u001b[01;35m\u001b[Kwarning: \u001b[m\u001b[Kformat ‘\u001b[01m\u001b[K%zu\u001b[m\u001b[K’ expects argument of type ‘\u001b[01m\u001b[Ksize_t\u001b[m\u001b[K’, but argument 3 has type ‘\u001b[01m\u001b[Kint\u001b[m\u001b[K’ [\u001b[01;35m\u001b[K-Wformat=\u001b[m\u001b[K]\n",
            "                 sprintf(head, \"--mjpegstream\\r\\nContent-Type: image/jpeg\\r\\nContent-Length: %zu\\r\\n\\r\\n\", outlen\u001b[01;35m\u001b[K)\u001b[m\u001b[K;\n",
            "                                                                                                                 \u001b[01;35m\u001b[K^\u001b[m\u001b[K\n",
            "\u001b[01m\u001b[K./src/http_stream.cpp:\u001b[m\u001b[K In function ‘\u001b[01m\u001b[Kvoid set_track_id(detection*, int, float, float, float, int, int, int)\u001b[m\u001b[K’:\n",
            "\u001b[01m\u001b[K./src/http_stream.cpp:867:27:\u001b[m\u001b[K \u001b[01;35m\u001b[Kwarning: \u001b[m\u001b[Kcomparison between signed and unsigned integer expressions [\u001b[01;35m\u001b[K-Wsign-compare\u001b[m\u001b[K]\n",
            "         for (int i = 0; \u001b[01;35m\u001b[Ki < v.size()\u001b[m\u001b[K; ++i) {\n",
            "                         \u001b[01;35m\u001b[K~~^~~~~~~~~~\u001b[m\u001b[K\n",
            "\u001b[01m\u001b[K./src/http_stream.cpp:875:33:\u001b[m\u001b[K \u001b[01;35m\u001b[Kwarning: \u001b[m\u001b[Kcomparison between signed and unsigned integer expressions [\u001b[01;35m\u001b[K-Wsign-compare\u001b[m\u001b[K]\n",
            "     for (int old_id = 0; \u001b[01;35m\u001b[Kold_id < old_dets.size()\u001b[m\u001b[K; ++old_id) {\n",
            "                          \u001b[01;35m\u001b[K~~~~~~~^~~~~~~~~~~~~~~~~\u001b[m\u001b[K\n",
            "\u001b[01m\u001b[K./src/http_stream.cpp:894:31:\u001b[m\u001b[K \u001b[01;35m\u001b[Kwarning: \u001b[m\u001b[Kcomparison between signed and unsigned integer expressions [\u001b[01;35m\u001b[K-Wsign-compare\u001b[m\u001b[K]\n",
            "     for (int index = 0; \u001b[01;35m\u001b[Kindex < new_dets_num*old_dets.size()\u001b[m\u001b[K; ++index) {\n",
            "                         \u001b[01;35m\u001b[K~~~~~~^~~~~~~~~~~~~~~~~~~~~~~~~~~~~~\u001b[m\u001b[K\n",
            "\u001b[01m\u001b[K./src/http_stream.cpp:930:28:\u001b[m\u001b[K \u001b[01;35m\u001b[Kwarning: \u001b[m\u001b[Kcomparison between signed and unsigned integer expressions [\u001b[01;35m\u001b[K-Wsign-compare\u001b[m\u001b[K]\n",
            "     if (\u001b[01;35m\u001b[Kold_dets_dq.size() > deque_size\u001b[m\u001b[K) old_dets_dq.pop_front();\n",
            "         \u001b[01;35m\u001b[K~~~~~~~~~~~~~~~~~~~^~~~~~~~~~~~\u001b[m\u001b[K\n",
            "gcc -Iinclude/ -I3rdparty/stb/include -DOPENCV `pkg-config --cflags opencv4 2> /dev/null || pkg-config --cflags opencv` -DGPU -I/usr/local/cuda/include/ -DCUDNN -DCUDNN_HALF -Wall -Wfatal-errors -Wno-unused-result -Wno-unknown-pragmas -fPIC -Ofast -DOPENCV -DGPU -DCUDNN -I/usr/local/cudnn/include -DCUDNN_HALF -fPIC -c ./src/gemm.c -o obj/gemm.o\n",
            "\u001b[01m\u001b[K./src/gemm.c:\u001b[m\u001b[K In function ‘\u001b[01m\u001b[Kconvolution_2d\u001b[m\u001b[K’:\n",
            "\u001b[01m\u001b[K./src/gemm.c:2044:15:\u001b[m\u001b[K \u001b[01;35m\u001b[Kwarning: \u001b[m\u001b[Kunused variable ‘\u001b[01m\u001b[Kout_w\u001b[m\u001b[K’ [\u001b[01;35m\u001b[K-Wunused-variable\u001b[m\u001b[K]\n",
            "     const int \u001b[01;35m\u001b[Kout_w\u001b[m\u001b[K = (w + 2 * pad - ksize) / stride + 1;    // output_width=input_width for stride=1 and pad=1\n",
            "               \u001b[01;35m\u001b[K^~~~~\u001b[m\u001b[K\n",
            "\u001b[01m\u001b[K./src/gemm.c:2043:15:\u001b[m\u001b[K \u001b[01;35m\u001b[Kwarning: \u001b[m\u001b[Kunused variable ‘\u001b[01m\u001b[Kout_h\u001b[m\u001b[K’ [\u001b[01;35m\u001b[K-Wunused-variable\u001b[m\u001b[K]\n",
            "     const int \u001b[01;35m\u001b[Kout_h\u001b[m\u001b[K = (h + 2 * pad - ksize) / stride + 1;    // output_height=input_height for stride=1 and pad=1\n",
            "               \u001b[01;35m\u001b[K^~~~~\u001b[m\u001b[K\n",
            "gcc -Iinclude/ -I3rdparty/stb/include -DOPENCV `pkg-config --cflags opencv4 2> /dev/null || pkg-config --cflags opencv` -DGPU -I/usr/local/cuda/include/ -DCUDNN -DCUDNN_HALF -Wall -Wfatal-errors -Wno-unused-result -Wno-unknown-pragmas -fPIC -Ofast -DOPENCV -DGPU -DCUDNN -I/usr/local/cudnn/include -DCUDNN_HALF -fPIC -c ./src/utils.c -o obj/utils.o\n",
            "\u001b[01m\u001b[K./src/utils.c:\u001b[m\u001b[K In function ‘\u001b[01m\u001b[Kcustom_hash\u001b[m\u001b[K’:\n",
            "\u001b[01m\u001b[K./src/utils.c:1061:12:\u001b[m\u001b[K \u001b[01;35m\u001b[Kwarning: \u001b[m\u001b[Ksuggest parentheses around assignment used as truth value [\u001b[01;35m\u001b[K-Wparentheses\u001b[m\u001b[K]\n",
            "     while (\u001b[01;35m\u001b[Kc\u001b[m\u001b[K = *str++)\n",
            "            \u001b[01;35m\u001b[K^\u001b[m\u001b[K\n",
            "gcc -Iinclude/ -I3rdparty/stb/include -DOPENCV `pkg-config --cflags opencv4 2> /dev/null || pkg-config --cflags opencv` -DGPU -I/usr/local/cuda/include/ -DCUDNN -DCUDNN_HALF -Wall -Wfatal-errors -Wno-unused-result -Wno-unknown-pragmas -fPIC -Ofast -DOPENCV -DGPU -DCUDNN -I/usr/local/cudnn/include -DCUDNN_HALF -fPIC -c ./src/dark_cuda.c -o obj/dark_cuda.o\n",
            "\u001b[01m\u001b[K./src/dark_cuda.c:\u001b[m\u001b[K In function ‘\u001b[01m\u001b[Kcudnn_check_error_extended\u001b[m\u001b[K’:\n",
            "\u001b[01m\u001b[K./src/dark_cuda.c:230:20:\u001b[m\u001b[K \u001b[01;35m\u001b[Kwarning: \u001b[m\u001b[Kcomparison between ‘\u001b[01m\u001b[KcudaError_t {aka enum cudaError}\u001b[m\u001b[K’ and ‘\u001b[01m\u001b[Kenum <anonymous>\u001b[m\u001b[K’ [\u001b[01;35m\u001b[K-Wenum-compare\u001b[m\u001b[K]\n",
            "         if (status \u001b[01;35m\u001b[K!=\u001b[m\u001b[K CUDNN_STATUS_SUCCESS)\n",
            "                    \u001b[01;35m\u001b[K^~\u001b[m\u001b[K\n",
            "\u001b[01m\u001b[K./src/dark_cuda.c:\u001b[m\u001b[K In function ‘\u001b[01m\u001b[Kcublas_check_error_extended\u001b[m\u001b[K’:\n",
            "\u001b[01m\u001b[K./src/dark_cuda.c:264:18:\u001b[m\u001b[K \u001b[01;35m\u001b[Kwarning: \u001b[m\u001b[Kcomparison between ‘\u001b[01m\u001b[KcudaError_t {aka enum cudaError}\u001b[m\u001b[K’ and ‘\u001b[01m\u001b[Kenum cudaError_enum\u001b[m\u001b[K’ [\u001b[01;35m\u001b[K-Wenum-compare\u001b[m\u001b[K]\n",
            "       if (status \u001b[01;35m\u001b[K!=\u001b[m\u001b[K CUDA_SUCCESS)\n",
            "                  \u001b[01;35m\u001b[K^~\u001b[m\u001b[K\n",
            "\u001b[01m\u001b[K./src/dark_cuda.c:\u001b[m\u001b[K In function ‘\u001b[01m\u001b[Kpre_allocate_pinned_memory\u001b[m\u001b[K’:\n",
            "\u001b[01m\u001b[K./src/dark_cuda.c:395:40:\u001b[m\u001b[K \u001b[01;35m\u001b[Kwarning: \u001b[m\u001b[Kformat ‘\u001b[01m\u001b[K%u\u001b[m\u001b[K’ expects argument of type ‘\u001b[01m\u001b[Kunsigned int\u001b[m\u001b[K’, but argument 2 has type ‘\u001b[01m\u001b[Klong unsigned int\u001b[m\u001b[K’ [\u001b[01;35m\u001b[K-Wformat=\u001b[m\u001b[K]\n",
            "         printf(\"pre_allocate: size = \u001b[01;35m\u001b[K%Iu\u001b[m\u001b[K MB, num_of_blocks = %Iu, block_size = %Iu MB \\n\",\n",
            "                                      \u001b[01;35m\u001b[K~~^\u001b[m\u001b[K\n",
            "                                      \u001b[32m\u001b[K%Ilu\u001b[m\u001b[K\n",
            "             \u001b[32m\u001b[Ksize / (1024*1024)\u001b[m\u001b[K, num_of_blocks, pinned_block_size / (1024 * 1024));\n",
            "             \u001b[32m\u001b[K~~~~~~~~~~~~~~~~~~\u001b[m\u001b[K          \n",
            "\u001b[01m\u001b[K./src/dark_cuda.c:395:64:\u001b[m\u001b[K \u001b[01;35m\u001b[Kwarning: \u001b[m\u001b[Kformat ‘\u001b[01m\u001b[K%u\u001b[m\u001b[K’ expects argument of type ‘\u001b[01m\u001b[Kunsigned int\u001b[m\u001b[K’, but argument 3 has type ‘\u001b[01m\u001b[Ksize_t {aka const long unsigned int}\u001b[m\u001b[K’ [\u001b[01;35m\u001b[K-Wformat=\u001b[m\u001b[K]\n",
            "         printf(\"pre_allocate: size = %Iu MB, num_of_blocks = \u001b[01;35m\u001b[K%Iu\u001b[m\u001b[K, block_size = %Iu MB \\n\",\n",
            "                                                              \u001b[01;35m\u001b[K~~^\u001b[m\u001b[K\n",
            "                                                              \u001b[32m\u001b[K%Ilu\u001b[m\u001b[K\n",
            "\u001b[01m\u001b[K./src/dark_cuda.c:395:82:\u001b[m\u001b[K \u001b[01;35m\u001b[Kwarning: \u001b[m\u001b[Kformat ‘\u001b[01m\u001b[K%u\u001b[m\u001b[K’ expects argument of type ‘\u001b[01m\u001b[Kunsigned int\u001b[m\u001b[K’, but argument 4 has type ‘\u001b[01m\u001b[Klong unsigned int\u001b[m\u001b[K’ [\u001b[01;35m\u001b[K-Wformat=\u001b[m\u001b[K]\n",
            "         printf(\"pre_allocate: size = %Iu MB, num_of_blocks = %Iu, block_size = \u001b[01;35m\u001b[K%Iu\u001b[m\u001b[K MB \\n\",\n",
            "                                                                                \u001b[01;35m\u001b[K~~^\u001b[m\u001b[K\n",
            "                                                                                \u001b[32m\u001b[K%Ilu\u001b[m\u001b[K\n",
            "\u001b[01m\u001b[K./src/dark_cuda.c:405:37:\u001b[m\u001b[K \u001b[01;35m\u001b[Kwarning: \u001b[m\u001b[Kformat ‘\u001b[01m\u001b[K%d\u001b[m\u001b[K’ expects argument of type ‘\u001b[01m\u001b[Kint\u001b[m\u001b[K’, but argument 2 has type ‘\u001b[01m\u001b[Ksize_t {aka const long unsigned int}\u001b[m\u001b[K’ [\u001b[01;35m\u001b[K-Wformat=\u001b[m\u001b[K]\n",
            "                 printf(\" Allocated \u001b[01;35m\u001b[K%d\u001b[m\u001b[K pinned block \\n\", pinned_block_size);\n",
            "                                    \u001b[01;35m\u001b[K~^\u001b[m\u001b[K\n",
            "                                    \u001b[32m\u001b[K%ld\u001b[m\u001b[K\n",
            "\u001b[01m\u001b[K./src/dark_cuda.c:\u001b[m\u001b[K In function ‘\u001b[01m\u001b[Kcuda_make_array_pinned_preallocated\u001b[m\u001b[K’:\n",
            "\u001b[01m\u001b[K./src/dark_cuda.c:426:43:\u001b[m\u001b[K \u001b[01;35m\u001b[Kwarning: \u001b[m\u001b[Kformat ‘\u001b[01m\u001b[K%d\u001b[m\u001b[K’ expects argument of type ‘\u001b[01m\u001b[Kint\u001b[m\u001b[K’, but argument 2 has type ‘\u001b[01m\u001b[Ksize_t {aka long unsigned int}\u001b[m\u001b[K’ [\u001b[01;35m\u001b[K-Wformat=\u001b[m\u001b[K]\n",
            "             printf(\"\\n Pinned block_id = \u001b[01;35m\u001b[K%d\u001b[m\u001b[K, filled = %f %% \\n\", pinned_block_id, filled);\n",
            "                                          \u001b[01;35m\u001b[K~^\u001b[m\u001b[K\n",
            "                                          \u001b[32m\u001b[K%ld\u001b[m\u001b[K\n",
            "\u001b[01m\u001b[K./src/dark_cuda.c:441:64:\u001b[m\u001b[K \u001b[01;35m\u001b[Kwarning: \u001b[m\u001b[Kformat ‘\u001b[01m\u001b[K%d\u001b[m\u001b[K’ expects argument of type ‘\u001b[01m\u001b[Kint\u001b[m\u001b[K’, but argument 2 has type ‘\u001b[01m\u001b[Klong unsigned int\u001b[m\u001b[K’ [\u001b[01;35m\u001b[K-Wformat=\u001b[m\u001b[K]\n",
            "             printf(\"Try to allocate new pinned memory, size = \u001b[01;35m\u001b[K%d\u001b[m\u001b[K MB \\n\", \u001b[32m\u001b[Ksize / (1024 * 1024)\u001b[m\u001b[K);\n",
            "                                                               \u001b[01;35m\u001b[K~^\u001b[m\u001b[K         \u001b[32m\u001b[K~~~~~~~~~~~~~~~~~~~~\u001b[m\u001b[K\n",
            "                                                               \u001b[32m\u001b[K%ld\u001b[m\u001b[K\n",
            "\u001b[01m\u001b[K./src/dark_cuda.c:447:63:\u001b[m\u001b[K \u001b[01;35m\u001b[Kwarning: \u001b[m\u001b[Kformat ‘\u001b[01m\u001b[K%d\u001b[m\u001b[K’ expects argument of type ‘\u001b[01m\u001b[Kint\u001b[m\u001b[K’, but argument 2 has type ‘\u001b[01m\u001b[Klong unsigned int\u001b[m\u001b[K’ [\u001b[01;35m\u001b[K-Wformat=\u001b[m\u001b[K]\n",
            "             printf(\"Try to allocate new pinned BLOCK, size = \u001b[01;35m\u001b[K%d\u001b[m\u001b[K MB \\n\", \u001b[32m\u001b[Ksize / (1024 * 1024)\u001b[m\u001b[K);\n",
            "                                                              \u001b[01;35m\u001b[K~^\u001b[m\u001b[K         \u001b[32m\u001b[K~~~~~~~~~~~~~~~~~~~~\u001b[m\u001b[K\n",
            "                                                              \u001b[32m\u001b[K%ld\u001b[m\u001b[K\n",
            "At top level:\n",
            "\u001b[01m\u001b[K./src/dark_cuda.c:287:23:\u001b[m\u001b[K \u001b[01;35m\u001b[Kwarning: \u001b[m\u001b[K‘\u001b[01m\u001b[KswitchBlasHandle\u001b[m\u001b[K’ defined but not used [\u001b[01;35m\u001b[K-Wunused-variable\u001b[m\u001b[K]\n",
            " static cublasHandle_t \u001b[01;35m\u001b[KswitchBlasHandle\u001b[m\u001b[K[16];\n",
            "                       \u001b[01;35m\u001b[K^~~~~~~~~~~~~~~~\u001b[m\u001b[K\n",
            "\u001b[01m\u001b[K./src/dark_cuda.c:286:12:\u001b[m\u001b[K \u001b[01;35m\u001b[Kwarning: \u001b[m\u001b[K‘\u001b[01m\u001b[KswitchBlasInit\u001b[m\u001b[K’ defined but not used [\u001b[01;35m\u001b[K-Wunused-variable\u001b[m\u001b[K]\n",
            " static int \u001b[01;35m\u001b[KswitchBlasInit\u001b[m\u001b[K[16] = { 0 };\n",
            "            \u001b[01;35m\u001b[K^~~~~~~~~~~~~~\u001b[m\u001b[K\n",
            "gcc -Iinclude/ -I3rdparty/stb/include -DOPENCV `pkg-config --cflags opencv4 2> /dev/null || pkg-config --cflags opencv` -DGPU -I/usr/local/cuda/include/ -DCUDNN -DCUDNN_HALF -Wall -Wfatal-errors -Wno-unused-result -Wno-unknown-pragmas -fPIC -Ofast -DOPENCV -DGPU -DCUDNN -I/usr/local/cudnn/include -DCUDNN_HALF -fPIC -c ./src/convolutional_layer.c -o obj/convolutional_layer.o\n",
            "\u001b[01m\u001b[K./src/convolutional_layer.c:\u001b[m\u001b[K In function ‘\u001b[01m\u001b[Kforward_convolutional_layer\u001b[m\u001b[K’:\n",
            "\u001b[01m\u001b[K./src/convolutional_layer.c:1342:32:\u001b[m\u001b[K \u001b[01;35m\u001b[Kwarning: \u001b[m\u001b[Kunused variable ‘\u001b[01m\u001b[Kt_intput_size\u001b[m\u001b[K’ [\u001b[01;35m\u001b[K-Wunused-variable\u001b[m\u001b[K]\n",
            "                         size_t \u001b[01;35m\u001b[Kt_intput_size\u001b[m\u001b[K = binary_transpose_align_input(k, n, state.workspace, &l.t_bit_input, ldb_align, l.bit_align);\n",
            "                                \u001b[01;35m\u001b[K^~~~~~~~~~~~~\u001b[m\u001b[K\n",
            "gcc -Iinclude/ -I3rdparty/stb/include -DOPENCV `pkg-config --cflags opencv4 2> /dev/null || pkg-config --cflags opencv` -DGPU -I/usr/local/cuda/include/ -DCUDNN -DCUDNN_HALF -Wall -Wfatal-errors -Wno-unused-result -Wno-unknown-pragmas -fPIC -Ofast -DOPENCV -DGPU -DCUDNN -I/usr/local/cudnn/include -DCUDNN_HALF -fPIC -c ./src/list.c -o obj/list.o\n",
            "gcc -Iinclude/ -I3rdparty/stb/include -DOPENCV `pkg-config --cflags opencv4 2> /dev/null || pkg-config --cflags opencv` -DGPU -I/usr/local/cuda/include/ -DCUDNN -DCUDNN_HALF -Wall -Wfatal-errors -Wno-unused-result -Wno-unknown-pragmas -fPIC -Ofast -DOPENCV -DGPU -DCUDNN -I/usr/local/cudnn/include -DCUDNN_HALF -fPIC -c ./src/image.c -o obj/image.o\n",
            "gcc -Iinclude/ -I3rdparty/stb/include -DOPENCV `pkg-config --cflags opencv4 2> /dev/null || pkg-config --cflags opencv` -DGPU -I/usr/local/cuda/include/ -DCUDNN -DCUDNN_HALF -Wall -Wfatal-errors -Wno-unused-result -Wno-unknown-pragmas -fPIC -Ofast -DOPENCV -DGPU -DCUDNN -I/usr/local/cudnn/include -DCUDNN_HALF -fPIC -c ./src/activations.c -o obj/activations.o\n",
            "\u001b[01m\u001b[K./src/activations.c:\u001b[m\u001b[K In function ‘\u001b[01m\u001b[Kactivate\u001b[m\u001b[K’:\n",
            "\u001b[01m\u001b[K./src/activations.c:79:5:\u001b[m\u001b[K \u001b[01;35m\u001b[Kwarning: \u001b[m\u001b[Kenumeration value ‘\u001b[01m\u001b[KRELU6\u001b[m\u001b[K’ not handled in switch [\u001b[01;35m\u001b[K-Wswitch\u001b[m\u001b[K]\n",
            "     \u001b[01;35m\u001b[Kswitch\u001b[m\u001b[K(a){\n",
            "     \u001b[01;35m\u001b[K^~~~~~\u001b[m\u001b[K\n",
            "\u001b[01m\u001b[K./src/activations.c:79:5:\u001b[m\u001b[K \u001b[01;35m\u001b[Kwarning: \u001b[m\u001b[Kenumeration value ‘\u001b[01m\u001b[KSWISH\u001b[m\u001b[K’ not handled in switch [\u001b[01;35m\u001b[K-Wswitch\u001b[m\u001b[K]\n",
            "\u001b[01m\u001b[K./src/activations.c:79:5:\u001b[m\u001b[K \u001b[01;35m\u001b[Kwarning: \u001b[m\u001b[Kenumeration value ‘\u001b[01m\u001b[KMISH\u001b[m\u001b[K’ not handled in switch [\u001b[01;35m\u001b[K-Wswitch\u001b[m\u001b[K]\n",
            "\u001b[01m\u001b[K./src/activations.c:79:5:\u001b[m\u001b[K \u001b[01;35m\u001b[Kwarning: \u001b[m\u001b[Kenumeration value ‘\u001b[01m\u001b[KHARD_MISH\u001b[m\u001b[K’ not handled in switch [\u001b[01;35m\u001b[K-Wswitch\u001b[m\u001b[K]\n",
            "\u001b[01m\u001b[K./src/activations.c:79:5:\u001b[m\u001b[K \u001b[01;35m\u001b[Kwarning: \u001b[m\u001b[Kenumeration value ‘\u001b[01m\u001b[KNORM_CHAN\u001b[m\u001b[K’ not handled in switch [\u001b[01;35m\u001b[K-Wswitch\u001b[m\u001b[K]\n",
            "\u001b[01m\u001b[K./src/activations.c:79:5:\u001b[m\u001b[K \u001b[01;35m\u001b[Kwarning: \u001b[m\u001b[Kenumeration value ‘\u001b[01m\u001b[KNORM_CHAN_SOFTMAX\u001b[m\u001b[K’ not handled in switch [\u001b[01;35m\u001b[K-Wswitch\u001b[m\u001b[K]\n",
            "\u001b[01m\u001b[K./src/activations.c:79:5:\u001b[m\u001b[K \u001b[01;35m\u001b[Kwarning: \u001b[m\u001b[Kenumeration value ‘\u001b[01m\u001b[KNORM_CHAN_SOFTMAX_MAXVAL\u001b[m\u001b[K’ not handled in switch [\u001b[01;35m\u001b[K-Wswitch\u001b[m\u001b[K]\n",
            "\u001b[01m\u001b[K./src/activations.c:\u001b[m\u001b[K In function ‘\u001b[01m\u001b[Kgradient\u001b[m\u001b[K’:\n",
            "\u001b[01m\u001b[K./src/activations.c:310:5:\u001b[m\u001b[K \u001b[01;35m\u001b[Kwarning: \u001b[m\u001b[Kenumeration value ‘\u001b[01m\u001b[KSWISH\u001b[m\u001b[K’ not handled in switch [\u001b[01;35m\u001b[K-Wswitch\u001b[m\u001b[K]\n",
            "     \u001b[01;35m\u001b[Kswitch\u001b[m\u001b[K(a){\n",
            "     \u001b[01;35m\u001b[K^~~~~~\u001b[m\u001b[K\n",
            "\u001b[01m\u001b[K./src/activations.c:310:5:\u001b[m\u001b[K \u001b[01;35m\u001b[Kwarning: \u001b[m\u001b[Kenumeration value ‘\u001b[01m\u001b[KMISH\u001b[m\u001b[K’ not handled in switch [\u001b[01;35m\u001b[K-Wswitch\u001b[m\u001b[K]\n",
            "\u001b[01m\u001b[K./src/activations.c:310:5:\u001b[m\u001b[K \u001b[01;35m\u001b[Kwarning: \u001b[m\u001b[Kenumeration value ‘\u001b[01m\u001b[KHARD_MISH\u001b[m\u001b[K’ not handled in switch [\u001b[01;35m\u001b[K-Wswitch\u001b[m\u001b[K]\n",
            "gcc -Iinclude/ -I3rdparty/stb/include -DOPENCV `pkg-config --cflags opencv4 2> /dev/null || pkg-config --cflags opencv` -DGPU -I/usr/local/cuda/include/ -DCUDNN -DCUDNN_HALF -Wall -Wfatal-errors -Wno-unused-result -Wno-unknown-pragmas -fPIC -Ofast -DOPENCV -DGPU -DCUDNN -I/usr/local/cudnn/include -DCUDNN_HALF -fPIC -c ./src/im2col.c -o obj/im2col.o\n",
            "gcc -Iinclude/ -I3rdparty/stb/include -DOPENCV `pkg-config --cflags opencv4 2> /dev/null || pkg-config --cflags opencv` -DGPU -I/usr/local/cuda/include/ -DCUDNN -DCUDNN_HALF -Wall -Wfatal-errors -Wno-unused-result -Wno-unknown-pragmas -fPIC -Ofast -DOPENCV -DGPU -DCUDNN -I/usr/local/cudnn/include -DCUDNN_HALF -fPIC -c ./src/col2im.c -o obj/col2im.o\n",
            "gcc -Iinclude/ -I3rdparty/stb/include -DOPENCV `pkg-config --cflags opencv4 2> /dev/null || pkg-config --cflags opencv` -DGPU -I/usr/local/cuda/include/ -DCUDNN -DCUDNN_HALF -Wall -Wfatal-errors -Wno-unused-result -Wno-unknown-pragmas -fPIC -Ofast -DOPENCV -DGPU -DCUDNN -I/usr/local/cudnn/include -DCUDNN_HALF -fPIC -c ./src/blas.c -o obj/blas.o\n",
            "\u001b[01m\u001b[K./src/blas.c:\u001b[m\u001b[K In function ‘\u001b[01m\u001b[Kbackward_shortcut_multilayer_cpu\u001b[m\u001b[K’:\n",
            "\u001b[01m\u001b[K./src/blas.c:207:21:\u001b[m\u001b[K \u001b[01;35m\u001b[Kwarning: \u001b[m\u001b[Kunused variable ‘\u001b[01m\u001b[Kout_index\u001b[m\u001b[K’ [\u001b[01;35m\u001b[K-Wunused-variable\u001b[m\u001b[K]\n",
            "                 int \u001b[01;35m\u001b[Kout_index\u001b[m\u001b[K = id;\n",
            "                     \u001b[01;35m\u001b[K^~~~~~~~~\u001b[m\u001b[K\n",
            "\u001b[01m\u001b[K./src/blas.c:\u001b[m\u001b[K In function ‘\u001b[01m\u001b[Kfind_sim\u001b[m\u001b[K’:\n",
            "\u001b[01m\u001b[K./src/blas.c:597:59:\u001b[m\u001b[K \u001b[01;35m\u001b[Kwarning: \u001b[m\u001b[Kformat ‘\u001b[01m\u001b[K%d\u001b[m\u001b[K’ expects argument of type ‘\u001b[01m\u001b[Kint\u001b[m\u001b[K’, but argument 2 has type ‘\u001b[01m\u001b[Ksize_t {aka long unsigned int}\u001b[m\u001b[K’ [\u001b[01;35m\u001b[K-Wformat=\u001b[m\u001b[K]\n",
            "         printf(\" Error: find_sim(): sim isn't found: i = \u001b[01;35m\u001b[K%d\u001b[m\u001b[K, j = %d, z = %d \\n\", i, j, z);\n",
            "                                                          \u001b[01;35m\u001b[K~^\u001b[m\u001b[K\n",
            "                                                          \u001b[32m\u001b[K%ld\u001b[m\u001b[K\n",
            "\u001b[01m\u001b[K./src/blas.c:597:67:\u001b[m\u001b[K \u001b[01;35m\u001b[Kwarning: \u001b[m\u001b[Kformat ‘\u001b[01m\u001b[K%d\u001b[m\u001b[K’ expects argument of type ‘\u001b[01m\u001b[Kint\u001b[m\u001b[K’, but argument 3 has type ‘\u001b[01m\u001b[Ksize_t {aka long unsigned int}\u001b[m\u001b[K’ [\u001b[01;35m\u001b[K-Wformat=\u001b[m\u001b[K]\n",
            "         printf(\" Error: find_sim(): sim isn't found: i = %d, j = \u001b[01;35m\u001b[K%d\u001b[m\u001b[K, z = %d \\n\", i, j, z);\n",
            "                                                                  \u001b[01;35m\u001b[K~^\u001b[m\u001b[K\n",
            "                                                                  \u001b[32m\u001b[K%ld\u001b[m\u001b[K\n",
            "\u001b[01m\u001b[K./src/blas.c:597:75:\u001b[m\u001b[K \u001b[01;35m\u001b[Kwarning: \u001b[m\u001b[Kformat ‘\u001b[01m\u001b[K%d\u001b[m\u001b[K’ expects argument of type ‘\u001b[01m\u001b[Kint\u001b[m\u001b[K’, but argument 4 has type ‘\u001b[01m\u001b[Ksize_t {aka long unsigned int}\u001b[m\u001b[K’ [\u001b[01;35m\u001b[K-Wformat=\u001b[m\u001b[K]\n",
            "         printf(\" Error: find_sim(): sim isn't found: i = %d, j = %d, z = \u001b[01;35m\u001b[K%d\u001b[m\u001b[K \\n\", i, j, z);\n",
            "                                                                          \u001b[01;35m\u001b[K~^\u001b[m\u001b[K\n",
            "                                                                          \u001b[32m\u001b[K%ld\u001b[m\u001b[K\n",
            "\u001b[01m\u001b[K./src/blas.c:\u001b[m\u001b[K In function ‘\u001b[01m\u001b[Kfind_P_constrastive\u001b[m\u001b[K’:\n",
            "\u001b[01m\u001b[K./src/blas.c:611:68:\u001b[m\u001b[K \u001b[01;35m\u001b[Kwarning: \u001b[m\u001b[Kformat ‘\u001b[01m\u001b[K%d\u001b[m\u001b[K’ expects argument of type ‘\u001b[01m\u001b[Kint\u001b[m\u001b[K’, but argument 2 has type ‘\u001b[01m\u001b[Ksize_t {aka long unsigned int}\u001b[m\u001b[K’ [\u001b[01;35m\u001b[K-Wformat=\u001b[m\u001b[K]\n",
            "         printf(\" Error: find_P_constrastive(): P isn't found: i = \u001b[01;35m\u001b[K%d\u001b[m\u001b[K, j = %d, z = %d \\n\", i, j, z);\n",
            "                                                                   \u001b[01;35m\u001b[K~^\u001b[m\u001b[K\n",
            "                                                                   \u001b[32m\u001b[K%ld\u001b[m\u001b[K\n",
            "\u001b[01m\u001b[K./src/blas.c:611:76:\u001b[m\u001b[K \u001b[01;35m\u001b[Kwarning: \u001b[m\u001b[Kformat ‘\u001b[01m\u001b[K%d\u001b[m\u001b[K’ expects argument of type ‘\u001b[01m\u001b[Kint\u001b[m\u001b[K’, but argument 3 has type ‘\u001b[01m\u001b[Ksize_t {aka long unsigned int}\u001b[m\u001b[K’ [\u001b[01;35m\u001b[K-Wformat=\u001b[m\u001b[K]\n",
            "         printf(\" Error: find_P_constrastive(): P isn't found: i = %d, j = \u001b[01;35m\u001b[K%d\u001b[m\u001b[K, z = %d \\n\", i, j, z);\n",
            "                                                                           \u001b[01;35m\u001b[K~^\u001b[m\u001b[K\n",
            "                                                                           \u001b[32m\u001b[K%ld\u001b[m\u001b[K\n",
            "\u001b[01m\u001b[K./src/blas.c:611:84:\u001b[m\u001b[K \u001b[01;35m\u001b[Kwarning: \u001b[m\u001b[Kformat ‘\u001b[01m\u001b[K%d\u001b[m\u001b[K’ expects argument of type ‘\u001b[01m\u001b[Kint\u001b[m\u001b[K’, but argument 4 has type ‘\u001b[01m\u001b[Ksize_t {aka long unsigned int}\u001b[m\u001b[K’ [\u001b[01;35m\u001b[K-Wformat=\u001b[m\u001b[K]\n",
            "         printf(\" Error: find_P_constrastive(): P isn't found: i = %d, j = %d, z = \u001b[01;35m\u001b[K%d\u001b[m\u001b[K \\n\", i, j, z);\n",
            "                                                                                   \u001b[01;35m\u001b[K~^\u001b[m\u001b[K\n",
            "                                                                                   \u001b[32m\u001b[K%ld\u001b[m\u001b[K\n",
            "\u001b[01m\u001b[K./src/blas.c:\u001b[m\u001b[K In function ‘\u001b[01m\u001b[KP_constrastive_f\u001b[m\u001b[K’:\n",
            "\u001b[01m\u001b[K./src/blas.c:651:79:\u001b[m\u001b[K \u001b[01;35m\u001b[Kwarning: \u001b[m\u001b[Kformat ‘\u001b[01m\u001b[K%d\u001b[m\u001b[K’ expects argument of type ‘\u001b[01m\u001b[Kint\u001b[m\u001b[K’, but argument 3 has type ‘\u001b[01m\u001b[Ksize_t {aka long unsigned int}\u001b[m\u001b[K’ [\u001b[01;35m\u001b[K-Wformat=\u001b[m\u001b[K]\n",
            "         fprintf(stderr, \" Error: in P_constrastive must be i != l, while i = \u001b[01;35m\u001b[K%d\u001b[m\u001b[K, l = %d \\n\", i, l);\n",
            "                                                                              \u001b[01;35m\u001b[K~^\u001b[m\u001b[K\n",
            "                                                                              \u001b[32m\u001b[K%ld\u001b[m\u001b[K\n",
            "\u001b[01m\u001b[K./src/blas.c:651:87:\u001b[m\u001b[K \u001b[01;35m\u001b[Kwarning: \u001b[m\u001b[Kformat ‘\u001b[01m\u001b[K%d\u001b[m\u001b[K’ expects argument of type ‘\u001b[01m\u001b[Kint\u001b[m\u001b[K’, but argument 4 has type ‘\u001b[01m\u001b[Ksize_t {aka long unsigned int}\u001b[m\u001b[K’ [\u001b[01;35m\u001b[K-Wformat=\u001b[m\u001b[K]\n",
            "         fprintf(stderr, \" Error: in P_constrastive must be i != l, while i = %d, l = \u001b[01;35m\u001b[K%d\u001b[m\u001b[K \\n\", i, l);\n",
            "                                                                                      \u001b[01;35m\u001b[K~^\u001b[m\u001b[K\n",
            "                                                                                      \u001b[32m\u001b[K%ld\u001b[m\u001b[K\n",
            "\u001b[01m\u001b[K./src/blas.c:\u001b[m\u001b[K In function ‘\u001b[01m\u001b[KP_constrastive\u001b[m\u001b[K’:\n",
            "\u001b[01m\u001b[K./src/blas.c:785:79:\u001b[m\u001b[K \u001b[01;35m\u001b[Kwarning: \u001b[m\u001b[Kformat ‘\u001b[01m\u001b[K%d\u001b[m\u001b[K’ expects argument of type ‘\u001b[01m\u001b[Kint\u001b[m\u001b[K’, but argument 3 has type ‘\u001b[01m\u001b[Ksize_t {aka long unsigned int}\u001b[m\u001b[K’ [\u001b[01;35m\u001b[K-Wformat=\u001b[m\u001b[K]\n",
            "         fprintf(stderr, \" Error: in P_constrastive must be i != l, while i = \u001b[01;35m\u001b[K%d\u001b[m\u001b[K, l = %d \\n\", i, l);\n",
            "                                                                              \u001b[01;35m\u001b[K~^\u001b[m\u001b[K\n",
            "                                                                              \u001b[32m\u001b[K%ld\u001b[m\u001b[K\n",
            "\u001b[01m\u001b[K./src/blas.c:785:87:\u001b[m\u001b[K \u001b[01;35m\u001b[Kwarning: \u001b[m\u001b[Kformat ‘\u001b[01m\u001b[K%d\u001b[m\u001b[K’ expects argument of type ‘\u001b[01m\u001b[Kint\u001b[m\u001b[K’, but argument 4 has type ‘\u001b[01m\u001b[Ksize_t {aka long unsigned int}\u001b[m\u001b[K’ [\u001b[01;35m\u001b[K-Wformat=\u001b[m\u001b[K]\n",
            "         fprintf(stderr, \" Error: in P_constrastive must be i != l, while i = %d, l = \u001b[01;35m\u001b[K%d\u001b[m\u001b[K \\n\", i, l);\n",
            "                                                                                      \u001b[01;35m\u001b[K~^\u001b[m\u001b[K\n",
            "                                                                                      \u001b[32m\u001b[K%ld\u001b[m\u001b[K\n",
            "gcc -Iinclude/ -I3rdparty/stb/include -DOPENCV `pkg-config --cflags opencv4 2> /dev/null || pkg-config --cflags opencv` -DGPU -I/usr/local/cuda/include/ -DCUDNN -DCUDNN_HALF -Wall -Wfatal-errors -Wno-unused-result -Wno-unknown-pragmas -fPIC -Ofast -DOPENCV -DGPU -DCUDNN -I/usr/local/cudnn/include -DCUDNN_HALF -fPIC -c ./src/crop_layer.c -o obj/crop_layer.o\n",
            "gcc -Iinclude/ -I3rdparty/stb/include -DOPENCV `pkg-config --cflags opencv4 2> /dev/null || pkg-config --cflags opencv` -DGPU -I/usr/local/cuda/include/ -DCUDNN -DCUDNN_HALF -Wall -Wfatal-errors -Wno-unused-result -Wno-unknown-pragmas -fPIC -Ofast -DOPENCV -DGPU -DCUDNN -I/usr/local/cudnn/include -DCUDNN_HALF -fPIC -c ./src/dropout_layer.c -o obj/dropout_layer.o\n",
            "gcc -Iinclude/ -I3rdparty/stb/include -DOPENCV `pkg-config --cflags opencv4 2> /dev/null || pkg-config --cflags opencv` -DGPU -I/usr/local/cuda/include/ -DCUDNN -DCUDNN_HALF -Wall -Wfatal-errors -Wno-unused-result -Wno-unknown-pragmas -fPIC -Ofast -DOPENCV -DGPU -DCUDNN -I/usr/local/cudnn/include -DCUDNN_HALF -fPIC -c ./src/maxpool_layer.c -o obj/maxpool_layer.o\n",
            "gcc -Iinclude/ -I3rdparty/stb/include -DOPENCV `pkg-config --cflags opencv4 2> /dev/null || pkg-config --cflags opencv` -DGPU -I/usr/local/cuda/include/ -DCUDNN -DCUDNN_HALF -Wall -Wfatal-errors -Wno-unused-result -Wno-unknown-pragmas -fPIC -Ofast -DOPENCV -DGPU -DCUDNN -I/usr/local/cudnn/include -DCUDNN_HALF -fPIC -c ./src/softmax_layer.c -o obj/softmax_layer.o\n",
            "\u001b[01m\u001b[K./src/softmax_layer.c:\u001b[m\u001b[K In function ‘\u001b[01m\u001b[Kmake_contrastive_layer\u001b[m\u001b[K’:\n",
            "\u001b[01m\u001b[K./src/softmax_layer.c:203:101:\u001b[m\u001b[K \u001b[01;35m\u001b[Kwarning: \u001b[m\u001b[Kformat ‘\u001b[01m\u001b[K%d\u001b[m\u001b[K’ expects argument of type ‘\u001b[01m\u001b[Kint\u001b[m\u001b[K’, but argument 9 has type ‘\u001b[01m\u001b[Ksize_t {aka const long unsigned int}\u001b[m\u001b[K’ [\u001b[01;35m\u001b[K-Wformat=\u001b[m\u001b[K]\n",
            "     fprintf(stderr, \"contrastive %4d x%4d x%4d x emb_size %4d x batch: %4d  classes = %4d, step = \u001b[01;35m\u001b[K%4d\u001b[m\u001b[K \\n\", w, h, l.n, l.embedding_size, batch, l.classes, step);\n",
            "                                                                                                   \u001b[01;35m\u001b[K~~^\u001b[m\u001b[K\n",
            "                                                                                                   \u001b[32m\u001b[K%4ld\u001b[m\u001b[K\n",
            "\u001b[01m\u001b[K./src/softmax_layer.c:\u001b[m\u001b[K In function ‘\u001b[01m\u001b[Kforward_contrastive_layer\u001b[m\u001b[K’:\n",
            "\u001b[01m\u001b[K./src/softmax_layer.c:244:27:\u001b[m\u001b[K \u001b[01;35m\u001b[Kwarning: \u001b[m\u001b[Kvariable ‘\u001b[01m\u001b[Kmax_truth\u001b[m\u001b[K’ set but not used [\u001b[01;35m\u001b[K-Wunused-but-set-variable\u001b[m\u001b[K]\n",
            "                     float \u001b[01;35m\u001b[Kmax_truth\u001b[m\u001b[K = 0;\n",
            "                           \u001b[01;35m\u001b[K^~~~~~~~~\u001b[m\u001b[K\n",
            "\u001b[01m\u001b[K./src/softmax_layer.c:423:71:\u001b[m\u001b[K \u001b[01;35m\u001b[Kwarning: \u001b[m\u001b[Kformat ‘\u001b[01m\u001b[K%d\u001b[m\u001b[K’ expects argument of type ‘\u001b[01m\u001b[Kint\u001b[m\u001b[K’, but argument 2 has type ‘\u001b[01m\u001b[Ksize_t {aka const long unsigned int}\u001b[m\u001b[K’ [\u001b[01;35m\u001b[K-Wformat=\u001b[m\u001b[K]\n",
            "             printf(\" Error: too large number of bboxes: contr_size = \u001b[01;35m\u001b[K%d\u001b[m\u001b[K > max_contr_size  = %d \\n\", contr_size, max_contr_size);\n",
            "                                                                      \u001b[01;35m\u001b[K~^\u001b[m\u001b[K\n",
            "                                                                      \u001b[32m\u001b[K%ld\u001b[m\u001b[K\n",
            "gcc -Iinclude/ -I3rdparty/stb/include -DOPENCV `pkg-config --cflags opencv4 2> /dev/null || pkg-config --cflags opencv` -DGPU -I/usr/local/cuda/include/ -DCUDNN -DCUDNN_HALF -Wall -Wfatal-errors -Wno-unused-result -Wno-unknown-pragmas -fPIC -Ofast -DOPENCV -DGPU -DCUDNN -I/usr/local/cudnn/include -DCUDNN_HALF -fPIC -c ./src/data.c -o obj/data.o\n",
            "\u001b[01m\u001b[K./src/data.c:\u001b[m\u001b[K In function ‘\u001b[01m\u001b[Kload_data_detection\u001b[m\u001b[K’:\n",
            "\u001b[01m\u001b[K./src/data.c:1297:24:\u001b[m\u001b[K \u001b[01;35m\u001b[Kwarning: \u001b[m\u001b[Kunused variable ‘\u001b[01m\u001b[Kx\u001b[m\u001b[K’ [\u001b[01;35m\u001b[K-Wunused-variable\u001b[m\u001b[K]\n",
            "                 int k, \u001b[01;35m\u001b[Kx\u001b[m\u001b[K, y;\n",
            "                        \u001b[01;35m\u001b[K^\u001b[m\u001b[K\n",
            "\u001b[01m\u001b[K./src/data.c:1090:43:\u001b[m\u001b[K \u001b[01;35m\u001b[Kwarning: \u001b[m\u001b[Kvariable ‘\u001b[01m\u001b[Kr_scale\u001b[m\u001b[K’ set but not used [\u001b[01;35m\u001b[K-Wunused-but-set-variable\u001b[m\u001b[K]\n",
            "     float r1 = 0, r2 = 0, r3 = 0, r4 = 0, \u001b[01;35m\u001b[Kr_scale\u001b[m\u001b[K = 0;\n",
            "                                           \u001b[01;35m\u001b[K^~~~~~~\u001b[m\u001b[K\n",
            "gcc -Iinclude/ -I3rdparty/stb/include -DOPENCV `pkg-config --cflags opencv4 2> /dev/null || pkg-config --cflags opencv` -DGPU -I/usr/local/cuda/include/ -DCUDNN -DCUDNN_HALF -Wall -Wfatal-errors -Wno-unused-result -Wno-unknown-pragmas -fPIC -Ofast -DOPENCV -DGPU -DCUDNN -I/usr/local/cudnn/include -DCUDNN_HALF -fPIC -c ./src/matrix.c -o obj/matrix.o\n",
            "gcc -Iinclude/ -I3rdparty/stb/include -DOPENCV `pkg-config --cflags opencv4 2> /dev/null || pkg-config --cflags opencv` -DGPU -I/usr/local/cuda/include/ -DCUDNN -DCUDNN_HALF -Wall -Wfatal-errors -Wno-unused-result -Wno-unknown-pragmas -fPIC -Ofast -DOPENCV -DGPU -DCUDNN -I/usr/local/cudnn/include -DCUDNN_HALF -fPIC -c ./src/network.c -o obj/network.o\n",
            "\u001b[01m\u001b[K./src/network.c:\u001b[m\u001b[K In function ‘\u001b[01m\u001b[Ktrain_network_waitkey\u001b[m\u001b[K’:\n",
            "\u001b[01m\u001b[K./src/network.c:435:13:\u001b[m\u001b[K \u001b[01;35m\u001b[Kwarning: \u001b[m\u001b[Kunused variable ‘\u001b[01m\u001b[Kema_period\u001b[m\u001b[K’ [\u001b[01;35m\u001b[K-Wunused-variable\u001b[m\u001b[K]\n",
            "         int \u001b[01;35m\u001b[Kema_period\u001b[m\u001b[K = (net.max_batches - ema_start_point - 1000) * (1.0 - net.ema_alpha);\n",
            "             \u001b[01;35m\u001b[K^~~~~~~~~~\u001b[m\u001b[K\n",
            "\u001b[01m\u001b[K./src/network.c:\u001b[m\u001b[K In function ‘\u001b[01m\u001b[Kresize_network\u001b[m\u001b[K’:\n",
            "\u001b[01m\u001b[K./src/network.c:660:42:\u001b[m\u001b[K \u001b[01;35m\u001b[Kwarning: \u001b[m\u001b[Kpassing argument 1 of ‘\u001b[01m\u001b[KcudaHostAlloc\u001b[m\u001b[K’ from incompatible pointer type [\u001b[01;35m\u001b[K-Wincompatible-pointer-types\u001b[m\u001b[K]\n",
            "         if (cudaSuccess == cudaHostAlloc(\u001b[01;35m\u001b[K&\u001b[m\u001b[Knet->input_pinned_cpu, size * sizeof(float), cudaHostRegisterMapped))\n",
            "                                          \u001b[01;35m\u001b[K^\u001b[m\u001b[K\n",
            "In file included from \u001b[01m\u001b[K/usr/local/cuda/include/cuda_runtime.h:96:0\u001b[m\u001b[K,\n",
            "                 from \u001b[01m\u001b[Kinclude/darknet.h:41\u001b[m\u001b[K,\n",
            "                 from \u001b[01m\u001b[K./src/network.c:1\u001b[m\u001b[K:\n",
            "\u001b[01m\u001b[K/usr/local/cuda/include/cuda_runtime_api.h:4811:39:\u001b[m\u001b[K \u001b[01;36m\u001b[Knote: \u001b[m\u001b[Kexpected ‘\u001b[01m\u001b[Kvoid **\u001b[m\u001b[K’ but argument is of type ‘\u001b[01m\u001b[Kfloat **\u001b[m\u001b[K’\n",
            " extern __host__ cudaError_t CUDARTAPI \u001b[01;36m\u001b[KcudaHostAlloc\u001b[m\u001b[K(void **pHost, size_t size, unsigned int flags);\n",
            "                                       \u001b[01;36m\u001b[K^~~~~~~~~~~~~\u001b[m\u001b[K\n",
            "gcc -Iinclude/ -I3rdparty/stb/include -DOPENCV `pkg-config --cflags opencv4 2> /dev/null || pkg-config --cflags opencv` -DGPU -I/usr/local/cuda/include/ -DCUDNN -DCUDNN_HALF -Wall -Wfatal-errors -Wno-unused-result -Wno-unknown-pragmas -fPIC -Ofast -DOPENCV -DGPU -DCUDNN -I/usr/local/cudnn/include -DCUDNN_HALF -fPIC -c ./src/connected_layer.c -o obj/connected_layer.o\n",
            "\u001b[01m\u001b[K./src/connected_layer.c:\u001b[m\u001b[K In function ‘\u001b[01m\u001b[Kforward_connected_layer_gpu\u001b[m\u001b[K’:\n",
            "\u001b[01m\u001b[K./src/connected_layer.c:346:11:\u001b[m\u001b[K \u001b[01;35m\u001b[Kwarning: \u001b[m\u001b[Kunused variable ‘\u001b[01m\u001b[Kone\u001b[m\u001b[K’ [\u001b[01;35m\u001b[K-Wunused-variable\u001b[m\u001b[K]\n",
            "     float \u001b[01;35m\u001b[Kone\u001b[m\u001b[K = 1;    // alpha[0], beta[0]\n",
            "           \u001b[01;35m\u001b[K^~~\u001b[m\u001b[K\n",
            "\u001b[01m\u001b[K./src/connected_layer.c:344:13:\u001b[m\u001b[K \u001b[01;35m\u001b[Kwarning: \u001b[m\u001b[Kunused variable ‘\u001b[01m\u001b[Kc\u001b[m\u001b[K’ [\u001b[01;35m\u001b[K-Wunused-variable\u001b[m\u001b[K]\n",
            "     float * \u001b[01;35m\u001b[Kc\u001b[m\u001b[K = l.output_gpu;\n",
            "             \u001b[01;35m\u001b[K^\u001b[m\u001b[K\n",
            "\u001b[01m\u001b[K./src/connected_layer.c:343:13:\u001b[m\u001b[K \u001b[01;35m\u001b[Kwarning: \u001b[m\u001b[Kunused variable ‘\u001b[01m\u001b[Kb\u001b[m\u001b[K’ [\u001b[01;35m\u001b[K-Wunused-variable\u001b[m\u001b[K]\n",
            "     float * \u001b[01;35m\u001b[Kb\u001b[m\u001b[K = l.weights_gpu;\n",
            "             \u001b[01;35m\u001b[K^\u001b[m\u001b[K\n",
            "\u001b[01m\u001b[K./src/connected_layer.c:342:13:\u001b[m\u001b[K \u001b[01;35m\u001b[Kwarning: \u001b[m\u001b[Kunused variable ‘\u001b[01m\u001b[Ka\u001b[m\u001b[K’ [\u001b[01;35m\u001b[K-Wunused-variable\u001b[m\u001b[K]\n",
            "     float * \u001b[01;35m\u001b[Ka\u001b[m\u001b[K = state.input;\n",
            "             \u001b[01;35m\u001b[K^\u001b[m\u001b[K\n",
            "\u001b[01m\u001b[K./src/connected_layer.c:341:9:\u001b[m\u001b[K \u001b[01;35m\u001b[Kwarning: \u001b[m\u001b[Kunused variable ‘\u001b[01m\u001b[Kn\u001b[m\u001b[K’ [\u001b[01;35m\u001b[K-Wunused-variable\u001b[m\u001b[K]\n",
            "     int \u001b[01;35m\u001b[Kn\u001b[m\u001b[K = l.outputs;\n",
            "         \u001b[01;35m\u001b[K^\u001b[m\u001b[K\n",
            "\u001b[01m\u001b[K./src/connected_layer.c:340:9:\u001b[m\u001b[K \u001b[01;35m\u001b[Kwarning: \u001b[m\u001b[Kunused variable ‘\u001b[01m\u001b[Kk\u001b[m\u001b[K’ [\u001b[01;35m\u001b[K-Wunused-variable\u001b[m\u001b[K]\n",
            "     int \u001b[01;35m\u001b[Kk\u001b[m\u001b[K = l.inputs;\n",
            "         \u001b[01;35m\u001b[K^\u001b[m\u001b[K\n",
            "\u001b[01m\u001b[K./src/connected_layer.c:339:9:\u001b[m\u001b[K \u001b[01;35m\u001b[Kwarning: \u001b[m\u001b[Kunused variable ‘\u001b[01m\u001b[Km\u001b[m\u001b[K’ [\u001b[01;35m\u001b[K-Wunused-variable\u001b[m\u001b[K]\n",
            "     int \u001b[01;35m\u001b[Km\u001b[m\u001b[K = l.batch;\n",
            "         \u001b[01;35m\u001b[K^\u001b[m\u001b[K\n",
            "gcc -Iinclude/ -I3rdparty/stb/include -DOPENCV `pkg-config --cflags opencv4 2> /dev/null || pkg-config --cflags opencv` -DGPU -I/usr/local/cuda/include/ -DCUDNN -DCUDNN_HALF -Wall -Wfatal-errors -Wno-unused-result -Wno-unknown-pragmas -fPIC -Ofast -DOPENCV -DGPU -DCUDNN -I/usr/local/cudnn/include -DCUDNN_HALF -fPIC -c ./src/cost_layer.c -o obj/cost_layer.o\n",
            "gcc -Iinclude/ -I3rdparty/stb/include -DOPENCV `pkg-config --cflags opencv4 2> /dev/null || pkg-config --cflags opencv` -DGPU -I/usr/local/cuda/include/ -DCUDNN -DCUDNN_HALF -Wall -Wfatal-errors -Wno-unused-result -Wno-unknown-pragmas -fPIC -Ofast -DOPENCV -DGPU -DCUDNN -I/usr/local/cudnn/include -DCUDNN_HALF -fPIC -c ./src/parser.c -o obj/parser.o\n",
            "\u001b[01m\u001b[K./src/parser.c:\u001b[m\u001b[K In function ‘\u001b[01m\u001b[Kparse_network_cfg_custom\u001b[m\u001b[K’:\n",
            "\u001b[01m\u001b[K./src/parser.c:1777:42:\u001b[m\u001b[K \u001b[01;35m\u001b[Kwarning: \u001b[m\u001b[Kpassing argument 1 of ‘\u001b[01m\u001b[KcudaHostAlloc\u001b[m\u001b[K’ from incompatible pointer type [\u001b[01;35m\u001b[K-Wincompatible-pointer-types\u001b[m\u001b[K]\n",
            "         if (cudaSuccess == cudaHostAlloc(\u001b[01;35m\u001b[K&\u001b[m\u001b[Knet.input_pinned_cpu, size * sizeof(float), cudaHostRegisterMapped)) net.input_pinned_cpu_flag = 1;\n",
            "                                          \u001b[01;35m\u001b[K^\u001b[m\u001b[K\n",
            "In file included from \u001b[01m\u001b[K/usr/local/cuda/include/cuda_runtime.h:96:0\u001b[m\u001b[K,\n",
            "                 from \u001b[01m\u001b[Kinclude/darknet.h:41\u001b[m\u001b[K,\n",
            "                 from \u001b[01m\u001b[K./src/activations.h:3\u001b[m\u001b[K,\n",
            "                 from \u001b[01m\u001b[K./src/activation_layer.h:4\u001b[m\u001b[K,\n",
            "                 from \u001b[01m\u001b[K./src/parser.c:6\u001b[m\u001b[K:\n",
            "\u001b[01m\u001b[K/usr/local/cuda/include/cuda_runtime_api.h:4811:39:\u001b[m\u001b[K \u001b[01;36m\u001b[Knote: \u001b[m\u001b[Kexpected ‘\u001b[01m\u001b[Kvoid **\u001b[m\u001b[K’ but argument is of type ‘\u001b[01m\u001b[Kfloat **\u001b[m\u001b[K’\n",
            " extern __host__ cudaError_t CUDARTAPI \u001b[01;36m\u001b[KcudaHostAlloc\u001b[m\u001b[K(void **pHost, size_t size, unsigned int flags);\n",
            "                                       \u001b[01;36m\u001b[K^~~~~~~~~~~~~\u001b[m\u001b[K\n",
            "\u001b[01m\u001b[K./src/parser.c:\u001b[m\u001b[K In function ‘\u001b[01m\u001b[Ksave_implicit_weights\u001b[m\u001b[K’:\n",
            "\u001b[01m\u001b[K./src/parser.c:1909:9:\u001b[m\u001b[K \u001b[01;35m\u001b[Kwarning: \u001b[m\u001b[Kunused variable ‘\u001b[01m\u001b[Ki\u001b[m\u001b[K’ [\u001b[01;35m\u001b[K-Wunused-variable\u001b[m\u001b[K]\n",
            "     int \u001b[01;35m\u001b[Ki\u001b[m\u001b[K;\n",
            "         \u001b[01;35m\u001b[K^\u001b[m\u001b[K\n",
            "\u001b[01m\u001b[K./src/parser.c:\u001b[m\u001b[K In function ‘\u001b[01m\u001b[Kget_classes_multipliers\u001b[m\u001b[K’:\n",
            "\u001b[01m\u001b[K./src/parser.c:438:29:\u001b[m\u001b[K \u001b[01;35m\u001b[Kwarning: \u001b[m\u001b[Kargument 1 range [18446744071562067968, 18446744073709551615] exceeds maximum object size 9223372036854775807 [\u001b[01;35m\u001b[K-Walloc-size-larger-than=\u001b[m\u001b[K]\n",
            "         \u001b[01;35m\u001b[Kclasses_multipliers = (float *)calloc(classes_counters, sizeof(float))\u001b[m\u001b[K;\n",
            "         \u001b[01;35m\u001b[K~~~~~~~~~~~~~~~~~~~~^~~~~~~~~~~~~~~~~~~~~~~~~~~~~~~~~~~~~~~~~~~~~~~~~~\u001b[m\u001b[K\n",
            "In file included from \u001b[01m\u001b[K./src/parser.c:3:0\u001b[m\u001b[K:\n",
            "\u001b[01m\u001b[K/usr/include/stdlib.h:541:14:\u001b[m\u001b[K \u001b[01;36m\u001b[Knote: \u001b[m\u001b[Kin a call to allocation function ‘\u001b[01m\u001b[Kcalloc\u001b[m\u001b[K’ declared here\n",
            " extern void *\u001b[01;36m\u001b[Kcalloc\u001b[m\u001b[K (size_t __nmemb, size_t __size)\n",
            "              \u001b[01;36m\u001b[K^~~~~~\u001b[m\u001b[K\n",
            "gcc -Iinclude/ -I3rdparty/stb/include -DOPENCV `pkg-config --cflags opencv4 2> /dev/null || pkg-config --cflags opencv` -DGPU -I/usr/local/cuda/include/ -DCUDNN -DCUDNN_HALF -Wall -Wfatal-errors -Wno-unused-result -Wno-unknown-pragmas -fPIC -Ofast -DOPENCV -DGPU -DCUDNN -I/usr/local/cudnn/include -DCUDNN_HALF -fPIC -c ./src/option_list.c -o obj/option_list.o\n",
            "gcc -Iinclude/ -I3rdparty/stb/include -DOPENCV `pkg-config --cflags opencv4 2> /dev/null || pkg-config --cflags opencv` -DGPU -I/usr/local/cuda/include/ -DCUDNN -DCUDNN_HALF -Wall -Wfatal-errors -Wno-unused-result -Wno-unknown-pragmas -fPIC -Ofast -DOPENCV -DGPU -DCUDNN -I/usr/local/cudnn/include -DCUDNN_HALF -fPIC -c ./src/darknet.c -o obj/darknet.o\n",
            "gcc -Iinclude/ -I3rdparty/stb/include -DOPENCV `pkg-config --cflags opencv4 2> /dev/null || pkg-config --cflags opencv` -DGPU -I/usr/local/cuda/include/ -DCUDNN -DCUDNN_HALF -Wall -Wfatal-errors -Wno-unused-result -Wno-unknown-pragmas -fPIC -Ofast -DOPENCV -DGPU -DCUDNN -I/usr/local/cudnn/include -DCUDNN_HALF -fPIC -c ./src/detection_layer.c -o obj/detection_layer.o\n",
            "gcc -Iinclude/ -I3rdparty/stb/include -DOPENCV `pkg-config --cflags opencv4 2> /dev/null || pkg-config --cflags opencv` -DGPU -I/usr/local/cuda/include/ -DCUDNN -DCUDNN_HALF -Wall -Wfatal-errors -Wno-unused-result -Wno-unknown-pragmas -fPIC -Ofast -DOPENCV -DGPU -DCUDNN -I/usr/local/cudnn/include -DCUDNN_HALF -fPIC -c ./src/captcha.c -o obj/captcha.o\n",
            "gcc -Iinclude/ -I3rdparty/stb/include -DOPENCV `pkg-config --cflags opencv4 2> /dev/null || pkg-config --cflags opencv` -DGPU -I/usr/local/cuda/include/ -DCUDNN -DCUDNN_HALF -Wall -Wfatal-errors -Wno-unused-result -Wno-unknown-pragmas -fPIC -Ofast -DOPENCV -DGPU -DCUDNN -I/usr/local/cudnn/include -DCUDNN_HALF -fPIC -c ./src/route_layer.c -o obj/route_layer.o\n",
            "gcc -Iinclude/ -I3rdparty/stb/include -DOPENCV `pkg-config --cflags opencv4 2> /dev/null || pkg-config --cflags opencv` -DGPU -I/usr/local/cuda/include/ -DCUDNN -DCUDNN_HALF -Wall -Wfatal-errors -Wno-unused-result -Wno-unknown-pragmas -fPIC -Ofast -DOPENCV -DGPU -DCUDNN -I/usr/local/cudnn/include -DCUDNN_HALF -fPIC -c ./src/writing.c -o obj/writing.o\n",
            "gcc -Iinclude/ -I3rdparty/stb/include -DOPENCV `pkg-config --cflags opencv4 2> /dev/null || pkg-config --cflags opencv` -DGPU -I/usr/local/cuda/include/ -DCUDNN -DCUDNN_HALF -Wall -Wfatal-errors -Wno-unused-result -Wno-unknown-pragmas -fPIC -Ofast -DOPENCV -DGPU -DCUDNN -I/usr/local/cudnn/include -DCUDNN_HALF -fPIC -c ./src/box.c -o obj/box.o\n",
            "\u001b[01m\u001b[K./src/box.c:\u001b[m\u001b[K In function ‘\u001b[01m\u001b[Kbox_iou_kind\u001b[m\u001b[K’:\n",
            "\u001b[01m\u001b[K./src/box.c:154:5:\u001b[m\u001b[K \u001b[01;35m\u001b[Kwarning: \u001b[m\u001b[Kenumeration value ‘\u001b[01m\u001b[KMSE\u001b[m\u001b[K’ not handled in switch [\u001b[01;35m\u001b[K-Wswitch\u001b[m\u001b[K]\n",
            "     \u001b[01;35m\u001b[Kswitch\u001b[m\u001b[K(iou_kind) {\n",
            "     \u001b[01;35m\u001b[K^~~~~~\u001b[m\u001b[K\n",
            "\u001b[01m\u001b[K./src/box.c:\u001b[m\u001b[K In function ‘\u001b[01m\u001b[Kdiounms_sort\u001b[m\u001b[K’:\n",
            "\u001b[01m\u001b[K./src/box.c:898:27:\u001b[m\u001b[K \u001b[01;35m\u001b[Kwarning: \u001b[m\u001b[Kunused variable ‘\u001b[01m\u001b[Kbeta_prob\u001b[m\u001b[K’ [\u001b[01;35m\u001b[K-Wunused-variable\u001b[m\u001b[K]\n",
            "                     float \u001b[01;35m\u001b[Kbeta_prob\u001b[m\u001b[K = pow(dets[j].prob[k], 2) / sum_prob;\n",
            "                           \u001b[01;35m\u001b[K^~~~~~~~~\u001b[m\u001b[K\n",
            "\u001b[01m\u001b[K./src/box.c:897:27:\u001b[m\u001b[K \u001b[01;35m\u001b[Kwarning: \u001b[m\u001b[Kunused variable ‘\u001b[01m\u001b[Kalpha_prob\u001b[m\u001b[K’ [\u001b[01;35m\u001b[K-Wunused-variable\u001b[m\u001b[K]\n",
            "                     float \u001b[01;35m\u001b[Kalpha_prob\u001b[m\u001b[K = pow(dets[i].prob[k], 2) / sum_prob;\n",
            "                           \u001b[01;35m\u001b[K^~~~~~~~~~\u001b[m\u001b[K\n",
            "gcc -Iinclude/ -I3rdparty/stb/include -DOPENCV `pkg-config --cflags opencv4 2> /dev/null || pkg-config --cflags opencv` -DGPU -I/usr/local/cuda/include/ -DCUDNN -DCUDNN_HALF -Wall -Wfatal-errors -Wno-unused-result -Wno-unknown-pragmas -fPIC -Ofast -DOPENCV -DGPU -DCUDNN -I/usr/local/cudnn/include -DCUDNN_HALF -fPIC -c ./src/nightmare.c -o obj/nightmare.o\n",
            "gcc -Iinclude/ -I3rdparty/stb/include -DOPENCV `pkg-config --cflags opencv4 2> /dev/null || pkg-config --cflags opencv` -DGPU -I/usr/local/cuda/include/ -DCUDNN -DCUDNN_HALF -Wall -Wfatal-errors -Wno-unused-result -Wno-unknown-pragmas -fPIC -Ofast -DOPENCV -DGPU -DCUDNN -I/usr/local/cudnn/include -DCUDNN_HALF -fPIC -c ./src/normalization_layer.c -o obj/normalization_layer.o\n",
            "gcc -Iinclude/ -I3rdparty/stb/include -DOPENCV `pkg-config --cflags opencv4 2> /dev/null || pkg-config --cflags opencv` -DGPU -I/usr/local/cuda/include/ -DCUDNN -DCUDNN_HALF -Wall -Wfatal-errors -Wno-unused-result -Wno-unknown-pragmas -fPIC -Ofast -DOPENCV -DGPU -DCUDNN -I/usr/local/cudnn/include -DCUDNN_HALF -fPIC -c ./src/avgpool_layer.c -o obj/avgpool_layer.o\n",
            "gcc -Iinclude/ -I3rdparty/stb/include -DOPENCV `pkg-config --cflags opencv4 2> /dev/null || pkg-config --cflags opencv` -DGPU -I/usr/local/cuda/include/ -DCUDNN -DCUDNN_HALF -Wall -Wfatal-errors -Wno-unused-result -Wno-unknown-pragmas -fPIC -Ofast -DOPENCV -DGPU -DCUDNN -I/usr/local/cudnn/include -DCUDNN_HALF -fPIC -c ./src/coco.c -o obj/coco.o\n",
            "\u001b[01m\u001b[K./src/coco.c:\u001b[m\u001b[K In function ‘\u001b[01m\u001b[Kvalidate_coco_recall\u001b[m\u001b[K’:\n",
            "\u001b[01m\u001b[K./src/coco.c:248:11:\u001b[m\u001b[K \u001b[01;35m\u001b[Kwarning: \u001b[m\u001b[Kunused variable ‘\u001b[01m\u001b[Kbase\u001b[m\u001b[K’ [\u001b[01;35m\u001b[K-Wunused-variable\u001b[m\u001b[K]\n",
            "     char *\u001b[01;35m\u001b[Kbase\u001b[m\u001b[K = \"results/comp4_det_test_\";\n",
            "           \u001b[01;35m\u001b[K^~~~\u001b[m\u001b[K\n",
            "gcc -Iinclude/ -I3rdparty/stb/include -DOPENCV `pkg-config --cflags opencv4 2> /dev/null || pkg-config --cflags opencv` -DGPU -I/usr/local/cuda/include/ -DCUDNN -DCUDNN_HALF -Wall -Wfatal-errors -Wno-unused-result -Wno-unknown-pragmas -fPIC -Ofast -DOPENCV -DGPU -DCUDNN -I/usr/local/cudnn/include -DCUDNN_HALF -fPIC -c ./src/dice.c -o obj/dice.o\n",
            "gcc -Iinclude/ -I3rdparty/stb/include -DOPENCV `pkg-config --cflags opencv4 2> /dev/null || pkg-config --cflags opencv` -DGPU -I/usr/local/cuda/include/ -DCUDNN -DCUDNN_HALF -Wall -Wfatal-errors -Wno-unused-result -Wno-unknown-pragmas -fPIC -Ofast -DOPENCV -DGPU -DCUDNN -I/usr/local/cudnn/include -DCUDNN_HALF -fPIC -c ./src/yolo.c -o obj/yolo.o\n",
            "gcc -Iinclude/ -I3rdparty/stb/include -DOPENCV `pkg-config --cflags opencv4 2> /dev/null || pkg-config --cflags opencv` -DGPU -I/usr/local/cuda/include/ -DCUDNN -DCUDNN_HALF -Wall -Wfatal-errors -Wno-unused-result -Wno-unknown-pragmas -fPIC -Ofast -DOPENCV -DGPU -DCUDNN -I/usr/local/cudnn/include -DCUDNN_HALF -fPIC -c ./src/detector.c -o obj/detector.o\n",
            "\u001b[01m\u001b[K./src/detector.c:\u001b[m\u001b[K In function ‘\u001b[01m\u001b[Ktrain_detector\u001b[m\u001b[K’:\n",
            "\u001b[01m\u001b[K./src/detector.c:395:72:\u001b[m\u001b[K \u001b[01;35m\u001b[Kwarning: \u001b[m\u001b[Ksuggest parentheses around ‘\u001b[01m\u001b[K&&\u001b[m\u001b[K’ within ‘\u001b[01m\u001b[K||\u001b[m\u001b[K’ [\u001b[01;35m\u001b[K-Wparentheses\u001b[m\u001b[K]\n",
            "             \u001b[01;35m\u001b[K(iteration >= (iter_save + 1000) || iteration % 1000 == 0) && net.max_batches < 10000\u001b[m\u001b[K)\n",
            "             \u001b[01;35m\u001b[K~~~~~~~~~~~~~~~~~~~~~~~~~~~~~~~~~~~~~~~~~~~~~~~~~~~~~~~~~~~^~~~~~~~~~~~~~~~~~~~~~~~~~\u001b[m\u001b[K\n",
            "\u001b[01m\u001b[K./src/detector.c:\u001b[m\u001b[K In function ‘\u001b[01m\u001b[Keliminate_bdd\u001b[m\u001b[K’:\n",
            "\u001b[01m\u001b[K./src/detector.c:588:21:\u001b[m\u001b[K \u001b[01;35m\u001b[Kwarning: \u001b[m\u001b[Kstatement with no effect [\u001b[01;35m\u001b[K-Wunused-value\u001b[m\u001b[K]\n",
            "                     \u001b[01;35m\u001b[Kfor\u001b[m\u001b[K (k; buf[k + n] != '\\0'; k++)\n",
            "                     \u001b[01;35m\u001b[K^~~\u001b[m\u001b[K\n",
            "\u001b[01m\u001b[K./src/detector.c:\u001b[m\u001b[K In function ‘\u001b[01m\u001b[Kvalidate_detector\u001b[m\u001b[K’:\n",
            "\u001b[01m\u001b[K./src/detector.c:709:13:\u001b[m\u001b[K \u001b[01;35m\u001b[Kwarning: \u001b[m\u001b[Kunused variable ‘\u001b[01m\u001b[Kmkd2\u001b[m\u001b[K’ [\u001b[01;35m\u001b[K-Wunused-variable\u001b[m\u001b[K]\n",
            "         int \u001b[01;35m\u001b[Kmkd2\u001b[m\u001b[K = make_directory(buff2, 0777);\n",
            "             \u001b[01;35m\u001b[K^~~~\u001b[m\u001b[K\n",
            "\u001b[01m\u001b[K./src/detector.c:707:13:\u001b[m\u001b[K \u001b[01;35m\u001b[Kwarning: \u001b[m\u001b[Kunused variable ‘\u001b[01m\u001b[Kmkd\u001b[m\u001b[K’ [\u001b[01;35m\u001b[K-Wunused-variable\u001b[m\u001b[K]\n",
            "         int \u001b[01;35m\u001b[Kmkd\u001b[m\u001b[K = make_directory(buff, 0777);\n",
            "             \u001b[01;35m\u001b[K^~~\u001b[m\u001b[K\n",
            "\u001b[01m\u001b[K./src/detector.c:\u001b[m\u001b[K In function ‘\u001b[01m\u001b[Kvalidate_detector_map\u001b[m\u001b[K’:\n",
            "\u001b[01m\u001b[K./src/detector.c:1326:24:\u001b[m\u001b[K \u001b[01;35m\u001b[Kwarning: \u001b[m\u001b[Kvariable ‘\u001b[01m\u001b[Kcur_prob\u001b[m\u001b[K’ set but not used [\u001b[01;35m\u001b[K-Wunused-but-set-variable\u001b[m\u001b[K]\n",
            "                 double \u001b[01;35m\u001b[Kcur_prob\u001b[m\u001b[K = 0;\n",
            "                        \u001b[01;35m\u001b[K^~~~~~~~\u001b[m\u001b[K\n",
            "\u001b[01m\u001b[K./src/detector.c:1347:15:\u001b[m\u001b[K \u001b[01;35m\u001b[Kwarning: \u001b[m\u001b[Kunused variable ‘\u001b[01m\u001b[Kclass_recall\u001b[m\u001b[K’ [\u001b[01;35m\u001b[K-Wunused-variable\u001b[m\u001b[K]\n",
            "         float \u001b[01;35m\u001b[Kclass_recall\u001b[m\u001b[K = (float)tp_for_thresh_per_class[i] / ((float)tp_for_thresh_per_class[i] + (float)(truth_classes_count[i] - tp_for_thresh_per_class[i]));\n",
            "               \u001b[01;35m\u001b[K^~~~~~~~~~~~\u001b[m\u001b[K\n",
            "\u001b[01m\u001b[K./src/detector.c:1346:15:\u001b[m\u001b[K \u001b[01;35m\u001b[Kwarning: \u001b[m\u001b[Kunused variable ‘\u001b[01m\u001b[Kclass_precision\u001b[m\u001b[K’ [\u001b[01;35m\u001b[K-Wunused-variable\u001b[m\u001b[K]\n",
            "         float \u001b[01;35m\u001b[Kclass_precision\u001b[m\u001b[K = (float)tp_for_thresh_per_class[i] / ((float)tp_for_thresh_per_class[i] + (float)fp_for_thresh_per_class[i]);\n",
            "               \u001b[01;35m\u001b[K^~~~~~~~~~~~~~~\u001b[m\u001b[K\n",
            "\u001b[01m\u001b[K./src/detector.c:\u001b[m\u001b[K In function ‘\u001b[01m\u001b[Kdraw_object\u001b[m\u001b[K’:\n",
            "\u001b[01m\u001b[K./src/detector.c:1890:19:\u001b[m\u001b[K \u001b[01;35m\u001b[Kwarning: \u001b[m\u001b[Kunused variable ‘\u001b[01m\u001b[Kinv_loss\u001b[m\u001b[K’ [\u001b[01;35m\u001b[K-Wunused-variable\u001b[m\u001b[K]\n",
            "             float \u001b[01;35m\u001b[Kinv_loss\u001b[m\u001b[K = 1.0 / max_val_cmp(0.01, avg_loss);\n",
            "                   \u001b[01;35m\u001b[K^~~~~~~~\u001b[m\u001b[K\n",
            "gcc -Iinclude/ -I3rdparty/stb/include -DOPENCV `pkg-config --cflags opencv4 2> /dev/null || pkg-config --cflags opencv` -DGPU -I/usr/local/cuda/include/ -DCUDNN -DCUDNN_HALF -Wall -Wfatal-errors -Wno-unused-result -Wno-unknown-pragmas -fPIC -Ofast -DOPENCV -DGPU -DCUDNN -I/usr/local/cudnn/include -DCUDNN_HALF -fPIC -c ./src/layer.c -o obj/layer.o\n",
            "\u001b[01m\u001b[K./src/layer.c:\u001b[m\u001b[K In function ‘\u001b[01m\u001b[Kfree_layer_custom\u001b[m\u001b[K’:\n",
            "\u001b[01m\u001b[K./src/layer.c:208:68:\u001b[m\u001b[K \u001b[01;35m\u001b[Kwarning: \u001b[m\u001b[Ksuggest parentheses around ‘\u001b[01m\u001b[K&&\u001b[m\u001b[K’ within ‘\u001b[01m\u001b[K||\u001b[m\u001b[K’ [\u001b[01;35m\u001b[K-Wparentheses\u001b[m\u001b[K]\n",
            "     if (l.delta_gpu && (l.optimized_memory < 1 || \u001b[01;35m\u001b[Kl.keep_delta_gpu && l.optimized_memory < 3\u001b[m\u001b[K)) cuda_free(l.delta_gpu), l.delta_gpu = NULL;\n",
            "                                                   \u001b[01;35m\u001b[K~~~~~~~~~~~~~~~~~^~~~~~~~~~~~~~~~~~~~~~~~~\u001b[m\u001b[K\n",
            "gcc -Iinclude/ -I3rdparty/stb/include -DOPENCV `pkg-config --cflags opencv4 2> /dev/null || pkg-config --cflags opencv` -DGPU -I/usr/local/cuda/include/ -DCUDNN -DCUDNN_HALF -Wall -Wfatal-errors -Wno-unused-result -Wno-unknown-pragmas -fPIC -Ofast -DOPENCV -DGPU -DCUDNN -I/usr/local/cudnn/include -DCUDNN_HALF -fPIC -c ./src/compare.c -o obj/compare.o\n",
            "gcc -Iinclude/ -I3rdparty/stb/include -DOPENCV `pkg-config --cflags opencv4 2> /dev/null || pkg-config --cflags opencv` -DGPU -I/usr/local/cuda/include/ -DCUDNN -DCUDNN_HALF -Wall -Wfatal-errors -Wno-unused-result -Wno-unknown-pragmas -fPIC -Ofast -DOPENCV -DGPU -DCUDNN -I/usr/local/cudnn/include -DCUDNN_HALF -fPIC -c ./src/classifier.c -o obj/classifier.o\n",
            "\u001b[01m\u001b[K./src/classifier.c:\u001b[m\u001b[K In function ‘\u001b[01m\u001b[Ktrain_classifier\u001b[m\u001b[K’:\n",
            "\u001b[01m\u001b[K./src/classifier.c:146:9:\u001b[m\u001b[K \u001b[01;35m\u001b[Kwarning: \u001b[m\u001b[Kunused variable ‘\u001b[01m\u001b[Kcount\u001b[m\u001b[K’ [\u001b[01;35m\u001b[K-Wunused-variable\u001b[m\u001b[K]\n",
            "     int \u001b[01;35m\u001b[Kcount\u001b[m\u001b[K = 0;\n",
            "         \u001b[01;35m\u001b[K^~~~~\u001b[m\u001b[K\n",
            "\u001b[01m\u001b[K./src/classifier.c:\u001b[m\u001b[K In function ‘\u001b[01m\u001b[Kpredict_classifier\u001b[m\u001b[K’:\n",
            "\u001b[01m\u001b[K./src/classifier.c:855:13:\u001b[m\u001b[K \u001b[01;35m\u001b[Kwarning: \u001b[m\u001b[Kunused variable ‘\u001b[01m\u001b[Ktime\u001b[m\u001b[K’ [\u001b[01;35m\u001b[K-Wunused-variable\u001b[m\u001b[K]\n",
            "     clock_t \u001b[01;35m\u001b[Ktime\u001b[m\u001b[K;\n",
            "             \u001b[01;35m\u001b[K^~~~\u001b[m\u001b[K\n",
            "\u001b[01m\u001b[K./src/classifier.c:\u001b[m\u001b[K In function ‘\u001b[01m\u001b[Kdemo_classifier\u001b[m\u001b[K’:\n",
            "\u001b[01m\u001b[K./src/classifier.c:1287:49:\u001b[m\u001b[K \u001b[01;35m\u001b[Kwarning: \u001b[m\u001b[Kunused variable ‘\u001b[01m\u001b[Ktval_result\u001b[m\u001b[K’ [\u001b[01;35m\u001b[K-Wunused-variable\u001b[m\u001b[K]\n",
            "         struct timeval tval_before, tval_after, \u001b[01;35m\u001b[Ktval_result\u001b[m\u001b[K;\n",
            "                                                 \u001b[01;35m\u001b[K^~~~~~~~~~~\u001b[m\u001b[K\n",
            "\u001b[01m\u001b[K./src/classifier.c:1287:37:\u001b[m\u001b[K \u001b[01;35m\u001b[Kwarning: \u001b[m\u001b[Kunused variable ‘\u001b[01m\u001b[Ktval_after\u001b[m\u001b[K’ [\u001b[01;35m\u001b[K-Wunused-variable\u001b[m\u001b[K]\n",
            "         struct timeval tval_before, \u001b[01;35m\u001b[Ktval_after\u001b[m\u001b[K, tval_result;\n",
            "                                     \u001b[01;35m\u001b[K^~~~~~~~~~\u001b[m\u001b[K\n",
            "gcc -Iinclude/ -I3rdparty/stb/include -DOPENCV `pkg-config --cflags opencv4 2> /dev/null || pkg-config --cflags opencv` -DGPU -I/usr/local/cuda/include/ -DCUDNN -DCUDNN_HALF -Wall -Wfatal-errors -Wno-unused-result -Wno-unknown-pragmas -fPIC -Ofast -DOPENCV -DGPU -DCUDNN -I/usr/local/cudnn/include -DCUDNN_HALF -fPIC -c ./src/local_layer.c -o obj/local_layer.o\n",
            "gcc -Iinclude/ -I3rdparty/stb/include -DOPENCV `pkg-config --cflags opencv4 2> /dev/null || pkg-config --cflags opencv` -DGPU -I/usr/local/cuda/include/ -DCUDNN -DCUDNN_HALF -Wall -Wfatal-errors -Wno-unused-result -Wno-unknown-pragmas -fPIC -Ofast -DOPENCV -DGPU -DCUDNN -I/usr/local/cudnn/include -DCUDNN_HALF -fPIC -c ./src/swag.c -o obj/swag.o\n",
            "gcc -Iinclude/ -I3rdparty/stb/include -DOPENCV `pkg-config --cflags opencv4 2> /dev/null || pkg-config --cflags opencv` -DGPU -I/usr/local/cuda/include/ -DCUDNN -DCUDNN_HALF -Wall -Wfatal-errors -Wno-unused-result -Wno-unknown-pragmas -fPIC -Ofast -DOPENCV -DGPU -DCUDNN -I/usr/local/cudnn/include -DCUDNN_HALF -fPIC -c ./src/shortcut_layer.c -o obj/shortcut_layer.o\n",
            "\u001b[01m\u001b[K./src/shortcut_layer.c:\u001b[m\u001b[K In function ‘\u001b[01m\u001b[Kmake_shortcut_layer\u001b[m\u001b[K’:\n",
            "\u001b[01m\u001b[K./src/shortcut_layer.c:55:15:\u001b[m\u001b[K \u001b[01;35m\u001b[Kwarning: \u001b[m\u001b[Kunused variable ‘\u001b[01m\u001b[Kscale\u001b[m\u001b[K’ [\u001b[01;35m\u001b[K-Wunused-variable\u001b[m\u001b[K]\n",
            "         float \u001b[01;35m\u001b[Kscale\u001b[m\u001b[K = sqrt(2. / l.nweights);\n",
            "               \u001b[01;35m\u001b[K^~~~~\u001b[m\u001b[K\n",
            "gcc -Iinclude/ -I3rdparty/stb/include -DOPENCV `pkg-config --cflags opencv4 2> /dev/null || pkg-config --cflags opencv` -DGPU -I/usr/local/cuda/include/ -DCUDNN -DCUDNN_HALF -Wall -Wfatal-errors -Wno-unused-result -Wno-unknown-pragmas -fPIC -Ofast -DOPENCV -DGPU -DCUDNN -I/usr/local/cudnn/include -DCUDNN_HALF -fPIC -c ./src/representation_layer.c -o obj/representation_layer.o\n",
            "gcc -Iinclude/ -I3rdparty/stb/include -DOPENCV `pkg-config --cflags opencv4 2> /dev/null || pkg-config --cflags opencv` -DGPU -I/usr/local/cuda/include/ -DCUDNN -DCUDNN_HALF -Wall -Wfatal-errors -Wno-unused-result -Wno-unknown-pragmas -fPIC -Ofast -DOPENCV -DGPU -DCUDNN -I/usr/local/cudnn/include -DCUDNN_HALF -fPIC -c ./src/activation_layer.c -o obj/activation_layer.o\n",
            "gcc -Iinclude/ -I3rdparty/stb/include -DOPENCV `pkg-config --cflags opencv4 2> /dev/null || pkg-config --cflags opencv` -DGPU -I/usr/local/cuda/include/ -DCUDNN -DCUDNN_HALF -Wall -Wfatal-errors -Wno-unused-result -Wno-unknown-pragmas -fPIC -Ofast -DOPENCV -DGPU -DCUDNN -I/usr/local/cudnn/include -DCUDNN_HALF -fPIC -c ./src/rnn_layer.c -o obj/rnn_layer.o\n",
            "gcc -Iinclude/ -I3rdparty/stb/include -DOPENCV `pkg-config --cflags opencv4 2> /dev/null || pkg-config --cflags opencv` -DGPU -I/usr/local/cuda/include/ -DCUDNN -DCUDNN_HALF -Wall -Wfatal-errors -Wno-unused-result -Wno-unknown-pragmas -fPIC -Ofast -DOPENCV -DGPU -DCUDNN -I/usr/local/cudnn/include -DCUDNN_HALF -fPIC -c ./src/gru_layer.c -o obj/gru_layer.o\n",
            "gcc -Iinclude/ -I3rdparty/stb/include -DOPENCV `pkg-config --cflags opencv4 2> /dev/null || pkg-config --cflags opencv` -DGPU -I/usr/local/cuda/include/ -DCUDNN -DCUDNN_HALF -Wall -Wfatal-errors -Wno-unused-result -Wno-unknown-pragmas -fPIC -Ofast -DOPENCV -DGPU -DCUDNN -I/usr/local/cudnn/include -DCUDNN_HALF -fPIC -c ./src/rnn.c -o obj/rnn.o\n",
            "gcc -Iinclude/ -I3rdparty/stb/include -DOPENCV `pkg-config --cflags opencv4 2> /dev/null || pkg-config --cflags opencv` -DGPU -I/usr/local/cuda/include/ -DCUDNN -DCUDNN_HALF -Wall -Wfatal-errors -Wno-unused-result -Wno-unknown-pragmas -fPIC -Ofast -DOPENCV -DGPU -DCUDNN -I/usr/local/cudnn/include -DCUDNN_HALF -fPIC -c ./src/rnn_vid.c -o obj/rnn_vid.o\n",
            "gcc -Iinclude/ -I3rdparty/stb/include -DOPENCV `pkg-config --cflags opencv4 2> /dev/null || pkg-config --cflags opencv` -DGPU -I/usr/local/cuda/include/ -DCUDNN -DCUDNN_HALF -Wall -Wfatal-errors -Wno-unused-result -Wno-unknown-pragmas -fPIC -Ofast -DOPENCV -DGPU -DCUDNN -I/usr/local/cudnn/include -DCUDNN_HALF -fPIC -c ./src/crnn_layer.c -o obj/crnn_layer.o\n",
            "gcc -Iinclude/ -I3rdparty/stb/include -DOPENCV `pkg-config --cflags opencv4 2> /dev/null || pkg-config --cflags opencv` -DGPU -I/usr/local/cuda/include/ -DCUDNN -DCUDNN_HALF -Wall -Wfatal-errors -Wno-unused-result -Wno-unknown-pragmas -fPIC -Ofast -DOPENCV -DGPU -DCUDNN -I/usr/local/cudnn/include -DCUDNN_HALF -fPIC -c ./src/demo.c -o obj/demo.o\n",
            "\u001b[01m\u001b[K./src/demo.c:\u001b[m\u001b[K In function ‘\u001b[01m\u001b[Kdetect_in_thread\u001b[m\u001b[K’:\n",
            "\u001b[01m\u001b[K./src/demo.c:101:15:\u001b[m\u001b[K \u001b[01;35m\u001b[Kwarning: \u001b[m\u001b[Kunused variable ‘\u001b[01m\u001b[Kl\u001b[m\u001b[K’ [\u001b[01;35m\u001b[K-Wunused-variable\u001b[m\u001b[K]\n",
            "         layer \u001b[01;35m\u001b[Kl\u001b[m\u001b[K = net.layers[net.n - 1];\n",
            "               \u001b[01;35m\u001b[K^\u001b[m\u001b[K\n",
            "gcc -Iinclude/ -I3rdparty/stb/include -DOPENCV `pkg-config --cflags opencv4 2> /dev/null || pkg-config --cflags opencv` -DGPU -I/usr/local/cuda/include/ -DCUDNN -DCUDNN_HALF -Wall -Wfatal-errors -Wno-unused-result -Wno-unknown-pragmas -fPIC -Ofast -DOPENCV -DGPU -DCUDNN -I/usr/local/cudnn/include -DCUDNN_HALF -fPIC -c ./src/tag.c -o obj/tag.o\n",
            "gcc -Iinclude/ -I3rdparty/stb/include -DOPENCV `pkg-config --cflags opencv4 2> /dev/null || pkg-config --cflags opencv` -DGPU -I/usr/local/cuda/include/ -DCUDNN -DCUDNN_HALF -Wall -Wfatal-errors -Wno-unused-result -Wno-unknown-pragmas -fPIC -Ofast -DOPENCV -DGPU -DCUDNN -I/usr/local/cudnn/include -DCUDNN_HALF -fPIC -c ./src/cifar.c -o obj/cifar.o\n",
            "gcc -Iinclude/ -I3rdparty/stb/include -DOPENCV `pkg-config --cflags opencv4 2> /dev/null || pkg-config --cflags opencv` -DGPU -I/usr/local/cuda/include/ -DCUDNN -DCUDNN_HALF -Wall -Wfatal-errors -Wno-unused-result -Wno-unknown-pragmas -fPIC -Ofast -DOPENCV -DGPU -DCUDNN -I/usr/local/cudnn/include -DCUDNN_HALF -fPIC -c ./src/go.c -o obj/go.o\n",
            "gcc -Iinclude/ -I3rdparty/stb/include -DOPENCV `pkg-config --cflags opencv4 2> /dev/null || pkg-config --cflags opencv` -DGPU -I/usr/local/cuda/include/ -DCUDNN -DCUDNN_HALF -Wall -Wfatal-errors -Wno-unused-result -Wno-unknown-pragmas -fPIC -Ofast -DOPENCV -DGPU -DCUDNN -I/usr/local/cudnn/include -DCUDNN_HALF -fPIC -c ./src/batchnorm_layer.c -o obj/batchnorm_layer.o\n",
            "gcc -Iinclude/ -I3rdparty/stb/include -DOPENCV `pkg-config --cflags opencv4 2> /dev/null || pkg-config --cflags opencv` -DGPU -I/usr/local/cuda/include/ -DCUDNN -DCUDNN_HALF -Wall -Wfatal-errors -Wno-unused-result -Wno-unknown-pragmas -fPIC -Ofast -DOPENCV -DGPU -DCUDNN -I/usr/local/cudnn/include -DCUDNN_HALF -fPIC -c ./src/art.c -o obj/art.o\n",
            "gcc -Iinclude/ -I3rdparty/stb/include -DOPENCV `pkg-config --cflags opencv4 2> /dev/null || pkg-config --cflags opencv` -DGPU -I/usr/local/cuda/include/ -DCUDNN -DCUDNN_HALF -Wall -Wfatal-errors -Wno-unused-result -Wno-unknown-pragmas -fPIC -Ofast -DOPENCV -DGPU -DCUDNN -I/usr/local/cudnn/include -DCUDNN_HALF -fPIC -c ./src/region_layer.c -o obj/region_layer.o\n",
            "\u001b[01m\u001b[K./src/region_layer.c:\u001b[m\u001b[K In function ‘\u001b[01m\u001b[Kresize_region_layer\u001b[m\u001b[K’:\n",
            "\u001b[01m\u001b[K./src/region_layer.c:63:9:\u001b[m\u001b[K \u001b[01;35m\u001b[Kwarning: \u001b[m\u001b[Kunused variable ‘\u001b[01m\u001b[Kold_h\u001b[m\u001b[K’ [\u001b[01;35m\u001b[K-Wunused-variable\u001b[m\u001b[K]\n",
            "     int \u001b[01;35m\u001b[Kold_h\u001b[m\u001b[K = l->h;\n",
            "         \u001b[01;35m\u001b[K^~~~~\u001b[m\u001b[K\n",
            "\u001b[01m\u001b[K./src/region_layer.c:62:9:\u001b[m\u001b[K \u001b[01;35m\u001b[Kwarning: \u001b[m\u001b[Kunused variable ‘\u001b[01m\u001b[Kold_w\u001b[m\u001b[K’ [\u001b[01;35m\u001b[K-Wunused-variable\u001b[m\u001b[K]\n",
            "     int \u001b[01;35m\u001b[Kold_w\u001b[m\u001b[K = l->w;\n",
            "         \u001b[01;35m\u001b[K^~~~~\u001b[m\u001b[K\n",
            "gcc -Iinclude/ -I3rdparty/stb/include -DOPENCV `pkg-config --cflags opencv4 2> /dev/null || pkg-config --cflags opencv` -DGPU -I/usr/local/cuda/include/ -DCUDNN -DCUDNN_HALF -Wall -Wfatal-errors -Wno-unused-result -Wno-unknown-pragmas -fPIC -Ofast -DOPENCV -DGPU -DCUDNN -I/usr/local/cudnn/include -DCUDNN_HALF -fPIC -c ./src/reorg_layer.c -o obj/reorg_layer.o\n",
            "gcc -Iinclude/ -I3rdparty/stb/include -DOPENCV `pkg-config --cflags opencv4 2> /dev/null || pkg-config --cflags opencv` -DGPU -I/usr/local/cuda/include/ -DCUDNN -DCUDNN_HALF -Wall -Wfatal-errors -Wno-unused-result -Wno-unknown-pragmas -fPIC -Ofast -DOPENCV -DGPU -DCUDNN -I/usr/local/cudnn/include -DCUDNN_HALF -fPIC -c ./src/reorg_old_layer.c -o obj/reorg_old_layer.o\n",
            "gcc -Iinclude/ -I3rdparty/stb/include -DOPENCV `pkg-config --cflags opencv4 2> /dev/null || pkg-config --cflags opencv` -DGPU -I/usr/local/cuda/include/ -DCUDNN -DCUDNN_HALF -Wall -Wfatal-errors -Wno-unused-result -Wno-unknown-pragmas -fPIC -Ofast -DOPENCV -DGPU -DCUDNN -I/usr/local/cudnn/include -DCUDNN_HALF -fPIC -c ./src/super.c -o obj/super.o\n",
            "gcc -Iinclude/ -I3rdparty/stb/include -DOPENCV `pkg-config --cflags opencv4 2> /dev/null || pkg-config --cflags opencv` -DGPU -I/usr/local/cuda/include/ -DCUDNN -DCUDNN_HALF -Wall -Wfatal-errors -Wno-unused-result -Wno-unknown-pragmas -fPIC -Ofast -DOPENCV -DGPU -DCUDNN -I/usr/local/cudnn/include -DCUDNN_HALF -fPIC -c ./src/voxel.c -o obj/voxel.o\n",
            "gcc -Iinclude/ -I3rdparty/stb/include -DOPENCV `pkg-config --cflags opencv4 2> /dev/null || pkg-config --cflags opencv` -DGPU -I/usr/local/cuda/include/ -DCUDNN -DCUDNN_HALF -Wall -Wfatal-errors -Wno-unused-result -Wno-unknown-pragmas -fPIC -Ofast -DOPENCV -DGPU -DCUDNN -I/usr/local/cudnn/include -DCUDNN_HALF -fPIC -c ./src/tree.c -o obj/tree.o\n",
            "gcc -Iinclude/ -I3rdparty/stb/include -DOPENCV `pkg-config --cflags opencv4 2> /dev/null || pkg-config --cflags opencv` -DGPU -I/usr/local/cuda/include/ -DCUDNN -DCUDNN_HALF -Wall -Wfatal-errors -Wno-unused-result -Wno-unknown-pragmas -fPIC -Ofast -DOPENCV -DGPU -DCUDNN -I/usr/local/cudnn/include -DCUDNN_HALF -fPIC -c ./src/yolo_layer.c -o obj/yolo_layer.o\n",
            "\u001b[01m\u001b[K./src/yolo_layer.c:\u001b[m\u001b[K In function ‘\u001b[01m\u001b[Kmake_yolo_layer\u001b[m\u001b[K’:\n",
            "\u001b[01m\u001b[K./src/yolo_layer.c:68:38:\u001b[m\u001b[K \u001b[01;35m\u001b[Kwarning: \u001b[m\u001b[Kpassing argument 1 of ‘\u001b[01m\u001b[KcudaHostAlloc\u001b[m\u001b[K’ from incompatible pointer type [\u001b[01;35m\u001b[K-Wincompatible-pointer-types\u001b[m\u001b[K]\n",
            "     if (cudaSuccess == cudaHostAlloc(\u001b[01;35m\u001b[K&\u001b[m\u001b[Kl.output, batch*l.outputs*sizeof(float), cudaHostRegisterMapped)) l.output_pinned = 1;\n",
            "                                      \u001b[01;35m\u001b[K^\u001b[m\u001b[K\n",
            "In file included from \u001b[01m\u001b[K/usr/local/cuda/include/cuda_runtime.h:96:0\u001b[m\u001b[K,\n",
            "                 from \u001b[01m\u001b[Kinclude/darknet.h:41\u001b[m\u001b[K,\n",
            "                 from \u001b[01m\u001b[K./src/activations.h:3\u001b[m\u001b[K,\n",
            "                 from \u001b[01m\u001b[K./src/layer.h:4\u001b[m\u001b[K,\n",
            "                 from \u001b[01m\u001b[K./src/yolo_layer.h:5\u001b[m\u001b[K,\n",
            "                 from \u001b[01m\u001b[K./src/yolo_layer.c:1\u001b[m\u001b[K:\n",
            "\u001b[01m\u001b[K/usr/local/cuda/include/cuda_runtime_api.h:4811:39:\u001b[m\u001b[K \u001b[01;36m\u001b[Knote: \u001b[m\u001b[Kexpected ‘\u001b[01m\u001b[Kvoid **\u001b[m\u001b[K’ but argument is of type ‘\u001b[01m\u001b[Kfloat **\u001b[m\u001b[K’\n",
            " extern __host__ cudaError_t CUDARTAPI \u001b[01;36m\u001b[KcudaHostAlloc\u001b[m\u001b[K(void **pHost, size_t size, unsigned int flags);\n",
            "                                       \u001b[01;36m\u001b[K^~~~~~~~~~~~~\u001b[m\u001b[K\n",
            "\u001b[01m\u001b[K./src/yolo_layer.c:75:38:\u001b[m\u001b[K \u001b[01;35m\u001b[Kwarning: \u001b[m\u001b[Kpassing argument 1 of ‘\u001b[01m\u001b[KcudaHostAlloc\u001b[m\u001b[K’ from incompatible pointer type [\u001b[01;35m\u001b[K-Wincompatible-pointer-types\u001b[m\u001b[K]\n",
            "     if (cudaSuccess == cudaHostAlloc(\u001b[01;35m\u001b[K&\u001b[m\u001b[Kl.delta, batch*l.outputs*sizeof(float), cudaHostRegisterMapped)) l.delta_pinned = 1;\n",
            "                                      \u001b[01;35m\u001b[K^\u001b[m\u001b[K\n",
            "In file included from \u001b[01m\u001b[K/usr/local/cuda/include/cuda_runtime.h:96:0\u001b[m\u001b[K,\n",
            "                 from \u001b[01m\u001b[Kinclude/darknet.h:41\u001b[m\u001b[K,\n",
            "                 from \u001b[01m\u001b[K./src/activations.h:3\u001b[m\u001b[K,\n",
            "                 from \u001b[01m\u001b[K./src/layer.h:4\u001b[m\u001b[K,\n",
            "                 from \u001b[01m\u001b[K./src/yolo_layer.h:5\u001b[m\u001b[K,\n",
            "                 from \u001b[01m\u001b[K./src/yolo_layer.c:1\u001b[m\u001b[K:\n",
            "\u001b[01m\u001b[K/usr/local/cuda/include/cuda_runtime_api.h:4811:39:\u001b[m\u001b[K \u001b[01;36m\u001b[Knote: \u001b[m\u001b[Kexpected ‘\u001b[01m\u001b[Kvoid **\u001b[m\u001b[K’ but argument is of type ‘\u001b[01m\u001b[Kfloat **\u001b[m\u001b[K’\n",
            " extern __host__ cudaError_t CUDARTAPI \u001b[01;36m\u001b[KcudaHostAlloc\u001b[m\u001b[K(void **pHost, size_t size, unsigned int flags);\n",
            "                                       \u001b[01;36m\u001b[K^~~~~~~~~~~~~\u001b[m\u001b[K\n",
            "\u001b[01m\u001b[K./src/yolo_layer.c:\u001b[m\u001b[K In function ‘\u001b[01m\u001b[Kresize_yolo_layer\u001b[m\u001b[K’:\n",
            "\u001b[01m\u001b[K./src/yolo_layer.c:106:42:\u001b[m\u001b[K \u001b[01;35m\u001b[Kwarning: \u001b[m\u001b[Kpassing argument 1 of ‘\u001b[01m\u001b[KcudaHostAlloc\u001b[m\u001b[K’ from incompatible pointer type [\u001b[01;35m\u001b[K-Wincompatible-pointer-types\u001b[m\u001b[K]\n",
            "         if (cudaSuccess != cudaHostAlloc(\u001b[01;35m\u001b[K&\u001b[m\u001b[Kl->output, l->batch*l->outputs * sizeof(float), cudaHostRegisterMapped)) {\n",
            "                                          \u001b[01;35m\u001b[K^\u001b[m\u001b[K\n",
            "In file included from \u001b[01m\u001b[K/usr/local/cuda/include/cuda_runtime.h:96:0\u001b[m\u001b[K,\n",
            "                 from \u001b[01m\u001b[Kinclude/darknet.h:41\u001b[m\u001b[K,\n",
            "                 from \u001b[01m\u001b[K./src/activations.h:3\u001b[m\u001b[K,\n",
            "                 from \u001b[01m\u001b[K./src/layer.h:4\u001b[m\u001b[K,\n",
            "                 from \u001b[01m\u001b[K./src/yolo_layer.h:5\u001b[m\u001b[K,\n",
            "                 from \u001b[01m\u001b[K./src/yolo_layer.c:1\u001b[m\u001b[K:\n",
            "\u001b[01m\u001b[K/usr/local/cuda/include/cuda_runtime_api.h:4811:39:\u001b[m\u001b[K \u001b[01;36m\u001b[Knote: \u001b[m\u001b[Kexpected ‘\u001b[01m\u001b[Kvoid **\u001b[m\u001b[K’ but argument is of type ‘\u001b[01m\u001b[Kfloat **\u001b[m\u001b[K’\n",
            " extern __host__ cudaError_t CUDARTAPI \u001b[01;36m\u001b[KcudaHostAlloc\u001b[m\u001b[K(void **pHost, size_t size, unsigned int flags);\n",
            "                                       \u001b[01;36m\u001b[K^~~~~~~~~~~~~\u001b[m\u001b[K\n",
            "\u001b[01m\u001b[K./src/yolo_layer.c:115:42:\u001b[m\u001b[K \u001b[01;35m\u001b[Kwarning: \u001b[m\u001b[Kpassing argument 1 of ‘\u001b[01m\u001b[KcudaHostAlloc\u001b[m\u001b[K’ from incompatible pointer type [\u001b[01;35m\u001b[K-Wincompatible-pointer-types\u001b[m\u001b[K]\n",
            "         if (cudaSuccess != cudaHostAlloc(\u001b[01;35m\u001b[K&\u001b[m\u001b[Kl->delta, l->batch*l->outputs * sizeof(float), cudaHostRegisterMapped)) {\n",
            "                                          \u001b[01;35m\u001b[K^\u001b[m\u001b[K\n",
            "In file included from \u001b[01m\u001b[K/usr/local/cuda/include/cuda_runtime.h:96:0\u001b[m\u001b[K,\n",
            "                 from \u001b[01m\u001b[Kinclude/darknet.h:41\u001b[m\u001b[K,\n",
            "                 from \u001b[01m\u001b[K./src/activations.h:3\u001b[m\u001b[K,\n",
            "                 from \u001b[01m\u001b[K./src/layer.h:4\u001b[m\u001b[K,\n",
            "                 from \u001b[01m\u001b[K./src/yolo_layer.h:5\u001b[m\u001b[K,\n",
            "                 from \u001b[01m\u001b[K./src/yolo_layer.c:1\u001b[m\u001b[K:\n",
            "\u001b[01m\u001b[K/usr/local/cuda/include/cuda_runtime_api.h:4811:39:\u001b[m\u001b[K \u001b[01;36m\u001b[Knote: \u001b[m\u001b[Kexpected ‘\u001b[01m\u001b[Kvoid **\u001b[m\u001b[K’ but argument is of type ‘\u001b[01m\u001b[Kfloat **\u001b[m\u001b[K’\n",
            " extern __host__ cudaError_t CUDARTAPI \u001b[01;36m\u001b[KcudaHostAlloc\u001b[m\u001b[K(void **pHost, size_t size, unsigned int flags);\n",
            "                                       \u001b[01;36m\u001b[K^~~~~~~~~~~~~\u001b[m\u001b[K\n",
            "\u001b[01m\u001b[K./src/yolo_layer.c:\u001b[m\u001b[K In function ‘\u001b[01m\u001b[Kprocess_batch\u001b[m\u001b[K’:\n",
            "\u001b[01m\u001b[K./src/yolo_layer.c:426:25:\u001b[m\u001b[K \u001b[01;35m\u001b[Kwarning: \u001b[m\u001b[Kvariable ‘\u001b[01m\u001b[Kbest_match_t\u001b[m\u001b[K’ set but not used [\u001b[01;35m\u001b[K-Wunused-but-set-variable\u001b[m\u001b[K]\n",
            "                     int \u001b[01;35m\u001b[Kbest_match_t\u001b[m\u001b[K = 0;\n",
            "                         \u001b[01;35m\u001b[K^~~~~~~~~~~~\u001b[m\u001b[K\n",
            "\u001b[01m\u001b[K./src/yolo_layer.c:\u001b[m\u001b[K In function ‘\u001b[01m\u001b[Kforward_yolo_layer\u001b[m\u001b[K’:\n",
            "\u001b[01m\u001b[K./src/yolo_layer.c:707:11:\u001b[m\u001b[K \u001b[01;35m\u001b[Kwarning: \u001b[m\u001b[Kunused variable ‘\u001b[01m\u001b[Kavg_anyobj\u001b[m\u001b[K’ [\u001b[01;35m\u001b[K-Wunused-variable\u001b[m\u001b[K]\n",
            "     float \u001b[01;35m\u001b[Kavg_anyobj\u001b[m\u001b[K = 0;\n",
            "           \u001b[01;35m\u001b[K^~~~~~~~~~\u001b[m\u001b[K\n",
            "\u001b[01m\u001b[K./src/yolo_layer.c:706:11:\u001b[m\u001b[K \u001b[01;35m\u001b[Kwarning: \u001b[m\u001b[Kunused variable ‘\u001b[01m\u001b[Kavg_obj\u001b[m\u001b[K’ [\u001b[01;35m\u001b[K-Wunused-variable\u001b[m\u001b[K]\n",
            "     float \u001b[01;35m\u001b[Kavg_obj\u001b[m\u001b[K = 0;\n",
            "           \u001b[01;35m\u001b[K^~~~~~~\u001b[m\u001b[K\n",
            "\u001b[01m\u001b[K./src/yolo_layer.c:705:11:\u001b[m\u001b[K \u001b[01;35m\u001b[Kwarning: \u001b[m\u001b[Kunused variable ‘\u001b[01m\u001b[Kavg_cat\u001b[m\u001b[K’ [\u001b[01;35m\u001b[K-Wunused-variable\u001b[m\u001b[K]\n",
            "     float \u001b[01;35m\u001b[Kavg_cat\u001b[m\u001b[K = 0;\n",
            "           \u001b[01;35m\u001b[K^~~~~~~\u001b[m\u001b[K\n",
            "\u001b[01m\u001b[K./src/yolo_layer.c:704:11:\u001b[m\u001b[K \u001b[01;35m\u001b[Kwarning: \u001b[m\u001b[Kunused variable ‘\u001b[01m\u001b[Krecall75\u001b[m\u001b[K’ [\u001b[01;35m\u001b[K-Wunused-variable\u001b[m\u001b[K]\n",
            "     float \u001b[01;35m\u001b[Krecall75\u001b[m\u001b[K = 0;\n",
            "           \u001b[01;35m\u001b[K^~~~~~~~\u001b[m\u001b[K\n",
            "\u001b[01m\u001b[K./src/yolo_layer.c:703:11:\u001b[m\u001b[K \u001b[01;35m\u001b[Kwarning: \u001b[m\u001b[Kunused variable ‘\u001b[01m\u001b[Krecall\u001b[m\u001b[K’ [\u001b[01;35m\u001b[K-Wunused-variable\u001b[m\u001b[K]\n",
            "     float \u001b[01;35m\u001b[Krecall\u001b[m\u001b[K = 0;\n",
            "           \u001b[01;35m\u001b[K^~~~~~\u001b[m\u001b[K\n",
            "\u001b[01m\u001b[K./src/yolo_layer.c:702:11:\u001b[m\u001b[K \u001b[01;35m\u001b[Kwarning: \u001b[m\u001b[Kunused variable ‘\u001b[01m\u001b[Ktot_ciou_loss\u001b[m\u001b[K’ [\u001b[01;35m\u001b[K-Wunused-variable\u001b[m\u001b[K]\n",
            "     float \u001b[01;35m\u001b[Ktot_ciou_loss\u001b[m\u001b[K = 0;\n",
            "           \u001b[01;35m\u001b[K^~~~~~~~~~~~~\u001b[m\u001b[K\n",
            "\u001b[01m\u001b[K./src/yolo_layer.c:701:11:\u001b[m\u001b[K \u001b[01;35m\u001b[Kwarning: \u001b[m\u001b[Kunused variable ‘\u001b[01m\u001b[Ktot_diou_loss\u001b[m\u001b[K’ [\u001b[01;35m\u001b[K-Wunused-variable\u001b[m\u001b[K]\n",
            "     float \u001b[01;35m\u001b[Ktot_diou_loss\u001b[m\u001b[K = 0;\n",
            "           \u001b[01;35m\u001b[K^~~~~~~~~~~~~\u001b[m\u001b[K\n",
            "\u001b[01m\u001b[K./src/yolo_layer.c:698:11:\u001b[m\u001b[K \u001b[01;35m\u001b[Kwarning: \u001b[m\u001b[Kunused variable ‘\u001b[01m\u001b[Ktot_ciou\u001b[m\u001b[K’ [\u001b[01;35m\u001b[K-Wunused-variable\u001b[m\u001b[K]\n",
            "     float \u001b[01;35m\u001b[Ktot_ciou\u001b[m\u001b[K = 0;\n",
            "           \u001b[01;35m\u001b[K^~~~~~~~\u001b[m\u001b[K\n",
            "\u001b[01m\u001b[K./src/yolo_layer.c:697:11:\u001b[m\u001b[K \u001b[01;35m\u001b[Kwarning: \u001b[m\u001b[Kunused variable ‘\u001b[01m\u001b[Ktot_diou\u001b[m\u001b[K’ [\u001b[01;35m\u001b[K-Wunused-variable\u001b[m\u001b[K]\n",
            "     float \u001b[01;35m\u001b[Ktot_diou\u001b[m\u001b[K = 0;\n",
            "           \u001b[01;35m\u001b[K^~~~~~~~\u001b[m\u001b[K\n",
            "\u001b[01m\u001b[K./src/yolo_layer.c:696:11:\u001b[m\u001b[K \u001b[01;35m\u001b[Kwarning: \u001b[m\u001b[Kunused variable ‘\u001b[01m\u001b[Ktot_giou\u001b[m\u001b[K’ [\u001b[01;35m\u001b[K-Wunused-variable\u001b[m\u001b[K]\n",
            "     float \u001b[01;35m\u001b[Ktot_giou\u001b[m\u001b[K = 0;\n",
            "           \u001b[01;35m\u001b[K^~~~~~~~\u001b[m\u001b[K\n",
            "\u001b[01m\u001b[K./src/yolo_layer.c:668:12:\u001b[m\u001b[K \u001b[01;35m\u001b[Kwarning: \u001b[m\u001b[Kunused variable ‘\u001b[01m\u001b[Kn\u001b[m\u001b[K’ [\u001b[01;35m\u001b[K-Wunused-variable\u001b[m\u001b[K]\n",
            "     int b, \u001b[01;35m\u001b[Kn\u001b[m\u001b[K;\n",
            "            \u001b[01;35m\u001b[K^\u001b[m\u001b[K\n",
            "gcc -Iinclude/ -I3rdparty/stb/include -DOPENCV `pkg-config --cflags opencv4 2> /dev/null || pkg-config --cflags opencv` -DGPU -I/usr/local/cuda/include/ -DCUDNN -DCUDNN_HALF -Wall -Wfatal-errors -Wno-unused-result -Wno-unknown-pragmas -fPIC -Ofast -DOPENCV -DGPU -DCUDNN -I/usr/local/cudnn/include -DCUDNN_HALF -fPIC -c ./src/gaussian_yolo_layer.c -o obj/gaussian_yolo_layer.o\n",
            "\u001b[01m\u001b[K./src/gaussian_yolo_layer.c:\u001b[m\u001b[K In function ‘\u001b[01m\u001b[Kmake_gaussian_yolo_layer\u001b[m\u001b[K’:\n",
            "\u001b[01m\u001b[K./src/gaussian_yolo_layer.c:72:38:\u001b[m\u001b[K \u001b[01;35m\u001b[Kwarning: \u001b[m\u001b[Kpassing argument 1 of ‘\u001b[01m\u001b[KcudaHostAlloc\u001b[m\u001b[K’ from incompatible pointer type [\u001b[01;35m\u001b[K-Wincompatible-pointer-types\u001b[m\u001b[K]\n",
            "     if (cudaSuccess == cudaHostAlloc(\u001b[01;35m\u001b[K&\u001b[m\u001b[Kl.output, batch*l.outputs * sizeof(float), cudaHostRegisterMapped)) l.output_pinned = 1;\n",
            "                                      \u001b[01;35m\u001b[K^\u001b[m\u001b[K\n",
            "In file included from \u001b[01m\u001b[K/usr/local/cuda/include/cuda_runtime.h:96:0\u001b[m\u001b[K,\n",
            "                 from \u001b[01m\u001b[Kinclude/darknet.h:41\u001b[m\u001b[K,\n",
            "                 from \u001b[01m\u001b[K./src/gaussian_yolo_layer.h:5\u001b[m\u001b[K,\n",
            "                 from \u001b[01m\u001b[K./src/gaussian_yolo_layer.c:7\u001b[m\u001b[K:\n",
            "\u001b[01m\u001b[K/usr/local/cuda/include/cuda_runtime_api.h:4811:39:\u001b[m\u001b[K \u001b[01;36m\u001b[Knote: \u001b[m\u001b[Kexpected ‘\u001b[01m\u001b[Kvoid **\u001b[m\u001b[K’ but argument is of type ‘\u001b[01m\u001b[Kfloat **\u001b[m\u001b[K’\n",
            " extern __host__ cudaError_t CUDARTAPI \u001b[01;36m\u001b[KcudaHostAlloc\u001b[m\u001b[K(void **pHost, size_t size, unsigned int flags);\n",
            "                                       \u001b[01;36m\u001b[K^~~~~~~~~~~~~\u001b[m\u001b[K\n",
            "\u001b[01m\u001b[K./src/gaussian_yolo_layer.c:79:38:\u001b[m\u001b[K \u001b[01;35m\u001b[Kwarning: \u001b[m\u001b[Kpassing argument 1 of ‘\u001b[01m\u001b[KcudaHostAlloc\u001b[m\u001b[K’ from incompatible pointer type [\u001b[01;35m\u001b[K-Wincompatible-pointer-types\u001b[m\u001b[K]\n",
            "     if (cudaSuccess == cudaHostAlloc(\u001b[01;35m\u001b[K&\u001b[m\u001b[Kl.delta, batch*l.outputs * sizeof(float), cudaHostRegisterMapped)) l.delta_pinned = 1;\n",
            "                                      \u001b[01;35m\u001b[K^\u001b[m\u001b[K\n",
            "In file included from \u001b[01m\u001b[K/usr/local/cuda/include/cuda_runtime.h:96:0\u001b[m\u001b[K,\n",
            "                 from \u001b[01m\u001b[Kinclude/darknet.h:41\u001b[m\u001b[K,\n",
            "                 from \u001b[01m\u001b[K./src/gaussian_yolo_layer.h:5\u001b[m\u001b[K,\n",
            "                 from \u001b[01m\u001b[K./src/gaussian_yolo_layer.c:7\u001b[m\u001b[K:\n",
            "\u001b[01m\u001b[K/usr/local/cuda/include/cuda_runtime_api.h:4811:39:\u001b[m\u001b[K \u001b[01;36m\u001b[Knote: \u001b[m\u001b[Kexpected ‘\u001b[01m\u001b[Kvoid **\u001b[m\u001b[K’ but argument is of type ‘\u001b[01m\u001b[Kfloat **\u001b[m\u001b[K’\n",
            " extern __host__ cudaError_t CUDARTAPI \u001b[01;36m\u001b[KcudaHostAlloc\u001b[m\u001b[K(void **pHost, size_t size, unsigned int flags);\n",
            "                                       \u001b[01;36m\u001b[K^~~~~~~~~~~~~\u001b[m\u001b[K\n",
            "\u001b[01m\u001b[K./src/gaussian_yolo_layer.c:\u001b[m\u001b[K In function ‘\u001b[01m\u001b[Kresize_gaussian_yolo_layer\u001b[m\u001b[K’:\n",
            "\u001b[01m\u001b[K./src/gaussian_yolo_layer.c:111:42:\u001b[m\u001b[K \u001b[01;35m\u001b[Kwarning: \u001b[m\u001b[Kpassing argument 1 of ‘\u001b[01m\u001b[KcudaHostAlloc\u001b[m\u001b[K’ from incompatible pointer type [\u001b[01;35m\u001b[K-Wincompatible-pointer-types\u001b[m\u001b[K]\n",
            "         if (cudaSuccess != cudaHostAlloc(\u001b[01;35m\u001b[K&\u001b[m\u001b[Kl->output, l->batch*l->outputs * sizeof(float), cudaHostRegisterMapped)) {\n",
            "                                          \u001b[01;35m\u001b[K^\u001b[m\u001b[K\n",
            "In file included from \u001b[01m\u001b[K/usr/local/cuda/include/cuda_runtime.h:96:0\u001b[m\u001b[K,\n",
            "                 from \u001b[01m\u001b[Kinclude/darknet.h:41\u001b[m\u001b[K,\n",
            "                 from \u001b[01m\u001b[K./src/gaussian_yolo_layer.h:5\u001b[m\u001b[K,\n",
            "                 from \u001b[01m\u001b[K./src/gaussian_yolo_layer.c:7\u001b[m\u001b[K:\n",
            "\u001b[01m\u001b[K/usr/local/cuda/include/cuda_runtime_api.h:4811:39:\u001b[m\u001b[K \u001b[01;36m\u001b[Knote: \u001b[m\u001b[Kexpected ‘\u001b[01m\u001b[Kvoid **\u001b[m\u001b[K’ but argument is of type ‘\u001b[01m\u001b[Kfloat **\u001b[m\u001b[K’\n",
            " extern __host__ cudaError_t CUDARTAPI \u001b[01;36m\u001b[KcudaHostAlloc\u001b[m\u001b[K(void **pHost, size_t size, unsigned int flags);\n",
            "                                       \u001b[01;36m\u001b[K^~~~~~~~~~~~~\u001b[m\u001b[K\n",
            "\u001b[01m\u001b[K./src/gaussian_yolo_layer.c:120:42:\u001b[m\u001b[K \u001b[01;35m\u001b[Kwarning: \u001b[m\u001b[Kpassing argument 1 of ‘\u001b[01m\u001b[KcudaHostAlloc\u001b[m\u001b[K’ from incompatible pointer type [\u001b[01;35m\u001b[K-Wincompatible-pointer-types\u001b[m\u001b[K]\n",
            "         if (cudaSuccess != cudaHostAlloc(\u001b[01;35m\u001b[K&\u001b[m\u001b[Kl->delta, l->batch*l->outputs * sizeof(float), cudaHostRegisterMapped)) {\n",
            "                                          \u001b[01;35m\u001b[K^\u001b[m\u001b[K\n",
            "In file included from \u001b[01m\u001b[K/usr/local/cuda/include/cuda_runtime.h:96:0\u001b[m\u001b[K,\n",
            "                 from \u001b[01m\u001b[Kinclude/darknet.h:41\u001b[m\u001b[K,\n",
            "                 from \u001b[01m\u001b[K./src/gaussian_yolo_layer.h:5\u001b[m\u001b[K,\n",
            "                 from \u001b[01m\u001b[K./src/gaussian_yolo_layer.c:7\u001b[m\u001b[K:\n",
            "\u001b[01m\u001b[K/usr/local/cuda/include/cuda_runtime_api.h:4811:39:\u001b[m\u001b[K \u001b[01;36m\u001b[Knote: \u001b[m\u001b[Kexpected ‘\u001b[01m\u001b[Kvoid **\u001b[m\u001b[K’ but argument is of type ‘\u001b[01m\u001b[Kfloat **\u001b[m\u001b[K’\n",
            " extern __host__ cudaError_t CUDARTAPI \u001b[01;36m\u001b[KcudaHostAlloc\u001b[m\u001b[K(void **pHost, size_t size, unsigned int flags);\n",
            "                                       \u001b[01;36m\u001b[K^~~~~~~~~~~~~\u001b[m\u001b[K\n",
            "gcc -Iinclude/ -I3rdparty/stb/include -DOPENCV `pkg-config --cflags opencv4 2> /dev/null || pkg-config --cflags opencv` -DGPU -I/usr/local/cuda/include/ -DCUDNN -DCUDNN_HALF -Wall -Wfatal-errors -Wno-unused-result -Wno-unknown-pragmas -fPIC -Ofast -DOPENCV -DGPU -DCUDNN -I/usr/local/cudnn/include -DCUDNN_HALF -fPIC -c ./src/upsample_layer.c -o obj/upsample_layer.o\n",
            "gcc -Iinclude/ -I3rdparty/stb/include -DOPENCV `pkg-config --cflags opencv4 2> /dev/null || pkg-config --cflags opencv` -DGPU -I/usr/local/cuda/include/ -DCUDNN -DCUDNN_HALF -Wall -Wfatal-errors -Wno-unused-result -Wno-unknown-pragmas -fPIC -Ofast -DOPENCV -DGPU -DCUDNN -I/usr/local/cudnn/include -DCUDNN_HALF -fPIC -c ./src/lstm_layer.c -o obj/lstm_layer.o\n",
            "gcc -Iinclude/ -I3rdparty/stb/include -DOPENCV `pkg-config --cflags opencv4 2> /dev/null || pkg-config --cflags opencv` -DGPU -I/usr/local/cuda/include/ -DCUDNN -DCUDNN_HALF -Wall -Wfatal-errors -Wno-unused-result -Wno-unknown-pragmas -fPIC -Ofast -DOPENCV -DGPU -DCUDNN -I/usr/local/cudnn/include -DCUDNN_HALF -fPIC -c ./src/conv_lstm_layer.c -o obj/conv_lstm_layer.o\n",
            "gcc -Iinclude/ -I3rdparty/stb/include -DOPENCV `pkg-config --cflags opencv4 2> /dev/null || pkg-config --cflags opencv` -DGPU -I/usr/local/cuda/include/ -DCUDNN -DCUDNN_HALF -Wall -Wfatal-errors -Wno-unused-result -Wno-unknown-pragmas -fPIC -Ofast -DOPENCV -DGPU -DCUDNN -I/usr/local/cudnn/include -DCUDNN_HALF -fPIC -c ./src/scale_channels_layer.c -o obj/scale_channels_layer.o\n",
            "gcc -Iinclude/ -I3rdparty/stb/include -DOPENCV `pkg-config --cflags opencv4 2> /dev/null || pkg-config --cflags opencv` -DGPU -I/usr/local/cuda/include/ -DCUDNN -DCUDNN_HALF -Wall -Wfatal-errors -Wno-unused-result -Wno-unknown-pragmas -fPIC -Ofast -DOPENCV -DGPU -DCUDNN -I/usr/local/cudnn/include -DCUDNN_HALF -fPIC -c ./src/sam_layer.c -o obj/sam_layer.o\n",
            "nvcc -gencode arch=compute_35,code=sm_35 -gencode arch=compute_50,code=[sm_50,compute_50] -gencode arch=compute_52,code=[sm_52,compute_52] -gencode arch=compute_61,code=[sm_61,compute_61] -gencode arch=compute_70,code=[sm_70,compute_70] -Iinclude/ -I3rdparty/stb/include -DOPENCV `pkg-config --cflags opencv4 2> /dev/null || pkg-config --cflags opencv` -DGPU -I/usr/local/cuda/include/ -DCUDNN -DCUDNN_HALF --compiler-options \"-Wall -Wfatal-errors -Wno-unused-result -Wno-unknown-pragmas -fPIC -Ofast -DOPENCV -DGPU -DCUDNN -I/usr/local/cudnn/include -DCUDNN_HALF -fPIC\" -c ./src/convolutional_kernels.cu -o obj/convolutional_kernels.o\n",
            "nvcc warning : The 'compute_35', 'compute_37', 'compute_50', 'sm_35', 'sm_37' and 'sm_50' architectures are deprecated, and may be removed in a future release (Use -Wno-deprecated-gpu-targets to suppress warning).\n",
            "nvcc -gencode arch=compute_35,code=sm_35 -gencode arch=compute_50,code=[sm_50,compute_50] -gencode arch=compute_52,code=[sm_52,compute_52] -gencode arch=compute_61,code=[sm_61,compute_61] -gencode arch=compute_70,code=[sm_70,compute_70] -Iinclude/ -I3rdparty/stb/include -DOPENCV `pkg-config --cflags opencv4 2> /dev/null || pkg-config --cflags opencv` -DGPU -I/usr/local/cuda/include/ -DCUDNN -DCUDNN_HALF --compiler-options \"-Wall -Wfatal-errors -Wno-unused-result -Wno-unknown-pragmas -fPIC -Ofast -DOPENCV -DGPU -DCUDNN -I/usr/local/cudnn/include -DCUDNN_HALF -fPIC\" -c ./src/activation_kernels.cu -o obj/activation_kernels.o\n",
            "nvcc warning : The 'compute_35', 'compute_37', 'compute_50', 'sm_35', 'sm_37' and 'sm_50' architectures are deprecated, and may be removed in a future release (Use -Wno-deprecated-gpu-targets to suppress warning).\n",
            "./src/activation_kernels.cu(263): warning: variable \"MISH_THRESHOLD\" was declared but never referenced\n",
            "\n",
            "./src/activation_kernels.cu(263): warning: variable \"MISH_THRESHOLD\" was declared but never referenced\n",
            "\n",
            "./src/activation_kernels.cu(263): warning: variable \"MISH_THRESHOLD\" was declared but never referenced\n",
            "\n",
            "./src/activation_kernels.cu(263): warning: variable \"MISH_THRESHOLD\" was declared but never referenced\n",
            "\n",
            "./src/activation_kernels.cu(263): warning: variable \"MISH_THRESHOLD\" was declared but never referenced\n",
            "\n",
            "nvcc -gencode arch=compute_35,code=sm_35 -gencode arch=compute_50,code=[sm_50,compute_50] -gencode arch=compute_52,code=[sm_52,compute_52] -gencode arch=compute_61,code=[sm_61,compute_61] -gencode arch=compute_70,code=[sm_70,compute_70] -Iinclude/ -I3rdparty/stb/include -DOPENCV `pkg-config --cflags opencv4 2> /dev/null || pkg-config --cflags opencv` -DGPU -I/usr/local/cuda/include/ -DCUDNN -DCUDNN_HALF --compiler-options \"-Wall -Wfatal-errors -Wno-unused-result -Wno-unknown-pragmas -fPIC -Ofast -DOPENCV -DGPU -DCUDNN -I/usr/local/cudnn/include -DCUDNN_HALF -fPIC\" -c ./src/im2col_kernels.cu -o obj/im2col_kernels.o\n",
            "nvcc warning : The 'compute_35', 'compute_37', 'compute_50', 'sm_35', 'sm_37' and 'sm_50' architectures are deprecated, and may be removed in a future release (Use -Wno-deprecated-gpu-targets to suppress warning).\n",
            "./src/im2col_kernels.cu(1354): warning: unrecognized #pragma in device code\n",
            "\n",
            "./src/im2col_kernels.cu(1361): warning: unrecognized #pragma in device code\n",
            "\n",
            "./src/im2col_kernels.cu(1364): warning: unrecognized #pragma in device code\n",
            "\n",
            "./src/im2col_kernels.cu(1389): warning: unrecognized #pragma in device code\n",
            "\n",
            "./src/im2col_kernels.cu(1354): warning: unrecognized #pragma in device code\n",
            "\n",
            "./src/im2col_kernels.cu(1361): warning: unrecognized #pragma in device code\n",
            "\n",
            "./src/im2col_kernels.cu(1364): warning: unrecognized #pragma in device code\n",
            "\n",
            "./src/im2col_kernels.cu(1389): warning: unrecognized #pragma in device code\n",
            "\n",
            "./src/im2col_kernels.cu(1354): warning: unrecognized #pragma in device code\n",
            "\n",
            "./src/im2col_kernels.cu(1361): warning: unrecognized #pragma in device code\n",
            "\n",
            "./src/im2col_kernels.cu(1364): warning: unrecognized #pragma in device code\n",
            "\n",
            "./src/im2col_kernels.cu(1389): warning: unrecognized #pragma in device code\n",
            "\n",
            "./src/im2col_kernels.cu(1354): warning: unrecognized #pragma in device code\n",
            "\n",
            "./src/im2col_kernels.cu(1361): warning: unrecognized #pragma in device code\n",
            "\n",
            "./src/im2col_kernels.cu(1364): warning: unrecognized #pragma in device code\n",
            "\n",
            "./src/im2col_kernels.cu(1389): warning: unrecognized #pragma in device code\n",
            "\n",
            "./src/im2col_kernels.cu(1354): warning: unrecognized #pragma in device code\n",
            "\n",
            "./src/im2col_kernels.cu(1361): warning: unrecognized #pragma in device code\n",
            "\n",
            "./src/im2col_kernels.cu(1364): warning: unrecognized #pragma in device code\n",
            "\n",
            "./src/im2col_kernels.cu(1389): warning: unrecognized #pragma in device code\n",
            "\n",
            "nvcc -gencode arch=compute_35,code=sm_35 -gencode arch=compute_50,code=[sm_50,compute_50] -gencode arch=compute_52,code=[sm_52,compute_52] -gencode arch=compute_61,code=[sm_61,compute_61] -gencode arch=compute_70,code=[sm_70,compute_70] -Iinclude/ -I3rdparty/stb/include -DOPENCV `pkg-config --cflags opencv4 2> /dev/null || pkg-config --cflags opencv` -DGPU -I/usr/local/cuda/include/ -DCUDNN -DCUDNN_HALF --compiler-options \"-Wall -Wfatal-errors -Wno-unused-result -Wno-unknown-pragmas -fPIC -Ofast -DOPENCV -DGPU -DCUDNN -I/usr/local/cudnn/include -DCUDNN_HALF -fPIC\" -c ./src/col2im_kernels.cu -o obj/col2im_kernels.o\n",
            "nvcc warning : The 'compute_35', 'compute_37', 'compute_50', 'sm_35', 'sm_37' and 'sm_50' architectures are deprecated, and may be removed in a future release (Use -Wno-deprecated-gpu-targets to suppress warning).\n",
            "nvcc -gencode arch=compute_35,code=sm_35 -gencode arch=compute_50,code=[sm_50,compute_50] -gencode arch=compute_52,code=[sm_52,compute_52] -gencode arch=compute_61,code=[sm_61,compute_61] -gencode arch=compute_70,code=[sm_70,compute_70] -Iinclude/ -I3rdparty/stb/include -DOPENCV `pkg-config --cflags opencv4 2> /dev/null || pkg-config --cflags opencv` -DGPU -I/usr/local/cuda/include/ -DCUDNN -DCUDNN_HALF --compiler-options \"-Wall -Wfatal-errors -Wno-unused-result -Wno-unknown-pragmas -fPIC -Ofast -DOPENCV -DGPU -DCUDNN -I/usr/local/cudnn/include -DCUDNN_HALF -fPIC\" -c ./src/blas_kernels.cu -o obj/blas_kernels.o\n",
            "nvcc warning : The 'compute_35', 'compute_37', 'compute_50', 'sm_35', 'sm_37' and 'sm_50' architectures are deprecated, and may be removed in a future release (Use -Wno-deprecated-gpu-targets to suppress warning).\n",
            "./src/blas_kernels.cu(1086): warning: variable \"out_index\" was declared but never referenced\n",
            "\n",
            "./src/blas_kernels.cu(1130): warning: variable \"step\" was set but never used\n",
            "\n",
            "./src/blas_kernels.cu(1736): warning: variable \"stage_id\" was declared but never referenced\n",
            "\n",
            "./src/blas_kernels.cu(1086): warning: variable \"out_index\" was declared but never referenced\n",
            "\n",
            "./src/blas_kernels.cu(1130): warning: variable \"step\" was set but never used\n",
            "\n",
            "./src/blas_kernels.cu(1736): warning: variable \"stage_id\" was declared but never referenced\n",
            "\n",
            "./src/blas_kernels.cu(1086): warning: variable \"out_index\" was declared but never referenced\n",
            "\n",
            "./src/blas_kernels.cu(1130): warning: variable \"step\" was set but never used\n",
            "\n",
            "./src/blas_kernels.cu(1736): warning: variable \"stage_id\" was declared but never referenced\n",
            "\n",
            "./src/blas_kernels.cu(1086): warning: variable \"out_index\" was declared but never referenced\n",
            "\n",
            "./src/blas_kernels.cu(1130): warning: variable \"step\" was set but never used\n",
            "\n",
            "./src/blas_kernels.cu(1736): warning: variable \"stage_id\" was declared but never referenced\n",
            "\n",
            "./src/blas_kernels.cu(1086): warning: variable \"out_index\" was declared but never referenced\n",
            "\n",
            "./src/blas_kernels.cu(1130): warning: variable \"step\" was set but never used\n",
            "\n",
            "./src/blas_kernels.cu(1736): warning: variable \"stage_id\" was declared but never referenced\n",
            "\n",
            "\u001b[01m\u001b[K./src/blas_kernels.cu:\u001b[m\u001b[K In function ‘\u001b[01m\u001b[Kvoid backward_shortcut_multilayer_gpu(int, int, int, int*, float**, float*, float*, float*, float*, int, float*, float**, WEIGHTS_NORMALIZATION_T)\u001b[m\u001b[K’:\n",
            "\u001b[01m\u001b[K./src/blas_kernels.cu:1130:5:\u001b[m\u001b[K \u001b[01;35m\u001b[Kwarning: \u001b[m\u001b[Kvariable ‘\u001b[01m\u001b[Kstep\u001b[m\u001b[K’ set but not used [\u001b[01;35m\u001b[K-Wunused-but-set-variable\u001b[m\u001b[K]\n",
            "     \u001b[01;35m\u001b[Kint \u001b[m\u001b[Kstep = 0;\n",
            "     \u001b[01;35m\u001b[K^~~~\u001b[m\u001b[K\n",
            "nvcc -gencode arch=compute_35,code=sm_35 -gencode arch=compute_50,code=[sm_50,compute_50] -gencode arch=compute_52,code=[sm_52,compute_52] -gencode arch=compute_61,code=[sm_61,compute_61] -gencode arch=compute_70,code=[sm_70,compute_70] -Iinclude/ -I3rdparty/stb/include -DOPENCV `pkg-config --cflags opencv4 2> /dev/null || pkg-config --cflags opencv` -DGPU -I/usr/local/cuda/include/ -DCUDNN -DCUDNN_HALF --compiler-options \"-Wall -Wfatal-errors -Wno-unused-result -Wno-unknown-pragmas -fPIC -Ofast -DOPENCV -DGPU -DCUDNN -I/usr/local/cudnn/include -DCUDNN_HALF -fPIC\" -c ./src/crop_layer_kernels.cu -o obj/crop_layer_kernels.o\n",
            "nvcc warning : The 'compute_35', 'compute_37', 'compute_50', 'sm_35', 'sm_37' and 'sm_50' architectures are deprecated, and may be removed in a future release (Use -Wno-deprecated-gpu-targets to suppress warning).\n",
            "nvcc -gencode arch=compute_35,code=sm_35 -gencode arch=compute_50,code=[sm_50,compute_50] -gencode arch=compute_52,code=[sm_52,compute_52] -gencode arch=compute_61,code=[sm_61,compute_61] -gencode arch=compute_70,code=[sm_70,compute_70] -Iinclude/ -I3rdparty/stb/include -DOPENCV `pkg-config --cflags opencv4 2> /dev/null || pkg-config --cflags opencv` -DGPU -I/usr/local/cuda/include/ -DCUDNN -DCUDNN_HALF --compiler-options \"-Wall -Wfatal-errors -Wno-unused-result -Wno-unknown-pragmas -fPIC -Ofast -DOPENCV -DGPU -DCUDNN -I/usr/local/cudnn/include -DCUDNN_HALF -fPIC\" -c ./src/dropout_layer_kernels.cu -o obj/dropout_layer_kernels.o\n",
            "nvcc warning : The 'compute_35', 'compute_37', 'compute_50', 'sm_35', 'sm_37' and 'sm_50' architectures are deprecated, and may be removed in a future release (Use -Wno-deprecated-gpu-targets to suppress warning).\n",
            "nvcc -gencode arch=compute_35,code=sm_35 -gencode arch=compute_50,code=[sm_50,compute_50] -gencode arch=compute_52,code=[sm_52,compute_52] -gencode arch=compute_61,code=[sm_61,compute_61] -gencode arch=compute_70,code=[sm_70,compute_70] -Iinclude/ -I3rdparty/stb/include -DOPENCV `pkg-config --cflags opencv4 2> /dev/null || pkg-config --cflags opencv` -DGPU -I/usr/local/cuda/include/ -DCUDNN -DCUDNN_HALF --compiler-options \"-Wall -Wfatal-errors -Wno-unused-result -Wno-unknown-pragmas -fPIC -Ofast -DOPENCV -DGPU -DCUDNN -I/usr/local/cudnn/include -DCUDNN_HALF -fPIC\" -c ./src/maxpool_layer_kernels.cu -o obj/maxpool_layer_kernels.o\n",
            "nvcc warning : The 'compute_35', 'compute_37', 'compute_50', 'sm_35', 'sm_37' and 'sm_50' architectures are deprecated, and may be removed in a future release (Use -Wno-deprecated-gpu-targets to suppress warning).\n",
            "nvcc -gencode arch=compute_35,code=sm_35 -gencode arch=compute_50,code=[sm_50,compute_50] -gencode arch=compute_52,code=[sm_52,compute_52] -gencode arch=compute_61,code=[sm_61,compute_61] -gencode arch=compute_70,code=[sm_70,compute_70] -Iinclude/ -I3rdparty/stb/include -DOPENCV `pkg-config --cflags opencv4 2> /dev/null || pkg-config --cflags opencv` -DGPU -I/usr/local/cuda/include/ -DCUDNN -DCUDNN_HALF --compiler-options \"-Wall -Wfatal-errors -Wno-unused-result -Wno-unknown-pragmas -fPIC -Ofast -DOPENCV -DGPU -DCUDNN -I/usr/local/cudnn/include -DCUDNN_HALF -fPIC\" -c ./src/network_kernels.cu -o obj/network_kernels.o\n",
            "nvcc warning : The 'compute_35', 'compute_37', 'compute_50', 'sm_35', 'sm_37' and 'sm_50' architectures are deprecated, and may be removed in a future release (Use -Wno-deprecated-gpu-targets to suppress warning).\n",
            "./src/network_kernels.cu(379): warning: variable \"l\" was declared but never referenced\n",
            "\n",
            "./src/network_kernels.cu(379): warning: variable \"l\" was declared but never referenced\n",
            "\n",
            "./src/network_kernels.cu(379): warning: variable \"l\" was declared but never referenced\n",
            "\n",
            "./src/network_kernels.cu(379): warning: variable \"l\" was declared but never referenced\n",
            "\n",
            "./src/network_kernels.cu(379): warning: variable \"l\" was declared but never referenced\n",
            "\n",
            "\u001b[01m\u001b[K./src/network_kernels.cu:\u001b[m\u001b[K In function ‘\u001b[01m\u001b[Kfloat train_network_datum_gpu(network, float*, float*)\u001b[m\u001b[K’:\n",
            "\u001b[01m\u001b[K./src/network_kernels.cu:379:7:\u001b[m\u001b[K \u001b[01;35m\u001b[Kwarning: \u001b[m\u001b[Kvariable ‘\u001b[01m\u001b[Kl\u001b[m\u001b[K’ set but not used [\u001b[01;35m\u001b[K-Wunused-but-set-variable\u001b[m\u001b[K]\n",
            "       \u001b[01;35m\u001b[K \u001b[m\u001b[K layer l = net.layers[net.n - 1];\n",
            "       \u001b[01;35m\u001b[K^\u001b[m\u001b[K\n",
            "nvcc -gencode arch=compute_35,code=sm_35 -gencode arch=compute_50,code=[sm_50,compute_50] -gencode arch=compute_52,code=[sm_52,compute_52] -gencode arch=compute_61,code=[sm_61,compute_61] -gencode arch=compute_70,code=[sm_70,compute_70] -Iinclude/ -I3rdparty/stb/include -DOPENCV `pkg-config --cflags opencv4 2> /dev/null || pkg-config --cflags opencv` -DGPU -I/usr/local/cuda/include/ -DCUDNN -DCUDNN_HALF --compiler-options \"-Wall -Wfatal-errors -Wno-unused-result -Wno-unknown-pragmas -fPIC -Ofast -DOPENCV -DGPU -DCUDNN -I/usr/local/cudnn/include -DCUDNN_HALF -fPIC\" -c ./src/avgpool_layer_kernels.cu -o obj/avgpool_layer_kernels.o\n",
            "nvcc warning : The 'compute_35', 'compute_37', 'compute_50', 'sm_35', 'sm_37' and 'sm_50' architectures are deprecated, and may be removed in a future release (Use -Wno-deprecated-gpu-targets to suppress warning).\n",
            "g++ -std=c++11 -std=c++11 -Iinclude/ -I3rdparty/stb/include -DOPENCV `pkg-config --cflags opencv4 2> /dev/null || pkg-config --cflags opencv` -DGPU -I/usr/local/cuda/include/ -DCUDNN -DCUDNN_HALF -Wall -Wfatal-errors -Wno-unused-result -Wno-unknown-pragmas -fPIC -Ofast -DOPENCV -DGPU -DCUDNN -I/usr/local/cudnn/include -DCUDNN_HALF -fPIC obj/image_opencv.o obj/http_stream.o obj/gemm.o obj/utils.o obj/dark_cuda.o obj/convolutional_layer.o obj/list.o obj/image.o obj/activations.o obj/im2col.o obj/col2im.o obj/blas.o obj/crop_layer.o obj/dropout_layer.o obj/maxpool_layer.o obj/softmax_layer.o obj/data.o obj/matrix.o obj/network.o obj/connected_layer.o obj/cost_layer.o obj/parser.o obj/option_list.o obj/darknet.o obj/detection_layer.o obj/captcha.o obj/route_layer.o obj/writing.o obj/box.o obj/nightmare.o obj/normalization_layer.o obj/avgpool_layer.o obj/coco.o obj/dice.o obj/yolo.o obj/detector.o obj/layer.o obj/compare.o obj/classifier.o obj/local_layer.o obj/swag.o obj/shortcut_layer.o obj/representation_layer.o obj/activation_layer.o obj/rnn_layer.o obj/gru_layer.o obj/rnn.o obj/rnn_vid.o obj/crnn_layer.o obj/demo.o obj/tag.o obj/cifar.o obj/go.o obj/batchnorm_layer.o obj/art.o obj/region_layer.o obj/reorg_layer.o obj/reorg_old_layer.o obj/super.o obj/voxel.o obj/tree.o obj/yolo_layer.o obj/gaussian_yolo_layer.o obj/upsample_layer.o obj/lstm_layer.o obj/conv_lstm_layer.o obj/scale_channels_layer.o obj/sam_layer.o obj/convolutional_kernels.o obj/activation_kernels.o obj/im2col_kernels.o obj/col2im_kernels.o obj/blas_kernels.o obj/crop_layer_kernels.o obj/dropout_layer_kernels.o obj/maxpool_layer_kernels.o obj/network_kernels.o obj/avgpool_layer_kernels.o -o darknet -lm -pthread `pkg-config --libs opencv4 2> /dev/null || pkg-config --libs opencv` -L/usr/local/cuda/lib64 -lcuda -lcudart -lcublas -lcurand -L/usr/local/cudnn/lib64 -lcudnn -lstdc++\n",
            "g++ -std=c++11 -shared -std=c++11 -fvisibility=hidden -DLIB_EXPORTS -Iinclude/ -I3rdparty/stb/include -DOPENCV `pkg-config --cflags opencv4 2> /dev/null || pkg-config --cflags opencv` -DGPU -I/usr/local/cuda/include/ -DCUDNN -DCUDNN_HALF -Wall -Wfatal-errors -Wno-unused-result -Wno-unknown-pragmas -fPIC -Ofast -DOPENCV -DGPU -DCUDNN -I/usr/local/cudnn/include -DCUDNN_HALF -fPIC ./obj/image_opencv.o ./obj/http_stream.o ./obj/gemm.o ./obj/utils.o ./obj/dark_cuda.o ./obj/convolutional_layer.o ./obj/list.o ./obj/image.o ./obj/activations.o ./obj/im2col.o ./obj/col2im.o ./obj/blas.o ./obj/crop_layer.o ./obj/dropout_layer.o ./obj/maxpool_layer.o ./obj/softmax_layer.o ./obj/data.o ./obj/matrix.o ./obj/network.o ./obj/connected_layer.o ./obj/cost_layer.o ./obj/parser.o ./obj/option_list.o ./obj/darknet.o ./obj/detection_layer.o ./obj/captcha.o ./obj/route_layer.o ./obj/writing.o ./obj/box.o ./obj/nightmare.o ./obj/normalization_layer.o ./obj/avgpool_layer.o ./obj/coco.o ./obj/dice.o ./obj/yolo.o ./obj/detector.o ./obj/layer.o ./obj/compare.o ./obj/classifier.o ./obj/local_layer.o ./obj/swag.o ./obj/shortcut_layer.o ./obj/representation_layer.o ./obj/activation_layer.o ./obj/rnn_layer.o ./obj/gru_layer.o ./obj/rnn.o ./obj/rnn_vid.o ./obj/crnn_layer.o ./obj/demo.o ./obj/tag.o ./obj/cifar.o ./obj/go.o ./obj/batchnorm_layer.o ./obj/art.o ./obj/region_layer.o ./obj/reorg_layer.o ./obj/reorg_old_layer.o ./obj/super.o ./obj/voxel.o ./obj/tree.o ./obj/yolo_layer.o ./obj/gaussian_yolo_layer.o ./obj/upsample_layer.o ./obj/lstm_layer.o ./obj/conv_lstm_layer.o ./obj/scale_channels_layer.o ./obj/sam_layer.o ./obj/convolutional_kernels.o ./obj/activation_kernels.o ./obj/im2col_kernels.o ./obj/col2im_kernels.o ./obj/blas_kernels.o ./obj/crop_layer_kernels.o ./obj/dropout_layer_kernels.o ./obj/maxpool_layer_kernels.o ./obj/network_kernels.o ./obj/avgpool_layer_kernels.o src/yolo_v2_class.cpp -o libdarknet.so -lm -pthread `pkg-config --libs opencv4 2> /dev/null || pkg-config --libs opencv` -L/usr/local/cuda/lib64 -lcuda -lcudart -lcublas -lcurand -L/usr/local/cudnn/lib64 -lcudnn -lstdc++\n",
            "In file included from \u001b[01m\u001b[Ksrc/yolo_v2_class.cpp:2:0\u001b[m\u001b[K:\n",
            "\u001b[01m\u001b[Kinclude/yolo_v2_class.hpp:\u001b[m\u001b[K In member function ‘\u001b[01m\u001b[Kvoid track_kalman_t::clear_old_states()\u001b[m\u001b[K’:\n",
            "\u001b[01m\u001b[Kinclude/yolo_v2_class.hpp:879:50:\u001b[m\u001b[K \u001b[01;35m\u001b[Kwarning: \u001b[m\u001b[Kcomparison between signed and unsigned integer expressions [\u001b[01;35m\u001b[K-Wsign-compare\u001b[m\u001b[K]\n",
            "                 if ((result_vec_pred[state_id].x > img_size.width) ||\n",
            "\u001b[01m\u001b[Kinclude/yolo_v2_class.hpp:880:50:\u001b[m\u001b[K \u001b[01;35m\u001b[Kwarning: \u001b[m\u001b[Kcomparison between signed and unsigned integer expressions [\u001b[01;35m\u001b[K-Wsign-compare\u001b[m\u001b[K]\n",
            "                     (result_vec_pred[state_id].y > img_size.height))\n",
            "\u001b[01m\u001b[Kinclude/yolo_v2_class.hpp:\u001b[m\u001b[K In member function ‘\u001b[01m\u001b[Ktrack_kalman_t::tst_t track_kalman_t::get_state_id(bbox_t, std::vector<bool>&)\u001b[m\u001b[K’:\n",
            "\u001b[01m\u001b[Kinclude/yolo_v2_class.hpp:900:30:\u001b[m\u001b[K \u001b[01;35m\u001b[Kwarning: \u001b[m\u001b[Kcomparison between signed and unsigned integer expressions [\u001b[01;35m\u001b[K-Wsign-compare\u001b[m\u001b[K]\n",
            "         for (size_t i = 0; \u001b[01;35m\u001b[Ki < max_objects\u001b[m\u001b[K; ++i)\n",
            "                            \u001b[01;35m\u001b[K~~^~~~~~~~~~~~~\u001b[m\u001b[K\n",
            "\u001b[01m\u001b[Kinclude/yolo_v2_class.hpp:\u001b[m\u001b[K In member function ‘\u001b[01m\u001b[Kstd::vector<bbox_t> track_kalman_t::predict()\u001b[m\u001b[K’:\n",
            "\u001b[01m\u001b[Kinclude/yolo_v2_class.hpp:990:30:\u001b[m\u001b[K \u001b[01;35m\u001b[Kwarning: \u001b[m\u001b[Kcomparison between signed and unsigned integer expressions [\u001b[01;35m\u001b[K-Wsign-compare\u001b[m\u001b[K]\n",
            "         for (size_t i = 0; \u001b[01;35m\u001b[Ki < max_objects\u001b[m\u001b[K; ++i)\n",
            "                            \u001b[01;35m\u001b[K~~^~~~~~~~~~~~~\u001b[m\u001b[K\n",
            "\u001b[01m\u001b[Kinclude/yolo_v2_class.hpp:\u001b[m\u001b[K In member function ‘\u001b[01m\u001b[Kstd::vector<bbox_t> track_kalman_t::correct(std::vector<bbox_t>)\u001b[m\u001b[K’:\n",
            "\u001b[01m\u001b[Kinclude/yolo_v2_class.hpp:1025:30:\u001b[m\u001b[K \u001b[01;35m\u001b[Kwarning: \u001b[m\u001b[Kcomparison between signed and unsigned integer expressions [\u001b[01;35m\u001b[K-Wsign-compare\u001b[m\u001b[K]\n",
            "         for (size_t i = 0; \u001b[01;35m\u001b[Ki < max_objects\u001b[m\u001b[K; ++i)\n",
            "                            \u001b[01;35m\u001b[K~~^~~~~~~~~~~~~\u001b[m\u001b[K\n",
            "\u001b[01m\u001b[Ksrc/yolo_v2_class.cpp:\u001b[m\u001b[K In member function ‘\u001b[01m\u001b[Kstd::vector<bbox_t> Detector::tracking_id(std::vector<bbox_t>, bool, int, int)\u001b[m\u001b[K’:\n",
            "\u001b[01m\u001b[Ksrc/yolo_v2_class.cpp:439:40:\u001b[m\u001b[K \u001b[01;35m\u001b[Kwarning: \u001b[m\u001b[Kcomparison between signed and unsigned integer expressions [\u001b[01;35m\u001b[K-Wsign-compare\u001b[m\u001b[K]\n",
            "         if (\u001b[01;35m\u001b[Kprev_bbox_vec_deque.size() > frames_story\u001b[m\u001b[K) prev_bbox_vec_deque.pop_back();\n",
            "             \u001b[01;35m\u001b[K~~~~~~~~~~~~~~~~~~~~~~~~~~~^~~~~~~~~~~~~~\u001b[m\u001b[K\n",
            "\u001b[01m\u001b[Ksrc/yolo_v2_class.cpp:454:34:\u001b[m\u001b[K \u001b[01;35m\u001b[Kwarning: \u001b[m\u001b[Kcomparison between signed and unsigned integer expressions [\u001b[01;35m\u001b[K-Wsign-compare\u001b[m\u001b[K]\n",
            "                     if (\u001b[01;35m\u001b[Kcur_dist < max_dist\u001b[m\u001b[K && (k.track_id == 0 || dist_vec[m] > cur_dist)) {\n",
            "                         \u001b[01;35m\u001b[K~~~~~~~~~^~~~~~~~~~\u001b[m\u001b[K\n",
            "\u001b[01m\u001b[Ksrc/yolo_v2_class.cpp:478:40:\u001b[m\u001b[K \u001b[01;35m\u001b[Kwarning: \u001b[m\u001b[Kcomparison between signed and unsigned integer expressions [\u001b[01;35m\u001b[K-Wsign-compare\u001b[m\u001b[K]\n",
            "         if (\u001b[01;35m\u001b[Kprev_bbox_vec_deque.size() > frames_story\u001b[m\u001b[K) prev_bbox_vec_deque.pop_back();\n",
            "             \u001b[01;35m\u001b[K~~~~~~~~~~~~~~~~~~~~~~~~~~~^~~~~~~~~~~~~~\u001b[m\u001b[K\n",
            "g++ -std=c++11 -std=c++11 -Iinclude/ -I3rdparty/stb/include -DOPENCV `pkg-config --cflags opencv4 2> /dev/null || pkg-config --cflags opencv` -DGPU -I/usr/local/cuda/include/ -DCUDNN -DCUDNN_HALF -Wall -Wfatal-errors -Wno-unused-result -Wno-unknown-pragmas -fPIC -Ofast -DOPENCV -DGPU -DCUDNN -I/usr/local/cudnn/include -DCUDNN_HALF -fPIC -o uselib src/yolo_console_dll.cpp -lm -pthread `pkg-config --libs opencv4 2> /dev/null || pkg-config --libs opencv` -L/usr/local/cuda/lib64 -lcuda -lcudart -lcublas -lcurand -L/usr/local/cudnn/lib64 -lcudnn -lstdc++ -L ./ -l:libdarknet.so\n",
            "In file included from \u001b[01m\u001b[Ksrc/yolo_console_dll.cpp:23:0\u001b[m\u001b[K:\n",
            "\u001b[01m\u001b[Kinclude/yolo_v2_class.hpp:\u001b[m\u001b[K In member function ‘\u001b[01m\u001b[Kvoid track_kalman_t::clear_old_states()\u001b[m\u001b[K’:\n",
            "\u001b[01m\u001b[Kinclude/yolo_v2_class.hpp:879:50:\u001b[m\u001b[K \u001b[01;35m\u001b[Kwarning: \u001b[m\u001b[Kcomparison between signed and unsigned integer expressions [\u001b[01;35m\u001b[K-Wsign-compare\u001b[m\u001b[K]\n",
            "                 if ((result_vec_pred[state_id].x > img_size.width) ||\n",
            "\u001b[01m\u001b[Kinclude/yolo_v2_class.hpp:880:50:\u001b[m\u001b[K \u001b[01;35m\u001b[Kwarning: \u001b[m\u001b[Kcomparison between signed and unsigned integer expressions [\u001b[01;35m\u001b[K-Wsign-compare\u001b[m\u001b[K]\n",
            "                     (result_vec_pred[state_id].y > img_size.height))\n",
            "\u001b[01m\u001b[Kinclude/yolo_v2_class.hpp:\u001b[m\u001b[K In member function ‘\u001b[01m\u001b[Ktrack_kalman_t::tst_t track_kalman_t::get_state_id(bbox_t, std::vector<bool>&)\u001b[m\u001b[K’:\n",
            "\u001b[01m\u001b[Kinclude/yolo_v2_class.hpp:900:30:\u001b[m\u001b[K \u001b[01;35m\u001b[Kwarning: \u001b[m\u001b[Kcomparison between signed and unsigned integer expressions [\u001b[01;35m\u001b[K-Wsign-compare\u001b[m\u001b[K]\n",
            "         for (size_t i = 0; \u001b[01;35m\u001b[Ki < max_objects\u001b[m\u001b[K; ++i)\n",
            "                            \u001b[01;35m\u001b[K~~^~~~~~~~~~~~~\u001b[m\u001b[K\n",
            "\u001b[01m\u001b[Kinclude/yolo_v2_class.hpp:\u001b[m\u001b[K In member function ‘\u001b[01m\u001b[Kstd::vector<bbox_t> track_kalman_t::predict()\u001b[m\u001b[K’:\n",
            "\u001b[01m\u001b[Kinclude/yolo_v2_class.hpp:990:30:\u001b[m\u001b[K \u001b[01;35m\u001b[Kwarning: \u001b[m\u001b[Kcomparison between signed and unsigned integer expressions [\u001b[01;35m\u001b[K-Wsign-compare\u001b[m\u001b[K]\n",
            "         for (size_t i = 0; \u001b[01;35m\u001b[Ki < max_objects\u001b[m\u001b[K; ++i)\n",
            "                            \u001b[01;35m\u001b[K~~^~~~~~~~~~~~~\u001b[m\u001b[K\n",
            "\u001b[01m\u001b[Kinclude/yolo_v2_class.hpp:\u001b[m\u001b[K In member function ‘\u001b[01m\u001b[Kstd::vector<bbox_t> track_kalman_t::correct(std::vector<bbox_t>)\u001b[m\u001b[K’:\n",
            "\u001b[01m\u001b[Kinclude/yolo_v2_class.hpp:1025:30:\u001b[m\u001b[K \u001b[01;35m\u001b[Kwarning: \u001b[m\u001b[Kcomparison between signed and unsigned integer expressions [\u001b[01;35m\u001b[K-Wsign-compare\u001b[m\u001b[K]\n",
            "         for (size_t i = 0; \u001b[01;35m\u001b[Ki < max_objects\u001b[m\u001b[K; ++i)\n",
            "                            \u001b[01;35m\u001b[K~~^~~~~~~~~~~~~\u001b[m\u001b[K\n",
            "\u001b[01m\u001b[Ksrc/yolo_console_dll.cpp:\u001b[m\u001b[K In function ‘\u001b[01m\u001b[Kvoid draw_boxes(cv::Mat, std::vector<bbox_t>, std::vector<std::__cxx11::basic_string<char> >, int, int)\u001b[m\u001b[K’:\n",
            "\u001b[01m\u001b[Ksrc/yolo_console_dll.cpp:192:46:\u001b[m\u001b[K \u001b[01;35m\u001b[Kwarning: \u001b[m\u001b[Kcomparison between signed and unsigned integer expressions [\u001b[01;35m\u001b[K-Wsign-compare\u001b[m\u001b[K]\n",
            "             int max_width = (\u001b[01;35m\u001b[Ktext_size.width > i.w + 2\u001b[m\u001b[K) ? text_size.width : (i.w + 2);\n",
            "                              \u001b[01;35m\u001b[K~~~~~~~~~~~~~~~~^~~~~~~~~\u001b[m\u001b[K\n",
            "\u001b[01m\u001b[Ksrc/yolo_console_dll.cpp:201:62:\u001b[m\u001b[K \u001b[01;35m\u001b[Kwarning: \u001b[m\u001b[Kcomparison between signed and unsigned integer expressions [\u001b[01;35m\u001b[K-Wsign-compare\u001b[m\u001b[K]\n",
            "                 int const max_width_3d = (\u001b[01;35m\u001b[Ktext_size_3d.width > i.w + 2\u001b[m\u001b[K) ? text_size_3d.width : (i.w + 2);\n",
            "                                           \u001b[01;35m\u001b[K~~~~~~~~~~~~~~~~~~~^~~~~~~~~\u001b[m\u001b[K\n",
            "\u001b[01m\u001b[Ksrc/yolo_console_dll.cpp:183:15:\u001b[m\u001b[K \u001b[01;35m\u001b[Kwarning: \u001b[m\u001b[Kunused variable ‘\u001b[01m\u001b[Kcolors\u001b[m\u001b[K’ [\u001b[01;35m\u001b[K-Wunused-variable\u001b[m\u001b[K]\n",
            "     int const \u001b[01;35m\u001b[Kcolors\u001b[m\u001b[K[6][3] = { { 1,0,1 },{ 0,0,1 },{ 0,1,1 },{ 0,1,0 },{ 1,1,0 },{ 1,0,0 } };\n",
            "               \u001b[01;35m\u001b[K^~~~~~\u001b[m\u001b[K\n"
          ]
        }
      ]
    },
    {
      "cell_type": "markdown",
      "source": [
        "12 darknet 적용 하기 \n",
        "\n",
        "- 상위디렉토리로 이동하여 다운받은 다크넷 신경망 setting 하기 \n",
        "\n",
        "- 성공적으로 수행 되었을때 나타나는 메세지\n",
        "\n",
        "/content/drive/My Drive/yolo_custom_model_Training3\n",
        "\n",
        "usage: darknet/darknet <function>  "
      ],
      "metadata": {
        "id": "22yVv3oL16qr"
      }
    },
    {
      "cell_type": "code",
      "source": [
        "%cd ..\n",
        "!darknet/darknet"
      ],
      "metadata": {
        "colab": {
          "base_uri": "https://localhost:8080/"
        },
        "id": "VPW3MlwE2Ba1",
        "outputId": "6b570954-aaf6-43fa-b67a-ab6b0259dfa1"
      },
      "execution_count": null,
      "outputs": [
        {
          "output_type": "stream",
          "name": "stdout",
          "text": [
            "/content/drive/MyDrive/yolo_custom_model_Training3\n",
            "usage: darknet/darknet <function>\n"
          ]
        }
      ]
    },
    {
      "cell_type": "markdown",
      "source": [
        "13. 사물검출에 필요한 코드 다운받기 (github) 주소 \n",
        "\n",
        "- 오브젝터 디텍션에 필요한 파이썬 코드 4개이다. "
      ],
      "metadata": {
        "id": "K6X9Q6sz2Lvi"
      }
    },
    {
      "cell_type": "code",
      "source": [
        "!git clone 'https://github.com/jakkcoder/training_yolo_custom_object_detection_files' '/content/drive/MyDrive/yolo_custom_model_Training3/training_yolo_custom_object_detection_files-main'"
      ],
      "metadata": {
        "colab": {
          "base_uri": "https://localhost:8080/"
        },
        "id": "V-etopK02SY8",
        "outputId": "bdc6243b-6e9e-4eac-c50d-ef019b2a855f"
      },
      "execution_count": null,
      "outputs": [
        {
          "output_type": "stream",
          "name": "stdout",
          "text": [
            "Cloning into '/content/drive/MyDrive/yolo_custom_model_Training3/training_yolo_custom_object_detection_files-main'...\n",
            "remote: Enumerating objects: 10, done.\u001b[K\n",
            "remote: Counting objects: 100% (10/10), done.\u001b[K\n",
            "remote: Compressing objects: 100% (10/10), done.\u001b[K\n",
            "remote: Total 10 (delta 2), reused 0 (delta 0), pack-reused 0\u001b[K\n",
            "Unpacking objects: 100% (10/10), done.\n"
          ]
        }
      ]
    },
    {
      "cell_type": "markdown",
      "source": [
        "14. 코드를 다운 받은 경로로 이동하기 "
      ],
      "metadata": {
        "id": "gvO2lnoL2V0t"
      }
    },
    {
      "cell_type": "code",
      "source": [
        "%cd /content/drive/MyDrive/yolo_custom_model_Training3/training_yolo_custom_object_detection_files-main"
      ],
      "metadata": {
        "colab": {
          "base_uri": "https://localhost:8080/"
        },
        "id": "LNsFiHQ02X9Q",
        "outputId": "30c38aa8-4a5a-4803-cba1-17cdf6a960f6"
      },
      "execution_count": null,
      "outputs": [
        {
          "output_type": "stream",
          "name": "stdout",
          "text": [
            "/content/drive/MyDrive/yolo_custom_model_Training3/training_yolo_custom_object_detection_files-main\n"
          ]
        }
      ]
    },
    {
      "cell_type": "markdown",
      "source": [
        "15. ls 수행하여 4개의 파일이 존재하는지 확인하기 \n",
        "\n",
        "  1. creating-files-data-and-name.py\n",
        "  2. creating-train-and-test-txt-files.py\n",
        "  3. 'Custom Object detection live video.ipynb'\n",
        "  4. Rename_files.ipynb\n",
        "\n",
        "  - 역할 : 훈련시키기 전에 파일들의 이름을 바꾸고 변경하는 코드들 \n",
        "  "
      ],
      "metadata": {
        "id": "J_BA22pt2cSn"
      }
    },
    {
      "cell_type": "code",
      "source": [
        "# check out current dir files\n",
        "!ls"
      ],
      "metadata": {
        "colab": {
          "base_uri": "https://localhost:8080/"
        },
        "id": "JHT_PveI2gCL",
        "outputId": "b036d16a-1d60-4e50-9a4c-69bab4391a09"
      },
      "execution_count": null,
      "outputs": [
        {
          "output_type": "stream",
          "name": "stdout",
          "text": [
            " creating-files-data-and-name.py\n",
            " creating-train-and-test-txt-files.py\n",
            "'Custom Object detection live video.ipynb'\n",
            " Rename_files.ipynb\n"
          ]
        }
      ]
    },
    {
      "cell_type": "markdown",
      "source": [
        "16. 이미지와 라벨링된 텍스트가 있는 폴더(현재 custom_data)  로 위의 4개 파일중 .py file 2개를 복사합니다. \n",
        "\n",
        "- 훈련 데이터와 테스트 데이터파일의 목록(리스트)을 만드는 파일들임."
      ],
      "metadata": {
        "id": "T4YQyalS21s5"
      }
    },
    {
      "cell_type": "code",
      "source": [
        "# copy creating-train-and-test-txt-files.py & creating-files-data-and-name.py\n",
        "\"\"\"creating-train-and-test-txt-files.py >> create 'train.txt' & 'test.txt' files\n",
        "   creating-files-data-and-name.py >> create label 'labelled_data.data' file\n",
        "   <if you excute both .py files, you get mentioned files upper lines 2,3>\"\"\"\n",
        "\n",
        "!cp creating-train-and-test-txt-files.py /content/drive/MyDrive/yolo_custom_model_Training3/custom_data\n",
        "!cp creating-files-data-and-name.py /content/drive/MyDrive/yolo_custom_model_Training3/custom_data"
      ],
      "metadata": {
        "id": "bGT5nDao3Hpd"
      },
      "execution_count": null,
      "outputs": []
    },
    {
      "cell_type": "markdown",
      "source": [
        "17. 이미지와 라벨링 된 텍스트가 있는 폴더로 이동하기 \n",
        "- Parakeet_imgdata (폴더) "
      ],
      "metadata": {
        "id": "8-shAJwM3TZm"
      }
    },
    {
      "cell_type": "code",
      "source": [
        "%cd /content/drive/MyDrive/yolo_custom_model_Training3/custom_data"
      ],
      "metadata": {
        "colab": {
          "base_uri": "https://localhost:8080/"
        },
        "id": "yqLMBoVQ3bWe",
        "outputId": "f4f50568-05c1-4457-a24b-0b0c54f9e968"
      },
      "execution_count": null,
      "outputs": [
        {
          "output_type": "stream",
          "name": "stdout",
          "text": [
            "/content/drive/MyDrive/yolo_custom_model_Training3/custom_data\n"
          ]
        }
      ]
    },
    {
      "cell_type": "markdown",
      "source": [
        "18. 2개의 파이썬 코드의 내용 수정하기 \n",
        "\n",
        "- 참고로 폴더명 잘 확인하기 "
      ],
      "metadata": {
        "id": "YO8KxVRy3nDG"
      }
    },
    {
      "cell_type": "code",
      "source": [
        "# change paths in both .py files\n",
        "# 리눅스 명령어로 creating-train-and-test-txt-files.py 의 내용중 39 번째 라인에있는 디렉토리를 @다음인 custom_data 로 변경\n",
        "!sed -i '39 s@/home/my_name/Downloads/video-to-annotate@custom_data@' creating-train-and-test-txt-files.py\n",
        "# jpeg 를 현재파일형식인 jpg로 바꿈\n",
        "!sed -i '74 s@jpeg@jpg@' creating-train-and-test-txt-files.py\n",
        "# home/my_name/Downloads/video-to-annotate 을 custom_data 로 변경 \n",
        "!sed -i '36 s@/home/my_name/Downloads/video-to-annotate@custom_data@' creating-files-data-and-name.py"
      ],
      "metadata": {
        "id": "5bUyKVGJ4n6P"
      },
      "execution_count": null,
      "outputs": []
    },
    {
      "cell_type": "markdown",
      "source": [
        "19. 상위 디렉토리로 이동하기 "
      ],
      "metadata": {
        "id": "qggvV9MU4x-q"
      }
    },
    {
      "cell_type": "code",
      "source": [
        "%cd .."
      ],
      "metadata": {
        "colab": {
          "base_uri": "https://localhost:8080/"
        },
        "id": "B1vEF_hF40P0",
        "outputId": "0ce20870-307f-4644-8ad2-8dc3850b12f7"
      },
      "execution_count": null,
      "outputs": [
        {
          "output_type": "stream",
          "name": "stdout",
          "text": [
            "/content/drive/MyDrive/yolo_custom_model_Training3\n"
          ]
        }
      ]
    },
    {
      "cell_type": "markdown",
      "source": [
        "20.  creating-train-and-test-txt-files.py 를 수행하여   \n",
        " 훈련 데이터들(train.txt)목록과 테스트 데이터(test.txt)들의 목록을 생성합니다. \n",
        " - 즉. 훈련과 테스트를 나누는 것임. (본인이 스스로 랜덤으로 만들어 냄) "
      ],
      "metadata": {
        "id": "TUF4a_sO432V"
      }
    },
    {
      "cell_type": "code",
      "source": [
        "# excute .py file >> 'train.txt', 'test.txt'   \n",
        "!python custom_data/creating-train-and-test-txt-files.py"
      ],
      "metadata": {
        "id": "RkBHnIPh466L"
      },
      "execution_count": null,
      "outputs": []
    },
    {
      "cell_type": "markdown",
      "source": [
        "21. 정답데이터 (사랑앵무 ) 를 생성하기 \n",
        "- 훈련데이터 목록, 테스트데이터 목록, class 이름이 어디있는지 목록정보를 만들어 주는 py 파일을 실행한다. \n",
        "\n",
        "- 실행이 완료 된 뒤 custom_data 파일로 들어가 보면 laballed_data.data 라는 파일이 생성된것을 확인 할 수 있다. \n",
        "\n",
        "클릭해서 들어가보면 \n",
        "\n",
        "classes = 2   \n",
        "train = custom_data/train.txt   \n",
        "valid = custom_data/test.txt   \n",
        "names = custom_data/classes.names   \n",
        "backup = backup   \n",
        "\n",
        "의 내용들이 존재"
      ],
      "metadata": {
        "id": "cdo-duNe5PS6"
      }
    },
    {
      "cell_type": "code",
      "source": [
        "# excute .py file >> 'labelled_data.data'\n",
        "!python custom_data/creating-files-data-and-name.py"
      ],
      "metadata": {
        "id": "6IucT7ji5SKp"
      },
      "execution_count": null,
      "outputs": []
    },
    {
      "cell_type": "code",
      "source": [
        "%pwd"
      ],
      "metadata": {
        "colab": {
          "base_uri": "https://localhost:8080/",
          "height": 35
        },
        "id": "zR9V4RO_5XkT",
        "outputId": "77bc8085-0148-4b46-f67f-fa3e15831a4d"
      },
      "execution_count": null,
      "outputs": [
        {
          "output_type": "execute_result",
          "data": {
            "text/plain": [
              "'/content/drive/MyDrive/yolo_custom_model_Training3'"
            ],
            "application/vnd.google.colaboratory.intrinsic+json": {
              "type": "string"
            }
          },
          "metadata": {},
          "execution_count": 21
        }
      ]
    },
    {
      "cell_type": "markdown",
      "source": [
        "**yolov4.conv.137 다운받기(google검색) github** \n",
        "\n",
        "- yolo의 convolution 층 \n",
        "- /content/drive/MyDrive/yolo_custom_model_Training3 위치에다가 파일을 가져다 둡니다. "
      ],
      "metadata": {
        "id": "QsyfE3Isc5Kt"
      }
    },
    {
      "cell_type": "markdown",
      "source": [
        "22. 현재 디렉토리에 학습 시킨 후의 가중치를 저장할 **custom_weight** 폴더 생성하기 "
      ],
      "metadata": {
        "id": "qHvp_u295b_F"
      }
    },
    {
      "cell_type": "code",
      "source": [
        "# create directory 'custom_weight'\n",
        "!mkdir custom_weight"
      ],
      "metadata": {
        "id": "gXMjUYOu5hH4"
      },
      "execution_count": null,
      "outputs": []
    },
    {
      "cell_type": "markdown",
      "source": [
        "23. 현재 디렉토리 확인하기 \n",
        "\n",
        "- /content/drive/My Drive/yolo_custom_model_Training3  <-- 여기면 맞습니다."
      ],
      "metadata": {
        "id": "p3UNg0oH5mXH"
      }
    },
    {
      "cell_type": "code",
      "source": [
        "%pwd"
      ],
      "metadata": {
        "colab": {
          "base_uri": "https://localhost:8080/",
          "height": 35
        },
        "id": "urkZl9pr5qaX",
        "outputId": "22da61b2-e506-4f8a-aed4-d3c748b558db"
      },
      "execution_count": null,
      "outputs": [
        {
          "output_type": "execute_result",
          "data": {
            "text/plain": [
              "'/content/drive/MyDrive/yolo_custom_model_Training3'"
            ],
            "application/vnd.google.colaboratory.intrinsic+json": {
              "type": "string"
            }
          },
          "metadata": {},
          "execution_count": 23
        }
      ]
    },
    {
      "cell_type": "markdown",
      "source": [
        "***\n",
        "24. 현재 디렉토리의 목록 확인하기 \n",
        "\n",
        "-rw-------  1 root root    298344 Jul 14 05:44 bird_train_200.zip   \n",
        "drwx------  2 root root      4096 Jul 14 06:36 custom_data/   \n",
        "drwx------  2 root root      4096 Jul 14 06:48 **custom_weight/**   \n",
        "drwx------ 16 root root      4096 Jul 14 06:20 darknet/   \n",
        "drwx------  3 root root      4096 Jul 14 06:21    training_yolo_custom_object_detection_files-main/   \n",
        "-rw-------  1 root root 170038676 May  3 03:03 **yolov4.conv.137**\n",
        "\n",
        "- yolov4.conv.137 을 방금 만든 coustom_weight 파일에 이동하기 "
      ],
      "metadata": {
        "id": "fMUlQwg55tQG"
      }
    },
    {
      "cell_type": "code",
      "source": [
        "%ls -l"
      ],
      "metadata": {
        "colab": {
          "base_uri": "https://localhost:8080/"
        },
        "id": "YkFeywxd5wjZ",
        "outputId": "621c6974-cafe-4c33-c7cf-607f1cccf0a4"
      },
      "execution_count": null,
      "outputs": [
        {
          "output_type": "stream",
          "name": "stdout",
          "text": [
            "total 170656\n",
            "-rw-------  1 root root   4696189 Jul 19 07:37 all2_birds.zip\n",
            "drwx------  2 root root      4096 Jul 19 07:43 \u001b[0m\u001b[01;34mcustom_data\u001b[0m/\n",
            "drwx------  2 root root      4096 Jul 19 07:43 \u001b[01;34mcustom_weight\u001b[0m/\n",
            "drwx------ 16 root root      4096 Jul 19 07:41 \u001b[01;34mdarknet\u001b[0m/\n",
            "drwx------  3 root root      4096 Jul 19 07:42 \u001b[01;34mtraining_yolo_custom_object_detection_files-main\u001b[0m/\n",
            "-rw-------  1 root root 170038676 May  3 03:03 yolov4.conv.137\n"
          ]
        }
      ]
    },
    {
      "cell_type": "markdown",
      "source": [
        "25. 28. yolov4.conv.137 모델을 custom_weight 밑에 이동합니다. "
      ],
      "metadata": {
        "id": "0H20tz4G9Dul"
      }
    },
    {
      "cell_type": "code",
      "source": [
        "# move 'yolov4.conv.137' file to 'custom_weight' dir\n",
        "!mv /content/drive/MyDrive/yolo_custom_model_Training3/yolov4.conv.137 custom_weight/"
      ],
      "metadata": {
        "id": "ozWx7KYi9VMi"
      },
      "execution_count": null,
      "outputs": []
    },
    {
      "cell_type": "markdown",
      "source": [
        "27. /content/drive/MyDrive/yolo_custom_model_Training3/darknet/cfg 밑으로 이동합니다.\n",
        "\n",
        "- 다크넷 폴더 밑 cfg 밑에 yolo 의 환경 구성 파일들이 버전별로 존재한다 -> 그쪽으로 리눅스 명령어로 복사하는것 (object detection 을 구성하기 위한 것들 ) \n",
        "\n",
        "- custom.cfg 가 생성된것을 볼 수 있다. \n",
        "- 나중에 이것을 다운받게 될 것 \n",
        "\n"
      ],
      "metadata": {
        "id": "j3YTUb6w9XGo"
      }
    },
    {
      "cell_type": "code",
      "source": [
        "%cd /content/drive/MyDrive/yolo_custom_model_Training3/darknet/cfg"
      ],
      "metadata": {
        "colab": {
          "base_uri": "https://localhost:8080/"
        },
        "id": "TJ2h0CXg9bik",
        "outputId": "56c2674c-672d-4a93-e08a-4a915b17b896"
      },
      "execution_count": null,
      "outputs": [
        {
          "output_type": "stream",
          "name": "stdout",
          "text": [
            "/content/drive/MyDrive/yolo_custom_model_Training3/darknet/cfg\n"
          ]
        }
      ]
    },
    {
      "cell_type": "markdown",
      "source": [
        "28. yolov4.cfg를  yolov4_custom.cfg 로 복사합니다.\n",
        "\n",
        "- 나중에 yolov4_custom.cfg 다운 받을것! "
      ],
      "metadata": {
        "id": "dwrH4ix29ggP"
      }
    },
    {
      "cell_type": "code",
      "source": [
        "# copy yolov4.cfg file & rename & paste\n",
        "!cp yolov4.cfg yolov4_custom.cfg"
      ],
      "metadata": {
        "id": "desIBDXz9jr_"
      },
      "execution_count": null,
      "outputs": []
    },
    {
      "cell_type": "markdown",
      "source": [
        "**이제부터는 yolov4_custom.cfg 내용을 클래스 갯수와 이런저런 변수사항 생각하면서 수정해야함 !!!!**\n"
      ],
      "metadata": {
        "id": "HSV6_Xje9nRT"
      }
    },
    {
      "cell_type": "markdown",
      "source": [
        "29. 학습중 메모리 초과로 학습이 중단되는것을 막기 위해 다음과 같이 배치 사이즈를 조정합니다. "
      ],
      "metadata": {
        "id": "aY9ksn1u9vR5"
      }
    },
    {
      "cell_type": "code",
      "source": [
        "# change values for training\n",
        "!sed -i '2 s@batch=64@batch=8@' yolov4_custom.cfg # 64 로 돌리면 메모리 초과오류 날 수 있음 8로 변경 \n",
        "\n",
        "!sed -i '7 s@width=608@width=416@' yolov4_custom.cfg # 이미지의 가로 세로 변경 \n",
        "!sed -i '8 s@height=608@height=416@' yolov4_custom.cfg  \n",
        "\n",
        "!sed -i '19 s@500500@12000@' yolov4_custom.cfg  #maxbatch = class*2000 (클래스갯수 * 2000 )\n",
        "!sed -i '21 s@400000,450000@9600,10800@' yolov4_custom.cfg  # maxbatch*0.8, maxbatch*0.9\n",
        "\n",
        "# 기존코드에서는 클래스 갯수 80개 변경할 클래수 갯수는 6개 \n",
        "!sed -i '968 s@classes=80@classes=6@' yolov4_custom.cfg\n",
        "!sed -i '1056 s@classes=80@classes=6@' yolov4_custom.cfg\n",
        "!sed -i '1144 s@classes=80@classes=6@' yolov4_custom.cfg\n",
        "\n",
        "# 합성곱시 쓰이는 filter 의 갯수 \n",
        "!sed -i '961 s@filters=255@filters=33@' yolov4_custom.cfg  #filters=(4+1+classes)*3 \n",
        "!sed -i '1049 s@filters=255@filters=33@' yolov4_custom.cfg\n",
        "!sed -i '1137 s@filters=255@filters=33@' yolov4_custom.cfg"
      ],
      "metadata": {
        "id": "JUSbQGTx9zn5"
      },
      "execution_count": null,
      "outputs": []
    },
    {
      "cell_type": "markdown",
      "source": [
        "벡업 디렉토리를 생성하기 위해 디렉토리 이동하기 \n",
        "30. 폴더 위치 이동하기 /content/drive/MyDrive/yolo_custom_model_Training3 로 이동합니다.\n"
      ],
      "metadata": {
        "id": "nCWYSwy7lQC8"
      }
    },
    {
      "cell_type": "code",
      "source": [
        "%cd /content/drive/MyDrive/yolo_custom_model_Training3"
      ],
      "metadata": {
        "colab": {
          "base_uri": "https://localhost:8080/"
        },
        "id": "krw2Q1b98SOh",
        "outputId": "a4e266bc-d2ef-452e-93e7-b5c3842c2d92"
      },
      "execution_count": null,
      "outputs": [
        {
          "output_type": "stream",
          "name": "stdout",
          "text": [
            "/content/drive/MyDrive/yolo_custom_model_Training3\n"
          ]
        }
      ]
    },
    {
      "cell_type": "markdown",
      "source": [
        "31. 학습될 가중치를 저장할 backup 폴더 생성"
      ],
      "metadata": {
        "id": "iNc4nEPx8UVB"
      }
    },
    {
      "cell_type": "code",
      "source": [
        "!mkdir backup"
      ],
      "metadata": {
        "id": "GbcihqFg8Xgb"
      },
      "execution_count": null,
      "outputs": []
    },
    {
      "cell_type": "markdown",
      "source": [
        "32. /content/drive/MyDrive/yolo_custom_model_Training3 로 이동합니다."
      ],
      "metadata": {
        "id": "C2yck30_8Zq7"
      }
    },
    {
      "cell_type": "code",
      "source": [
        "%cd /content/drive/MyDrive/yolo_custom_model_Training3"
      ],
      "metadata": {
        "colab": {
          "base_uri": "https://localhost:8080/"
        },
        "id": "jE2N6DPx8bIy",
        "outputId": "430a344c-a44f-4067-9085-f7280752944a"
      },
      "execution_count": null,
      "outputs": [
        {
          "output_type": "stream",
          "name": "stdout",
          "text": [
            "/content/drive/MyDrive/yolo_custom_model_Training3\n"
          ]
        }
      ]
    },
    {
      "cell_type": "markdown",
      "source": [
        "33. 다크넷을 이용하여 학습 데이터 훈련 시키기 \n",
        "\n",
        "학습시 필요한 파일은   \n",
        "1. labelled_data.data  \n",
        "2. yolov4_custom.cfg\n",
        "3. yolov4.conv.137"
      ],
      "metadata": {
        "id": "egHXa2WF8fUl"
      }
    },
    {
      "cell_type": "code",
      "source": [
        "!darknet/darknet detector train custom_data/labelled_data.data darknet/cfg/yolov4_custom.cfg custom_weight/yolov4.conv.137 -dont_show"
      ],
      "metadata": {
        "colab": {
          "base_uri": "https://localhost:8080/"
        },
        "id": "kx8rbXGx8iP1",
        "outputId": "9e123e14-2a85-40b9-c483-93f9a4a755fe"
      },
      "execution_count": null,
      "outputs": [
        {
          "output_type": "stream",
          "name": "stdout",
          "text": [
            "/bin/bash: darknet/darknet: Permission denied\n"
          ]
        }
      ]
    },
    {
      "cell_type": "markdown",
      "source": [
        "**후에 반드시 로컬로 다운받아야 할 가중치와 cfg 파일 위치 !!!!**\n",
        "\n",
        "1. yolov4_custom.cfg    \n",
        "  - darknet/cfg/yolov4_custom.dfg\n",
        "2. 가중치!! (backup 밑에 있습니다. )    \n",
        "  - backup/yolov4_custom_last.weights \n",
        "\n"
      ],
      "metadata": {
        "id": "-knjGUc3XGcg"
      }
    },
    {
      "cell_type": "markdown",
      "source": [],
      "metadata": {
        "id": "hXbWnctRmsMS"
      }
    }
  ]
}